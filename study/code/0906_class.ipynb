{
 "cells": [
  {
   "cell_type": "code",
   "execution_count": null,
   "metadata": {},
   "outputs": [],
   "source": [
    "'''\n",
    "- 클래스는 객체의 구조와 행동을 정의한다\n",
    "- 객체의 클래스는 초기화를 통해 제어된다\n",
    "\n",
    "- 객체지향 프로그래밍(OOP)을 위해 사용\n",
    "- 추상화, 캡슐화(정보은닉), 상속, 다양성, 재사용성의 특성을 가진다\n",
    "- 유지보수를 편리하게 한다\n",
    "\n",
    "- 속성, 메소드, 생성자, 소멸자 등이 포함된다\n",
    "'''"
   ]
  },
  {
   "cell_type": "code",
   "execution_count": 1,
   "metadata": {
    "ExecuteTime": {
     "end_time": "2020-09-06T08:30:49.186126Z",
     "start_time": "2020-09-06T08:30:49.174166Z"
    }
   },
   "outputs": [],
   "source": [
    "# class 만들기\n",
    "class TestClass:\n",
    "    pass"
   ]
  },
  {
   "cell_type": "code",
   "execution_count": 3,
   "metadata": {
    "ExecuteTime": {
     "end_time": "2020-09-06T08:34:14.456196Z",
     "start_time": "2020-09-06T08:34:14.450994Z"
    }
   },
   "outputs": [],
   "source": [
    "# 인스턴스(Instantiation) 생성\n",
    "# 임시로 어떤 템플릿을 불러와서 그걸 다른 이름의 객체로 저장한다\n",
    "test_instance = TestClass()\n",
    "'''\n",
    "많은 인스턴스를 호출하는 것도 가능하다\n",
    "클래스는 템플릿이고, 이걸 각기 다른 용도로 사용할 수 있다\n",
    "'''\n",
    "test_instance1 = TestClass()\n",
    "test_instance2 = TestClass()\n",
    "test_instance3 = TestClass()"
   ]
  },
  {
   "cell_type": "code",
   "execution_count": 5,
   "metadata": {
    "ExecuteTime": {
     "end_time": "2020-09-06T08:37:47.123986Z",
     "start_time": "2020-09-06T08:37:47.118927Z"
    }
   },
   "outputs": [
    {
     "name": "stdout",
     "output_type": "stream",
     "text": [
      "<class '__main__.TestClass'>\n"
     ]
    }
   ],
   "source": [
    "# 객체 지향 프로그래밍(Object_Oriented Programming)\n",
    "'''\n",
    "클래스 인스턴스는 객체(object)라고도 하며,\n",
    "이렇게 클래스를 정의하고 객체를 만드는 패턴을 객체 지향 프로그래밍이라고 한다\n",
    "'''\n",
    "print(type(test_instance))\n",
    "'''\n",
    "파이썬에서 __main__은 \"현재 실행 중인 파일\"을 의미하므로,\n",
    "출력 결과는 \"이 스크립트에서 정의된,\n",
    "현재 실행중인 TestClass 클래스\"를 의미한다\n",
    "'''"
   ]
  },
  {
   "cell_type": "code",
   "execution_count": 6,
   "metadata": {
    "ExecuteTime": {
     "end_time": "2020-09-06T08:39:18.920467Z",
     "start_time": "2020-09-06T08:39:18.913490Z"
    }
   },
   "outputs": [
    {
     "name": "stdout",
     "output_type": "stream",
     "text": [
      "Rockstar\n",
      "Rockstar\n"
     ]
    }
   ],
   "source": [
    "# 클래스 변수(Class Variables)\n",
    "'''\n",
    "클래스를 정의할 때 그 안에서 변수를 정의하면 모든 인스턴스에서\n",
    "동일한 데이터를 사용할 수 있다\n",
    "'''\n",
    "class Musician:\n",
    "    title = 'Rockstar'\n",
    "\n",
    "drummer = Musician()\n",
    "guitarist = Musician()\n",
    "\n",
    "print(drummer.title)\n",
    "print(guitarist.title)"
   ]
  },
  {
   "cell_type": "code",
   "execution_count": 7,
   "metadata": {
    "ExecuteTime": {
     "end_time": "2020-09-06T08:42:59.175287Z",
     "start_time": "2020-09-06T08:42:59.168382Z"
    }
   },
   "outputs": [
    {
     "name": "stdout",
     "output_type": "stream",
     "text": [
      "I am a Rockstar!\n"
     ]
    }
   ],
   "source": [
    "# 메소드(Methods)\n",
    "# 클래스 안에서 정의된 함수, 첫 번째 인수를 항상 self로 지정해야 한다\n",
    "class Musician:\n",
    "    title = 'Rockstar'\n",
    "    \n",
    "    def explanation(self):\n",
    "        print(\"I am a {}!\".format(self.title))\n",
    "        \n",
    "drummer = Musician()\n",
    "drummer.explanation()"
   ]
  },
  {
   "cell_type": "code",
   "execution_count": 9,
   "metadata": {
    "ExecuteTime": {
     "end_time": "2020-09-06T08:45:00.977295Z",
     "start_time": "2020-09-06T08:45:00.971316Z"
    }
   },
   "outputs": [
    {
     "name": "stdout",
     "output_type": "stream",
     "text": [
      "113.04\n",
      "1017.36\n"
     ]
    }
   ],
   "source": [
    "class Circle():\n",
    "    pi = 3.14\n",
    "    \n",
    "    def area(self, radius):\n",
    "        return self.pi * radius ** 2\n",
    "    \n",
    "circle = Circle()\n",
    "\n",
    "pizza_area = circle.area(6)\n",
    "table_area = circle.area(18)\n",
    "\n",
    "print(pizza_area)\n",
    "print(table_area)"
   ]
  },
  {
   "cell_type": "code",
   "execution_count": 10,
   "metadata": {
    "ExecuteTime": {
     "end_time": "2020-09-06T08:46:54.192884Z",
     "start_time": "2020-09-06T08:46:54.187755Z"
    }
   },
   "outputs": [
    {
     "name": "stdout",
     "output_type": "stream",
     "text": [
      "HELLO?!\n"
     ]
    }
   ],
   "source": [
    "# 생성자(Constructor)\n",
    "'''\n",
    "클래스를 호출할 때 자동으로 어떤 함수를 실행하거나 값을 호출하고 싶다면\n",
    "생성자(Constructor)를 정의해야 한다\n",
    "메소드 이름으로 __init__을 사용하면 된다\n",
    "'''\n",
    "class Shouter:\n",
    "    def __init__(self):\n",
    "        print('HELLO?!')\n",
    "        \n",
    "shout = Shouter()"
   ]
  },
  {
   "cell_type": "code",
   "execution_count": 11,
   "metadata": {
    "ExecuteTime": {
     "end_time": "2020-09-06T08:48:12.054882Z",
     "start_time": "2020-09-06T08:48:12.050601Z"
    }
   },
   "outputs": [
    {
     "name": "stdout",
     "output_type": "stream",
     "text": [
      "New circle with radius: 18\n"
     ]
    }
   ],
   "source": [
    "class Circle:\n",
    "    pi = 3.14\n",
    "    \n",
    "    def __init__(self, radius):\n",
    "        print('New circle with radius: {}'.format(radius))\n",
    "        \n",
    "table = Circle(18)"
   ]
  },
  {
   "cell_type": "code",
   "execution_count": 12,
   "metadata": {
    "ExecuteTime": {
     "end_time": "2020-09-06T08:54:27.602338Z",
     "start_time": "2020-09-06T08:54:27.595361Z"
    }
   },
   "outputs": [
    {
     "name": "stdout",
     "output_type": "stream",
     "text": [
      "This works! This too!\n"
     ]
    }
   ],
   "source": [
    "# 인스턴스 변수(Instance Variables)\n",
    "'''\n",
    "객체를 구별해서 인스턴스를 생성하는 이유는 각 인스턴스가 다른 종류의 데이터,\n",
    "즉 인스턴스 변수를 보유할 수 있기 때문이다\n",
    "이렇게 각 객체가 보유한 데이터인 인스턴스 변수는\n",
    "해당 클래스의 모든 인스턴스가 공유하는 게 아니다\n",
    "'''\n",
    "class FakeDict:\n",
    "    pass\n",
    "\n",
    "fake_dict1 = FakeDict()\n",
    "fake_dict2 = FakeDict()\n",
    "\n",
    "fake_dict1.fake_key = 'This works!'\n",
    "fake_dict2.fake_key = 'This too!'\n",
    "\n",
    "working_string = '{} {}'.format(fake_dict1.fake_key, fake_dict2.fake_key)\n",
    "print(working_string)"
   ]
  },
  {
   "cell_type": "code",
   "execution_count": 13,
   "metadata": {
    "ExecuteTime": {
     "end_time": "2020-09-06T08:56:55.642077Z",
     "start_time": "2020-09-06T08:56:55.636007Z"
    }
   },
   "outputs": [
    {
     "name": "stdout",
     "output_type": "stream",
     "text": [
      "PARK\n",
      "KIM\n"
     ]
    }
   ],
   "source": [
    "# 인스턴스 변수의 활용, self\n",
    "'''\n",
    "인스턴스를 생성할 때 작동하는 생성자(constructor)를 활용해서\n",
    "인스턴스 변수를 생성하고 관리하면 편리하기 때문이다\n",
    "'''\n",
    "class AutoEmail:\n",
    "    def __init__(self, name):\n",
    "        self.name = name\n",
    "        \n",
    "mail_to_park = AutoEmail('PARK')\n",
    "mail_to_kim = AutoEmail('KIM')\n",
    "\n",
    "print(mail_to_park.name)\n",
    "print(mail_to_kim.name)"
   ]
  },
  {
   "cell_type": "code",
   "execution_count": 14,
   "metadata": {
    "ExecuteTime": {
     "end_time": "2020-09-06T08:59:02.491265Z",
     "start_time": "2020-09-06T08:59:02.484288Z"
    }
   },
   "outputs": [
    {
     "name": "stdout",
     "output_type": "stream",
     "text": [
      "안녕하세요 PARK 님\n",
      "안녕하세요 KIM 님\n"
     ]
    }
   ],
   "source": [
    "class AutoEmail:\n",
    "    intro = '안녕하세요'\n",
    "    \n",
    "    def __init__(self, name):\n",
    "        self.name = name\n",
    "        \n",
    "    def say_hello(self):\n",
    "        return '{intro} {name} 님'.format(intro=self.intro, name=self.name)\n",
    "    \n",
    "mail_to_park = AutoEmail('PARK')\n",
    "mail_to_kim = AutoEmail('KIM')\n",
    "\n",
    "print(mail_to_park.say_hello())\n",
    "print(mail_to_kim.say_hello())"
   ]
  },
  {
   "cell_type": "code",
   "execution_count": 19,
   "metadata": {
    "ExecuteTime": {
     "end_time": "2020-09-06T09:05:41.879215Z",
     "start_time": "2020-09-06T09:05:41.868252Z"
    }
   },
   "outputs": [
    {
     "name": "stdout",
     "output_type": "stream",
     "text": [
      "strong_robot 생성자 호출!\n",
      "robot 생성자 호출!\n",
      "robot 소멸자 호출!\n",
      "나의 이름은 hulk 입니다!\n",
      "나이는 3 입니다!\n",
      "sword 로 싸웁니다!\n"
     ]
    }
   ],
   "source": [
    "# 클래스 상속\n",
    "'''\n",
    "상속 받고 싶은 부모 클래스를 괄호 안에 입력한다\n",
    "상속을 받으면 부모 클래스의 모든 내용이 자식에게 전달된다(코드 재사용)\n",
    "자식 클래스에서 부모 클래스 메소드를 사용하기 위해 super()를 사용한다\n",
    "부모 클래스가 제공하는 메소드를 자식 클래스가 재정의 할 수 있다(오버라이딩)\n",
    "파이썬은 다중상속을 지원한다\n",
    "'''\n",
    "class Robot:\n",
    "    name = 'robot'\n",
    "    age = 0\n",
    "    def __init__(self, name, age):\n",
    "        print('robot 생성자 호출!')\n",
    "        self.name = name\n",
    "        self.age = age\n",
    "    def __del__(self):\n",
    "        print('robot 소멸자 호출!')\n",
    "    def info(self):\n",
    "        print('나의 이름은', self.name, '입니다!')\n",
    "        print('나이는', self.age, '입니다!')\n",
    "        \n",
    "class strong_robot(Robot):\n",
    "    weapon = 'gun'\n",
    "    def __init__(self, name, age, weapon):\n",
    "        print('strong_robot 생성자 호출!')\n",
    "        super().__init__(name, age)\n",
    "        self.weapon = weapon\n",
    "    def info(self):\n",
    "        super().info()\n",
    "        print(self.weapon, '로 싸웁니다!')\n",
    "        \n",
    "s = strong_robot('hulk', 3, 'sword')\n",
    "s.info()"
   ]
  },
  {
   "cell_type": "code",
   "execution_count": 23,
   "metadata": {
    "ExecuteTime": {
     "end_time": "2020-09-06T09:09:29.036897Z",
     "start_time": "2020-09-06T09:09:29.030920Z"
    }
   },
   "outputs": [
    {
     "name": "stdout",
     "output_type": "stream",
     "text": [
      "10\n",
      "20\n"
     ]
    }
   ],
   "source": [
    "# 파이썬 get, set 메소드 함수 사용\n",
    "class Test:\n",
    "    __data = 10\n",
    "    def getData(self):\n",
    "        return self.__data\n",
    "    def setData(self, data):\n",
    "        self.__data = data\n",
    "    \n",
    "t = Test()\n",
    "print(t.getData())\n",
    "t.setData(20)\n",
    "print(t.getData())"
   ]
  },
  {
   "cell_type": "code",
   "execution_count": 30,
   "metadata": {
    "ExecuteTime": {
     "end_time": "2020-09-06T10:18:07.686178Z",
     "start_time": "2020-09-06T10:18:07.677209Z"
    }
   },
   "outputs": [
    {
     "name": "stdout",
     "output_type": "stream",
     "text": [
      "True\n",
      "<__main__.Rectangle object at 0x000002009BECAE88>\n",
      "<__main__.Rectangle object at 0x000002009BBE9E88>\n",
      "2\n",
      "<__main__.Rectangle object at 0x000002009BEB0488>\n",
      "<__main__.Rectangle object at 0x000002009BBE9348>\n",
      "<__main__.Rectangle object at 0x000002009A889308>\n"
     ]
    }
   ],
   "source": [
    "# 정적 메소드와 클래스 메소드\n",
    "'''\n",
    "인스턴스 메소드가 객체의 인스턴스 필드를 self를 통해 엑세스할 수 있는 반면,\n",
    "정적 메소드는 이러한 self 파라미터를 갖지 않고 인스턴스 변수에 엑세스할 수 없다\n",
    "따라서, 정적 메소드는 보통 객체 필드와 독립적이지만 로직상 클래스 내에 포함되는\n",
    "메소드에 사용된다\n",
    "정적 메소드는 메소드 앞에 @staticmethod라는 Decorator를 표시하여 해당 메소드가\n",
    "정적 메소드임을 표시한다\n",
    "\n",
    "클래스 메소드는 메소드 앞에 @classmethod라는 Decorator를 표시하여 해당 메소드가\n",
    "클래스 메소드임을 표시한다\n",
    "클래스 메소드는 정적 메소드와 비슷한데, 객체 인스턴스를 의미하는 self 대신\n",
    "cls라는 클래스를 의미하는 파라미터를 전달받는다\n",
    "\n",
    "정적 메소드는 이러한 cls 파라미터를 전달받지 않는다\n",
    "클래스 메소드는 이렇게 전달받은 cls 파라미터를 통해 클래스 변수 등을 엑세스할 수 있다\n",
    "'''\n",
    "class Rectangle:\n",
    "    count = 0 # 클래스 변수\n",
    "    \n",
    "    def __init__(self, width, height):\n",
    "        self.width = width\n",
    "        self.height = height\n",
    "        Rectangle.count += 1\n",
    "        \n",
    "    # 인스턴스 메소드\n",
    "    def calcArea(self):\n",
    "        area = self.width * self.height\n",
    "        return area\n",
    "    \n",
    "    # 정적 메소드\n",
    "    @staticmethod\n",
    "    def isSquare(rectWidth, rectHeight):\n",
    "        return rectWidth == rectHeight\n",
    "    \n",
    "    # 클래스 메소드\n",
    "    @classmethod\n",
    "    def printCount(cls):\n",
    "        print(cls.count)\n",
    "        \n",
    "    # Special Method(Magic Method)\n",
    "    def __add__(self, other):\n",
    "        obj = Rectangle(self.width + other.width, self.height + other.height)\n",
    "        return obj\n",
    "    \n",
    "# 구현\n",
    "square = Rectangle.isSquare(5,5)\n",
    "print(square) # True\n",
    "\n",
    "rect1 = Rectangle(5,5)\n",
    "print(rect1)\n",
    "rect2 = Rectangle(2,5)\n",
    "print(rect2)\n",
    "rect1.printCount() # 2\n",
    "\n",
    "# Special method 구현\n",
    "r1 = Rectangle(10,5)\n",
    "print(r1)\n",
    "r2 = Rectangle(20,15)\n",
    "print(r2)\n",
    "r3 = r1 + r2 # __add__()가 호출\n",
    "print(r3)"
   ]
  },
  {
   "cell_type": "code",
   "execution_count": 31,
   "metadata": {
    "ExecuteTime": {
     "end_time": "2020-09-06T10:18:08.807612Z",
     "start_time": "2020-09-06T10:18:08.799638Z"
    }
   },
   "outputs": [
    {
     "name": "stdout",
     "output_type": "stream",
     "text": [
      "area =  6\n",
      "width =  10\n",
      "6\n",
      "6\n",
      "10 50\n"
     ]
    }
   ],
   "source": [
    "# 인스턴스 생성\n",
    "r = Rectangle(2,3)\n",
    "\n",
    "# 메소드 호출\n",
    "area = r.calcArea()\n",
    "print('area = ', area)\n",
    "\n",
    "# 인스턴스 변수 엑세스\n",
    "r.width = 10\n",
    "print('width = ', r.width)\n",
    "\n",
    "# 클래스 변수 엑세스\n",
    "print(Rectangle.count)\n",
    "print(r.count)\n",
    "\n",
    "# count 인스턴스 변수 생성\n",
    "Rectangle.count = 50\n",
    "r.count = 10\n",
    "print(r.count, Rectangle.count)"
   ]
  },
  {
   "cell_type": "code",
   "execution_count": null,
   "metadata": {},
   "outputs": [],
   "source": []
  }
 ],
 "metadata": {
  "kernelspec": {
   "display_name": "Tensorflow",
   "language": "python",
   "name": "tensorflow"
  },
  "language_info": {
   "codemirror_mode": {
    "name": "ipython",
    "version": 3
   },
   "file_extension": ".py",
   "mimetype": "text/x-python",
   "name": "python",
   "nbconvert_exporter": "python",
   "pygments_lexer": "ipython3",
   "version": "3.7.6"
  }
 },
 "nbformat": 4,
 "nbformat_minor": 4
}
