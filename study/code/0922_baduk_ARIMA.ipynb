{
 "cells": [
  {
   "cell_type": "code",
   "execution_count": 12,
   "metadata": {
    "ExecuteTime": {
     "end_time": "2020-09-22T04:43:04.200169Z",
     "start_time": "2020-09-22T04:43:04.195134Z"
    }
   },
   "outputs": [],
   "source": [
    "# library\n",
    "import matplotlib.pyplot as plt\n",
    "from PIL import Image\n",
    "import numpy as np\n",
    "import pandas as pd\n",
    "import warnings\n",
    "warnings.filterwarnings('ignore')\n",
    "\n",
    "from statsmodels.graphics.tsaplots import plot_acf, plot_pacf\n",
    "from statsmodels.tsa.stattools import adfuller\n",
    "from statsmodels.tsa.arima_model import ARIMA\n",
    "\n",
    "from sklearn.metrics import accuracy_score"
   ]
  },
  {
   "cell_type": "code",
   "execution_count": 16,
   "metadata": {
    "ExecuteTime": {
     "end_time": "2020-09-22T04:46:54.479947Z",
     "start_time": "2020-09-22T04:46:54.400867Z"
    }
   },
   "outputs": [
    {
     "name": "stdout",
     "output_type": "stream",
     "text": [
      "[27, 52, 78, 103, 129, 154, 180, 205, 231, 256, 282, 307, 333, 358, 384, 409, 435, 460, 486, 511]\n",
      "[710, 733]\n",
      "480\n",
      "[479, 439, 359, 239, 159, 39]\n",
      "474\n",
      "(474, 1)\n",
      "     data\n",
      "0     0.0\n",
      "1     1.0\n",
      "2     1.0\n",
      "3     1.0\n",
      "4     0.0\n",
      "..    ...\n",
      "469   0.0\n",
      "470   1.0\n",
      "471   0.0\n",
      "472   0.0\n",
      "473   1.0\n",
      "\n",
      "[474 rows x 1 columns]\n",
      "    data\n",
      "0    0.0\n",
      "1    0.0\n",
      "2    0.0\n",
      "3    0.0\n",
      "4    0.0\n",
      "5    1.0\n",
      "6    1.0\n",
      "7    0.0\n",
      "8    1.0\n",
      "9    0.0\n",
      "10   1.0\n",
      "11   0.0\n",
      "12   0.0\n",
      "13   1.0\n",
      "14   1.0\n",
      "15   0.0\n",
      "16   1.0\n",
      "17   0.0\n",
      "18   0.0\n",
      "19   1.0\n"
     ]
    }
   ],
   "source": [
    "# 사진으로부터 데이터 추출\n",
    "x_loc = [27]\n",
    "y_loc = [710, 733]\n",
    "for i in range(19):\n",
    "    x_loc.append(int(x_loc[0]+(25.5*(i+1))))\n",
    "print(x_loc)\n",
    "print(y_loc)\n",
    "\n",
    "data = []\n",
    "for i in range(12):\n",
    "    tmp = Image.open(f'baduk/baduk{i+1}.jpg')\n",
    "    black = tmp.convert('L')\n",
    "    pix = np.array(black)\n",
    "    for x in x_loc:\n",
    "        for y in y_loc:\n",
    "            data.append(pix[y][x])\n",
    "\n",
    "print(len(data))\n",
    "\n",
    "# 이상치 제거\n",
    "outlier = list(filter(lambda x: 10 < data[x] < 200, range(len(data))))\n",
    "outlier = sorted(outlier, reverse=True)\n",
    "print(outlier)\n",
    "\n",
    "for r in outlier:\n",
    "    del data[r]\n",
    "print(len(data))\n",
    "\n",
    "# 이진분류 데이터로 전처리\n",
    "for i in range(len(data)):\n",
    "    if data[i] <= 10:\n",
    "        data[i] = 0 # 흑색\n",
    "    if data[i] >= 200:\n",
    "        data[i] = 1 # 백색\n",
    "data = np.array(data)\n",
    "data = data.reshape(-1, 1)\n",
    "data = data.astype('float32')\n",
    "print(data.shape)\n",
    "\n",
    "df = pd.DataFrame(data)\n",
    "df.columns = ['data']\n",
    "test = pd.DataFrame(data[-20:])\n",
    "test.columns = ['data']\n",
    "print(df)\n",
    "print(test)"
   ]
  },
  {
   "cell_type": "code",
   "execution_count": 17,
   "metadata": {
    "ExecuteTime": {
     "end_time": "2020-09-22T04:47:00.489602Z",
     "start_time": "2020-09-22T04:47:00.286939Z"
    }
   },
   "outputs": [
    {
     "data": {
      "image/png": "[encoded data removed]",
      "text/plain": [
       "<Figure size 432x288 with 1 Axes>"
      ]
     },
     "metadata": {
      "needs_background": "light"
     },
     "output_type": "display_data"
    },
    {
     "data": {
      "image/png": "[encoded data removed]",
      "text/plain": [
       "<Figure size 432x288 with 1 Axes>"
      ]
     },
     "metadata": {
      "needs_background": "light"
     },
     "output_type": "display_data"
    }
   ],
   "source": [
    "# ACF, PACF plot\n",
    "plot_acf(df)\n",
    "plot_pacf(df)\n",
    "plt.show()"
   ]
  },
  {
   "cell_type": "code",
   "execution_count": 18,
   "metadata": {
    "ExecuteTime": {
     "end_time": "2020-09-22T04:47:02.108092Z",
     "start_time": "2020-09-22T04:47:02.065047Z"
    }
   },
   "outputs": [
    {
     "name": "stdout",
     "output_type": "stream",
     "text": [
      "원 데이터 ADF Statistic : -21.9554\n",
      "원 데이터 p-value :  0.0000\n",
      "1차 차분 ADF Statistic : -10.0279\n",
      "1차 차분 p-value :  0.0000\n"
     ]
    }
   ],
   "source": [
    "# 차분\n",
    "y = df['data']\n",
    "y_1diff = df.diff().dropna()['data']\n",
    "result = adfuller(y)\n",
    "print(f'원 데이터 ADF Statistic : {result[0] : .4f}')\n",
    "print(f'원 데이터 p-value : {result[1] : .4f}')\n",
    "result = adfuller(y_1diff)\n",
    "print(f'1차 차분 ADF Statistic : {result[0] : .4f}')\n",
    "print(f'1차 차분 p-value : {result[1] : .4f}')"
   ]
  },
  {
   "cell_type": "code",
   "execution_count": 19,
   "metadata": {
    "ExecuteTime": {
     "end_time": "2020-09-22T04:47:03.702579Z",
     "start_time": "2020-09-22T04:47:03.675070Z"
    },
    "scrolled": false
   },
   "outputs": [
    {
     "name": "stdout",
     "output_type": "stream",
     "text": [
      "                              ARMA Model Results                              \n",
      "==============================================================================\n",
      "Dep. Variable:                   data   No. Observations:                  474\n",
      "Model:                     ARMA(0, 0)   Log Likelihood                -343.755\n",
      "Method:                           css   S.D. of innovations              0.500\n",
      "Date:                Tue, 22 Sep 2020   AIC                            691.510\n",
      "Time:                        13:47:03   BIC                            699.832\n",
      "Sample:                             0   HQIC                           694.783\n",
      "                                                                              \n",
      "==============================================================================\n",
      "                 coef    std err          z      P>|z|      [0.025      0.975]\n",
      "------------------------------------------------------------------------------\n",
      "const          0.4831      0.023     21.049      0.000       0.438       0.528\n",
      "==============================================================================\n"
     ]
    }
   ],
   "source": [
    "# arima model\n",
    "model = ARIMA(df, order=(0,0,0))\n",
    "model_fit = model.fit()\n",
    "print(model_fit.summary())"
   ]
  },
  {
   "cell_type": "code",
   "execution_count": 21,
   "metadata": {
    "ExecuteTime": {
     "end_time": "2020-09-22T04:47:08.594276Z",
     "start_time": "2020-09-22T04:47:08.285170Z"
    }
   },
   "outputs": [
    {
     "data": {
      "image/png": "[encoded data removed]",
      "text/plain": [
       "<Figure size 432x288 with 1 Axes>"
      ]
     },
     "metadata": {
      "needs_background": "light"
     },
     "output_type": "display_data"
    }
   ],
   "source": [
    "# rolling forecast\n",
    "history = [x for x in df['data']]\n",
    "predictions = []\n",
    "for i in range(len(test)):\n",
    "    model = ARIMA(history, order=(0,0,0))\n",
    "    model_fit = model.fit()\n",
    "    output = model_fit.forecast()\n",
    "    yhat = output[0]\n",
    "    predictions.append(yhat)\n",
    "    tmp = test['data'][i]\n",
    "    history.append(tmp)\n",
    "    \n",
    "plt.plot(test.index, test['data'])\n",
    "plt.plot(test.index, predictions, color='red')\n",
    "plt.show()"
   ]
  },
  {
   "cell_type": "code",
   "execution_count": 22,
   "metadata": {
    "ExecuteTime": {
     "end_time": "2020-09-22T04:47:29.543295Z",
     "start_time": "2020-09-22T04:47:27.021700Z"
    }
   },
   "outputs": [
    {
     "data": {
      "text/html": [
       "<div>\n",
       "<style scoped>\n",
       "    .dataframe tbody tr th:only-of-type {\n",
       "        vertical-align: middle;\n",
       "    }\n",
       "\n",
       "    .dataframe tbody tr th {\n",
       "        vertical-align: top;\n",
       "    }\n",
       "\n",
       "    .dataframe thead th {\n",
       "        text-align: right;\n",
       "    }\n",
       "</style>\n",
       "<table border=\"1\" class=\"dataframe\">\n",
       "  <thead>\n",
       "    <tr style=\"text-align: right;\">\n",
       "      <th></th>\n",
       "      <th>order</th>\n",
       "      <th>AIC</th>\n",
       "    </tr>\n",
       "  </thead>\n",
       "  <tbody>\n",
       "    <tr>\n",
       "      <th>0</th>\n",
       "      <td>p0 d0 q0</td>\n",
       "      <td>691.509810</td>\n",
       "    </tr>\n",
       "    <tr>\n",
       "      <th>10</th>\n",
       "      <td>p1 d0 q1</td>\n",
       "      <td>692.797646</td>\n",
       "    </tr>\n",
       "    <tr>\n",
       "      <th>1</th>\n",
       "      <td>p0 d0 q1</td>\n",
       "      <td>693.438370</td>\n",
       "    </tr>\n",
       "    <tr>\n",
       "      <th>9</th>\n",
       "      <td>p1 d0 q0</td>\n",
       "      <td>693.444741</td>\n",
       "    </tr>\n",
       "    <tr>\n",
       "      <th>2</th>\n",
       "      <td>p0 d0 q2</td>\n",
       "      <td>694.355908</td>\n",
       "    </tr>\n",
       "    <tr>\n",
       "      <th>15</th>\n",
       "      <td>p2 d0 q0</td>\n",
       "      <td>694.543963</td>\n",
       "    </tr>\n",
       "    <tr>\n",
       "      <th>4</th>\n",
       "      <td>p0 d1 q1</td>\n",
       "      <td>697.238142</td>\n",
       "    </tr>\n",
       "    <tr>\n",
       "      <th>18</th>\n",
       "      <td>p2 d1 q2</td>\n",
       "      <td>698.709104</td>\n",
       "    </tr>\n",
       "    <tr>\n",
       "      <th>5</th>\n",
       "      <td>p0 d1 q2</td>\n",
       "      <td>699.130057</td>\n",
       "    </tr>\n",
       "    <tr>\n",
       "      <th>12</th>\n",
       "      <td>p1 d1 q1</td>\n",
       "      <td>699.140440</td>\n",
       "    </tr>\n",
       "    <tr>\n",
       "      <th>17</th>\n",
       "      <td>p2 d1 q1</td>\n",
       "      <td>700.134562</td>\n",
       "    </tr>\n",
       "    <tr>\n",
       "      <th>13</th>\n",
       "      <td>p1 d1 q2</td>\n",
       "      <td>701.235581</td>\n",
       "    </tr>\n",
       "    <tr>\n",
       "      <th>8</th>\n",
       "      <td>p0 d2 q2</td>\n",
       "      <td>713.864394</td>\n",
       "    </tr>\n",
       "    <tr>\n",
       "      <th>16</th>\n",
       "      <td>p2 d1 q0</td>\n",
       "      <td>857.267928</td>\n",
       "    </tr>\n",
       "    <tr>\n",
       "      <th>11</th>\n",
       "      <td>p1 d1 q0</td>\n",
       "      <td>899.929342</td>\n",
       "    </tr>\n",
       "    <tr>\n",
       "      <th>3</th>\n",
       "      <td>p0 d1 q0</td>\n",
       "      <td>1023.426810</td>\n",
       "    </tr>\n",
       "    <tr>\n",
       "      <th>7</th>\n",
       "      <td>p0 d2 q1</td>\n",
       "      <td>1030.429600</td>\n",
       "    </tr>\n",
       "    <tr>\n",
       "      <th>19</th>\n",
       "      <td>p2 d2 q0</td>\n",
       "      <td>1149.125419</td>\n",
       "    </tr>\n",
       "    <tr>\n",
       "      <th>14</th>\n",
       "      <td>p1 d2 q0</td>\n",
       "      <td>1261.863748</td>\n",
       "    </tr>\n",
       "    <tr>\n",
       "      <th>6</th>\n",
       "      <td>p0 d2 q0</td>\n",
       "      <td>1533.522286</td>\n",
       "    </tr>\n",
       "  </tbody>\n",
       "</table>\n",
       "</div>"
      ],
      "text/plain": [
       "       order          AIC\n",
       "0   p0 d0 q0   691.509810\n",
       "10  p1 d0 q1   692.797646\n",
       "1   p0 d0 q1   693.438370\n",
       "9   p1 d0 q0   693.444741\n",
       "2   p0 d0 q2   694.355908\n",
       "15  p2 d0 q0   694.543963\n",
       "4   p0 d1 q1   697.238142\n",
       "18  p2 d1 q2   698.709104\n",
       "5   p0 d1 q2   699.130057\n",
       "12  p1 d1 q1   699.140440\n",
       "17  p2 d1 q1   700.134562\n",
       "13  p1 d1 q2   701.235581\n",
       "8   p0 d2 q2   713.864394\n",
       "16  p2 d1 q0   857.267928\n",
       "11  p1 d1 q0   899.929342\n",
       "3   p0 d1 q0  1023.426810\n",
       "7   p0 d2 q1  1030.429600\n",
       "19  p2 d2 q0  1149.125419\n",
       "14  p1 d2 q0  1261.863748\n",
       "6   p0 d2 q0  1533.522286"
      ]
     },
     "execution_count": 22,
     "metadata": {},
     "output_type": "execute_result"
    }
   ],
   "source": [
    "def auto_arima(data, order, sort='AIC'):\n",
    "    order_lst = []\n",
    "    aic_lst = []\n",
    "    for p in range(order[0]):\n",
    "        for d in range(order[1]):\n",
    "            for q in range(order[2]):\n",
    "                model = ARIMA(data, order=(p,d,q))\n",
    "                try:\n",
    "                    model_fit = model.fit()\n",
    "                    c_order = f'p{p} d{d} q{q}'\n",
    "                    aic = model_fit.aic\n",
    "                    order_lst.append(c_order)\n",
    "                    aic_lst.append(aic)\n",
    "                except:\n",
    "                    pass\n",
    "    result_auto = pd.DataFrame(list(zip(order_lst, aic_lst)), columns=['order', 'AIC'])\n",
    "    result_auto.sort_values(sort, inplace=True)\n",
    "    return result_auto\n",
    "\n",
    "result = auto_arima(df, [3,3,3])\n",
    "result"
   ]
  },
  {
   "cell_type": "code",
   "execution_count": 29,
   "metadata": {
    "ExecuteTime": {
     "end_time": "2020-09-22T04:49:31.330969Z",
     "start_time": "2020-09-22T04:49:31.291838Z"
    }
   },
   "outputs": [
    {
     "name": "stdout",
     "output_type": "stream",
     "text": [
      "                              ARMA Model Results                              \n",
      "==============================================================================\n",
      "Dep. Variable:                   data   No. Observations:                  474\n",
      "Model:                     ARMA(0, 1)   Log Likelihood                -343.719\n",
      "Method:                       css-mle   S.D. of innovations              0.500\n",
      "Date:                Tue, 22 Sep 2020   AIC                            693.438\n",
      "Time:                        13:49:31   BIC                            705.922\n",
      "Sample:                             0   HQIC                           698.348\n",
      "                                                                              \n",
      "==============================================================================\n",
      "                 coef    std err          z      P>|z|      [0.025      0.975]\n",
      "------------------------------------------------------------------------------\n",
      "const          0.4831      0.023     21.325      0.000       0.439       0.528\n",
      "ma.L1.data    -0.0129      0.048     -0.267      0.789      -0.108       0.082\n",
      "                                    Roots                                    \n",
      "=============================================================================\n",
      "                  Real          Imaginary           Modulus         Frequency\n",
      "-----------------------------------------------------------------------------\n",
      "MA.1           77.5710           +0.0000j           77.5710            0.0000\n",
      "-----------------------------------------------------------------------------\n"
     ]
    }
   ],
   "source": [
    "model = ARIMA(df, order=(0,0,1))\n",
    "model_fit = model.fit()\n",
    "print(model_fit.summary())"
   ]
  },
  {
   "cell_type": "code",
   "execution_count": 37,
   "metadata": {
    "ExecuteTime": {
     "end_time": "2020-09-22T04:51:04.893589Z",
     "start_time": "2020-09-22T04:51:02.729597Z"
    }
   },
   "outputs": [
    {
     "data": {
      "image/png": "[encoded data removed]",
      "text/plain": [
       "<Figure size 432x288 with 1 Axes>"
      ]
     },
     "metadata": {
      "needs_background": "light"
     },
     "output_type": "display_data"
    }
   ],
   "source": [
    "# rolling forecast\n",
    "history = [x for x in df['data']]\n",
    "predictions = []\n",
    "for i in range(len(test)):\n",
    "    model = ARIMA(history, order=(0,2,1))\n",
    "    model_fit = model.fit()\n",
    "    output = model_fit.forecast()\n",
    "    yhat = output[0]\n",
    "    predictions.append(yhat)\n",
    "    tmp = test['data'][i]\n",
    "    history.append(tmp)\n",
    "    \n",
    "plt.plot(test.index, test['data'])\n",
    "plt.plot(test.index, predictions, color='red')\n",
    "plt.show()"
   ]
  }
 ],
 "metadata": {
  "kernelspec": {
   "display_name": "Tensorflow",
   "language": "python",
   "name": "tensorflow"
  },
  "language_info": {
   "codemirror_mode": {
    "name": "ipython",
    "version": 3
   },
   "file_extension": ".py",
   "mimetype": "text/x-python",
   "name": "python",
   "nbconvert_exporter": "python",
   "pygments_lexer": "ipython3",
   "version": "3.7.6"
  }
 },
 "nbformat": 4,
 "nbformat_minor": 4
}
