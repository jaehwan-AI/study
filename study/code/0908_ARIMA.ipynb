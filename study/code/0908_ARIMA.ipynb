{
 "cells": [
  {
   "cell_type": "code",
   "execution_count": null,
   "metadata": {
    "ExecuteTime": {
     "end_time": "2020-09-08T08:34:36.114489Z",
     "start_time": "2020-09-08T08:34:36.108511Z"
    }
   },
   "outputs": [],
   "source": [
    "# ARIMA\n",
    "'''\n",
    "Autoregressive Integrated Moving Average의 약자로,\n",
    "Autoregressive는 자기 회귀모형을 의미하고,\n",
    "Moving Average는 이동평균모형을 의미한다\n",
    "\n",
    "ARIMA는 자기회귀와 이동평군을 둘 다 고려하는 모형인데,\n",
    "ARMA와 ARIMA의 차이점은 ARIMA의 경우 시계열의 비정상성(Non-stationary)을\n",
    "설명하기 위해 관측치 간의 차분(Diffrance)을 사용한다는 것이다\n",
    "\n",
    "AR : 자기회귀(Autoregression). 이전 관측값의 오차항이 이후 관측값에 영향을\n",
    "     주는 모형이다.\n",
    "     기본 AR(1)식 -> X(t) = (theta)*X(t-1)+epsilon(t)\n",
    "     theta는 자기상관계수, epsilon은 white noise, Time lag는 1이상\n",
    "I : Integrated. 누적을 의미하는 것으로, 차분을 이용하는 시계열모형들에 붙이는\n",
    "    표현이다.\n",
    "MA : 이동평균(Moving Average). 관측값이 이전의 연속적인 오차항의 영향을 받는\n",
    "     모형이다.\n",
    "     기본 MA(1)식 -> X(t) = epsilon(t) - beta(1)*epsilon(t-1)\n",
    "     epsilon은 t시점의 오차항, beta는 이동평균계수\n",
    "\n",
    "현실에 존재하는 시계열자료는 불안정(Non-stationary)한 경우가 많다\n",
    "그런데 AR(p), MA(q) 모형이나, 이 둘을 합한 ARMA(p,q)모형으로는\n",
    "이러한 불안정성을 설명할 수 없다\n",
    "따라서 모형 그 자체에 이러한 비정상성을 제거하는 과정을 포함한 것이\n",
    "ARIMA모형이며 ARIMA(p, d, q)로 표현한다\n",
    "\n",
    "AR(p) = ARIMA(p, 0, 0)\n",
    "MA(q) = ARIMA(0, 0, q)\n",
    "ARMA(p,q) = ARIMA(p, 0, q)\n",
    "'''"
   ]
  },
  {
   "cell_type": "code",
   "execution_count": null,
   "metadata": {},
   "outputs": [],
   "source": [
    "# ARIMA hyperparameter\n",
    "'''\n",
    "ARIMA의 hyperparameter는 크게 3가지이다\n",
    "AR모형의 Lag를 의미하는 p, MA모형의 Lag를 의미하는 q,\n",
    "차분(Diffrence) 횟수를 의미하는 d\n",
    "보통 p,d,q 순서로 쓰며, 통상적으로 p+q<2, p*q=0인 값들을 많이 사용한다\n",
    "\n",
    "여기서 p*q=0이라 하면, 두 값 중 하나는 0이라는 것인데,\n",
    "ARIMA는 AR모형과 MA모형을 하나로 합친 것이지만 실제로 대부분의 시계열\n",
    "자료에서는 하나의 경향만을 강하게 띄기 때문에 이렇게 사용하는 것이\n",
    "더 잘 맞는다고 한다\n",
    "\n",
    "p,d,q를 정하는 방법\n",
    "-> 경험적으로 찾을 수 있지만, ACF plot과 PACF plot을 이용해서\n",
    "   AR과 MA의 모수를 추정할 수 있다\n",
    "-> ACF(Autocorrelation function) : Lag에 따른 관측치들 사이의 관련성을\n",
    "   측정하는 함수\n",
    "-> PACF(Parial autocorrelation function) : k 이외의 모든 다른 시점 관측치의\n",
    "   영향력을 배제하고 y(t)와 y(t-k) 두 관측치의 관련성을 측정하는 함수\n",
    "시계열 데이터가 AR의 특성을 띄는 경우, ACF는 천천히 감소하고\n",
    "PACF는 처음 시차를 제외하고 급격히 감소한다.\n",
    "반대로 MA의 특성을 띄는 경우, ACF는 급격히 감소하고 PACF는 천천히 감소한다\n",
    "급격히 감소하는 시차를 각 AR과 MA모형의 모수(p,q)로 사용할 수 있다\n",
    "또한, 데이터를 차분하여 ACF 및 PACF를 계산함으로써 적절한 차분횟수까지\n",
    "구할 수 있다\n",
    "'''"
   ]
  },
  {
   "cell_type": "code",
   "execution_count": 32,
   "metadata": {
    "ExecuteTime": {
     "end_time": "2020-09-08T09:03:48.675778Z",
     "start_time": "2020-09-08T09:03:48.671110Z"
    }
   },
   "outputs": [],
   "source": [
    "import pandas as pd\n",
    "import re\n",
    "from statsmodels.graphics.tsaplots import plot_acf, plot_pacf\n",
    "import matplotlib.pyplot as plt\n",
    "from statsmodels.tsa.arima_model import ARIMA"
   ]
  },
  {
   "cell_type": "code",
   "execution_count": 26,
   "metadata": {
    "ExecuteTime": {
     "end_time": "2020-09-08T09:02:31.240951Z",
     "start_time": "2020-09-08T09:02:31.219025Z"
    },
    "scrolled": true
   },
   "outputs": [
    {
     "data": {
      "text/html": [
       "<div>\n",
       "<style scoped>\n",
       "    .dataframe tbody tr th:only-of-type {\n",
       "        vertical-align: middle;\n",
       "    }\n",
       "\n",
       "    .dataframe tbody tr th {\n",
       "        vertical-align: top;\n",
       "    }\n",
       "\n",
       "    .dataframe thead th {\n",
       "        text-align: right;\n",
       "    }\n",
       "</style>\n",
       "<table border=\"1\" class=\"dataframe\">\n",
       "  <thead>\n",
       "    <tr style=\"text-align: right;\">\n",
       "      <th></th>\n",
       "      <th>date</th>\n",
       "      <th>close</th>\n",
       "    </tr>\n",
       "  </thead>\n",
       "  <tbody>\n",
       "    <tr>\n",
       "      <th>0</th>\n",
       "      <td>2020-06-25</td>\n",
       "      <td>51900</td>\n",
       "    </tr>\n",
       "    <tr>\n",
       "      <th>1</th>\n",
       "      <td>2020-06-26</td>\n",
       "      <td>53300</td>\n",
       "    </tr>\n",
       "    <tr>\n",
       "      <th>2</th>\n",
       "      <td>2020-06-29</td>\n",
       "      <td>52400</td>\n",
       "    </tr>\n",
       "    <tr>\n",
       "      <th>3</th>\n",
       "      <td>2020-06-30</td>\n",
       "      <td>52800</td>\n",
       "    </tr>\n",
       "    <tr>\n",
       "      <th>4</th>\n",
       "      <td>2020-07-01</td>\n",
       "      <td>52600</td>\n",
       "    </tr>\n",
       "    <tr>\n",
       "      <th>5</th>\n",
       "      <td>2020-07-02</td>\n",
       "      <td>52900</td>\n",
       "    </tr>\n",
       "    <tr>\n",
       "      <th>6</th>\n",
       "      <td>2020-07-03</td>\n",
       "      <td>53600</td>\n",
       "    </tr>\n",
       "    <tr>\n",
       "      <th>7</th>\n",
       "      <td>2020-07-06</td>\n",
       "      <td>55000</td>\n",
       "    </tr>\n",
       "    <tr>\n",
       "      <th>8</th>\n",
       "      <td>2020-07-07</td>\n",
       "      <td>53400</td>\n",
       "    </tr>\n",
       "    <tr>\n",
       "      <th>9</th>\n",
       "      <td>2020-07-08</td>\n",
       "      <td>53000</td>\n",
       "    </tr>\n",
       "    <tr>\n",
       "      <th>10</th>\n",
       "      <td>2020-07-09</td>\n",
       "      <td>52800</td>\n",
       "    </tr>\n",
       "    <tr>\n",
       "      <th>11</th>\n",
       "      <td>2020-07-10</td>\n",
       "      <td>52700</td>\n",
       "    </tr>\n",
       "    <tr>\n",
       "      <th>12</th>\n",
       "      <td>2020-07-13</td>\n",
       "      <td>53400</td>\n",
       "    </tr>\n",
       "    <tr>\n",
       "      <th>13</th>\n",
       "      <td>2020-07-14</td>\n",
       "      <td>53800</td>\n",
       "    </tr>\n",
       "    <tr>\n",
       "      <th>14</th>\n",
       "      <td>2020-07-15</td>\n",
       "      <td>54700</td>\n",
       "    </tr>\n",
       "    <tr>\n",
       "      <th>15</th>\n",
       "      <td>2020-07-16</td>\n",
       "      <td>53800</td>\n",
       "    </tr>\n",
       "    <tr>\n",
       "      <th>16</th>\n",
       "      <td>2020-07-17</td>\n",
       "      <td>54400</td>\n",
       "    </tr>\n",
       "    <tr>\n",
       "      <th>17</th>\n",
       "      <td>2020-07-20</td>\n",
       "      <td>54200</td>\n",
       "    </tr>\n",
       "    <tr>\n",
       "      <th>18</th>\n",
       "      <td>2020-07-21</td>\n",
       "      <td>55300</td>\n",
       "    </tr>\n",
       "    <tr>\n",
       "      <th>19</th>\n",
       "      <td>2020-07-22</td>\n",
       "      <td>54700</td>\n",
       "    </tr>\n",
       "    <tr>\n",
       "      <th>20</th>\n",
       "      <td>2020-07-23</td>\n",
       "      <td>54100</td>\n",
       "    </tr>\n",
       "    <tr>\n",
       "      <th>21</th>\n",
       "      <td>2020-07-24</td>\n",
       "      <td>54200</td>\n",
       "    </tr>\n",
       "    <tr>\n",
       "      <th>22</th>\n",
       "      <td>2020-07-27</td>\n",
       "      <td>55600</td>\n",
       "    </tr>\n",
       "    <tr>\n",
       "      <th>23</th>\n",
       "      <td>2020-07-28</td>\n",
       "      <td>58600</td>\n",
       "    </tr>\n",
       "    <tr>\n",
       "      <th>24</th>\n",
       "      <td>2020-07-29</td>\n",
       "      <td>59000</td>\n",
       "    </tr>\n",
       "    <tr>\n",
       "      <th>25</th>\n",
       "      <td>2020-07-30</td>\n",
       "      <td>59000</td>\n",
       "    </tr>\n",
       "    <tr>\n",
       "      <th>26</th>\n",
       "      <td>2020-07-31</td>\n",
       "      <td>57900</td>\n",
       "    </tr>\n",
       "    <tr>\n",
       "      <th>27</th>\n",
       "      <td>2020-08-03</td>\n",
       "      <td>56800</td>\n",
       "    </tr>\n",
       "    <tr>\n",
       "      <th>28</th>\n",
       "      <td>2020-08-04</td>\n",
       "      <td>57300</td>\n",
       "    </tr>\n",
       "    <tr>\n",
       "      <th>29</th>\n",
       "      <td>2020-08-05</td>\n",
       "      <td>56900</td>\n",
       "    </tr>\n",
       "    <tr>\n",
       "      <th>30</th>\n",
       "      <td>2020-08-06</td>\n",
       "      <td>58000</td>\n",
       "    </tr>\n",
       "    <tr>\n",
       "      <th>31</th>\n",
       "      <td>2020-08-07</td>\n",
       "      <td>57500</td>\n",
       "    </tr>\n",
       "    <tr>\n",
       "      <th>32</th>\n",
       "      <td>2020-08-10</td>\n",
       "      <td>57800</td>\n",
       "    </tr>\n",
       "    <tr>\n",
       "      <th>33</th>\n",
       "      <td>2020-08-11</td>\n",
       "      <td>58200</td>\n",
       "    </tr>\n",
       "    <tr>\n",
       "      <th>34</th>\n",
       "      <td>2020-08-12</td>\n",
       "      <td>59000</td>\n",
       "    </tr>\n",
       "    <tr>\n",
       "      <th>35</th>\n",
       "      <td>2020-08-13</td>\n",
       "      <td>58700</td>\n",
       "    </tr>\n",
       "    <tr>\n",
       "      <th>36</th>\n",
       "      <td>2020-08-14</td>\n",
       "      <td>58000</td>\n",
       "    </tr>\n",
       "    <tr>\n",
       "      <th>37</th>\n",
       "      <td>2020-08-18</td>\n",
       "      <td>58400</td>\n",
       "    </tr>\n",
       "    <tr>\n",
       "      <th>38</th>\n",
       "      <td>2020-08-19</td>\n",
       "      <td>57800</td>\n",
       "    </tr>\n",
       "    <tr>\n",
       "      <th>39</th>\n",
       "      <td>2020-08-20</td>\n",
       "      <td>55400</td>\n",
       "    </tr>\n",
       "    <tr>\n",
       "      <th>40</th>\n",
       "      <td>2020-08-21</td>\n",
       "      <td>55900</td>\n",
       "    </tr>\n",
       "    <tr>\n",
       "      <th>41</th>\n",
       "      <td>2020-08-24</td>\n",
       "      <td>56100</td>\n",
       "    </tr>\n",
       "    <tr>\n",
       "      <th>42</th>\n",
       "      <td>2020-08-25</td>\n",
       "      <td>56400</td>\n",
       "    </tr>\n",
       "    <tr>\n",
       "      <th>43</th>\n",
       "      <td>2020-08-26</td>\n",
       "      <td>56400</td>\n",
       "    </tr>\n",
       "    <tr>\n",
       "      <th>44</th>\n",
       "      <td>2020-08-27</td>\n",
       "      <td>55600</td>\n",
       "    </tr>\n",
       "    <tr>\n",
       "      <th>45</th>\n",
       "      <td>2020-08-28</td>\n",
       "      <td>55400</td>\n",
       "    </tr>\n",
       "    <tr>\n",
       "      <th>46</th>\n",
       "      <td>2020-08-31</td>\n",
       "      <td>54000</td>\n",
       "    </tr>\n",
       "    <tr>\n",
       "      <th>47</th>\n",
       "      <td>2020-09-01</td>\n",
       "      <td>54200</td>\n",
       "    </tr>\n",
       "    <tr>\n",
       "      <th>48</th>\n",
       "      <td>2020-09-02</td>\n",
       "      <td>54400</td>\n",
       "    </tr>\n",
       "    <tr>\n",
       "      <th>49</th>\n",
       "      <td>2020-09-03</td>\n",
       "      <td>56400</td>\n",
       "    </tr>\n",
       "  </tbody>\n",
       "</table>\n",
       "</div>"
      ],
      "text/plain": [
       "          date  close\n",
       "0   2020-06-25  51900\n",
       "1   2020-06-26  53300\n",
       "2   2020-06-29  52400\n",
       "3   2020-06-30  52800\n",
       "4   2020-07-01  52600\n",
       "5   2020-07-02  52900\n",
       "6   2020-07-03  53600\n",
       "7   2020-07-06  55000\n",
       "8   2020-07-07  53400\n",
       "9   2020-07-08  53000\n",
       "10  2020-07-09  52800\n",
       "11  2020-07-10  52700\n",
       "12  2020-07-13  53400\n",
       "13  2020-07-14  53800\n",
       "14  2020-07-15  54700\n",
       "15  2020-07-16  53800\n",
       "16  2020-07-17  54400\n",
       "17  2020-07-20  54200\n",
       "18  2020-07-21  55300\n",
       "19  2020-07-22  54700\n",
       "20  2020-07-23  54100\n",
       "21  2020-07-24  54200\n",
       "22  2020-07-27  55600\n",
       "23  2020-07-28  58600\n",
       "24  2020-07-29  59000\n",
       "25  2020-07-30  59000\n",
       "26  2020-07-31  57900\n",
       "27  2020-08-03  56800\n",
       "28  2020-08-04  57300\n",
       "29  2020-08-05  56900\n",
       "30  2020-08-06  58000\n",
       "31  2020-08-07  57500\n",
       "32  2020-08-10  57800\n",
       "33  2020-08-11  58200\n",
       "34  2020-08-12  59000\n",
       "35  2020-08-13  58700\n",
       "36  2020-08-14  58000\n",
       "37  2020-08-18  58400\n",
       "38  2020-08-19  57800\n",
       "39  2020-08-20  55400\n",
       "40  2020-08-21  55900\n",
       "41  2020-08-24  56100\n",
       "42  2020-08-25  56400\n",
       "43  2020-08-26  56400\n",
       "44  2020-08-27  55600\n",
       "45  2020-08-28  55400\n",
       "46  2020-08-31  54000\n",
       "47  2020-09-01  54200\n",
       "48  2020-09-02  54400\n",
       "49  2020-09-03  56400"
      ]
     },
     "execution_count": 26,
     "metadata": {},
     "output_type": "execute_result"
    }
   ],
   "source": [
    "samsung = pd.read_csv('samsung.csv')\n",
    "samsung = samsung[::-1]\n",
    "samsung = samsung.drop(['시가','고가','저가','거래량'], axis=1)\n",
    "samsung['종가'] = samsung['종가'].map(lambda x: int(re.sub(r',', '', x)))\n",
    "samsung = samsung.iloc[-50:, :]\n",
    "samsung.reset_index(drop=True, inplace=True)\n",
    "samsung.columns = ['date', 'close']\n",
    "samsung"
   ]
  },
  {
   "cell_type": "code",
   "execution_count": 27,
   "metadata": {
    "ExecuteTime": {
     "end_time": "2020-09-08T09:02:41.431857Z",
     "start_time": "2020-09-08T09:02:41.421867Z"
    }
   },
   "outputs": [
    {
     "name": "stdout",
     "output_type": "stream",
     "text": [
      "<class 'pandas.core.frame.DataFrame'>\n",
      "DatetimeIndex: 50 entries, 2020-06-25 to 2020-09-03\n",
      "Data columns (total 1 columns):\n",
      " #   Column  Non-Null Count  Dtype\n",
      "---  ------  --------------  -----\n",
      " 0   close   50 non-null     int64\n",
      "dtypes: int64(1)\n",
      "memory usage: 800.0 bytes\n",
      "None\n"
     ]
    }
   ],
   "source": [
    "samsung['date'] = pd.to_datetime(samsung.date, format='%Y-%m-%d')\n",
    "samsung = samsung.set_index('date')\n",
    "print(samsung.info())"
   ]
  },
  {
   "cell_type": "code",
   "execution_count": 28,
   "metadata": {
    "ExecuteTime": {
     "end_time": "2020-09-08T09:02:44.152943Z",
     "start_time": "2020-09-08T09:02:44.001752Z"
    }
   },
   "outputs": [
    {
     "data": {
      "text/plain": [
       "<AxesSubplot:xlabel='date'>"
      ]
     },
     "execution_count": 28,
     "metadata": {},
     "output_type": "execute_result"
    },
    {
     "data": {
      "image/png": "[encoded data removed]",
      "text/plain": [
       "<Figure size 432x288 with 1 Axes>"
      ]
     },
     "metadata": {
      "needs_background": "light"
     },
     "output_type": "display_data"
    }
   ],
   "source": [
    "samsung.plot()"
   ]
  },
  {
   "cell_type": "code",
   "execution_count": 33,
   "metadata": {
    "ExecuteTime": {
     "end_time": "2020-09-08T09:03:52.197015Z",
     "start_time": "2020-09-08T09:03:51.982707Z"
    }
   },
   "outputs": [
    {
     "data": {
      "image/png": "[encoded data removed]",
      "text/plain": [
       "<Figure size 432x288 with 1 Axes>"
      ]
     },
     "metadata": {
      "needs_background": "light"
     },
     "output_type": "display_data"
    },
    {
     "data": {
      "image/png": "[encoded data removed]",
      "text/plain": [
       "<Figure size 432x288 with 1 Axes>"
      ]
     },
     "metadata": {
      "needs_background": "light"
     },
     "output_type": "display_data"
    }
   ],
   "source": [
    "plot_acf(samsung)\n",
    "plot_pacf(samsung)\n",
    "plt.show()"
   ]
  },
  {
   "cell_type": "code",
   "execution_count": 35,
   "metadata": {
    "ExecuteTime": {
     "end_time": "2020-09-08T09:21:57.854724Z",
     "start_time": "2020-09-08T09:21:57.501353Z"
    }
   },
   "outputs": [
    {
     "data": {
      "image/png": "[encoded data removed]",
      "text/plain": [
       "<Figure size 432x288 with 1 Axes>"
      ]
     },
     "metadata": {
      "needs_background": "light"
     },
     "output_type": "display_data"
    },
    {
     "data": {
      "image/png": "[encoded data removed]",
      "text/plain": [
       "<Figure size 432x288 with 1 Axes>"
      ]
     },
     "metadata": {
      "needs_background": "light"
     },
     "output_type": "display_data"
    },
    {
     "data": {
      "image/png": "[encoded data removed]",
      "text/plain": [
       "<Figure size 432x288 with 1 Axes>"
      ]
     },
     "metadata": {
      "needs_background": "light"
     },
     "output_type": "display_data"
    }
   ],
   "source": [
    "'''\n",
    "ACF를 보면 12.5의 Time lag를 기준으로 자기상관이 양에서 음으로 변동한다\n",
    "PACF는 약 1의 Time lag에서 약 0.9를 보이고 이후에 급격히 감소한다\n",
    "따라서 p=0, q=1이 적당하다고 추측할 수 있다\n",
    "\n",
    "적절한 차분 차수의 계산을 위해 우선 1차 차분을 하고, ACF와 PACF를 다시 계산한다\n",
    "'''\n",
    "diff_1 = samsung.diff(periods=1).iloc[1:]\n",
    "diff_1.plot()\n",
    "plot_acf(diff_1)\n",
    "plot_pacf(diff_1)\n",
    "plt.show()"
   ]
  },
  {
   "cell_type": "code",
   "execution_count": 36,
   "metadata": {
    "ExecuteTime": {
     "end_time": "2020-09-08T09:24:49.576900Z",
     "start_time": "2020-09-08T09:24:49.502002Z"
    }
   },
   "outputs": [
    {
     "name": "stdout",
     "output_type": "stream",
     "text": [
      "                             ARIMA Model Results                              \n",
      "==============================================================================\n",
      "Dep. Variable:                D.close   No. Observations:                   49\n",
      "Model:                 ARIMA(0, 1, 1)   Log Likelihood                -404.594\n",
      "Method:                       css-mle   S.D. of innovations            932.665\n",
      "Date:                Tue, 08 Sep 2020   AIC                            815.187\n",
      "Time:                        18:24:49   BIC                            820.863\n",
      "Sample:                             1   HQIC                           817.340\n",
      "                                                                              \n",
      "=================================================================================\n",
      "                    coef    std err          z      P>|z|      [0.025      0.975]\n",
      "---------------------------------------------------------------------------------\n",
      "const            95.3278    140.406      0.679      0.497    -179.862     370.518\n",
      "ma.L1.D.close     0.0523      0.144      0.363      0.717      -0.230       0.335\n",
      "                                    Roots                                    \n",
      "=============================================================================\n",
      "                  Real          Imaginary           Modulus         Frequency\n",
      "-----------------------------------------------------------------------------\n",
      "MA.1          -19.1072           +0.0000j           19.1072            0.5000\n",
      "-----------------------------------------------------------------------------\n"
     ]
    },
    {
     "name": "stderr",
     "output_type": "stream",
     "text": [
      "c:\\users\\ilifo-028\\anaconda3\\lib\\site-packages\\statsmodels\\tsa\\base\\tsa_model.py:218: ValueWarning: A date index has been provided, but it has no associated frequency information and so will be ignored when e.g. forecasting.\n",
      "  ' ignored when e.g. forecasting.', ValueWarning)\n",
      "c:\\users\\ilifo-028\\anaconda3\\lib\\site-packages\\statsmodels\\tsa\\base\\tsa_model.py:218: ValueWarning: A date index has been provided, but it has no associated frequency information and so will be ignored when e.g. forecasting.\n",
      "  ' ignored when e.g. forecasting.', ValueWarning)\n"
     ]
    }
   ],
   "source": [
    "'''\n",
    "차분 이후의 ACF와 PACF를 보니, 시계열이 정상상태(Stationary)를 보이는 것으로\n",
    "생각되므로, 1차 차분만으로 충분할 것으로 판단된다\n",
    "따라서 본 데이터는 ARIMA(0,1,1)을 사용한다\n",
    "'''\n",
    "model = ARIMA(samsung, order=(0,1,1)) # freq='D'\n",
    "model_fit = model.fit(trend='c', full_output=True, disp=1)\n",
    "print(model_fit.summary())"
   ]
  },
  {
   "cell_type": "code",
   "execution_count": 37,
   "metadata": {
    "ExecuteTime": {
     "end_time": "2020-09-08T09:28:27.686482Z",
     "start_time": "2020-09-08T09:28:27.658579Z"
    },
    "scrolled": false
   },
   "outputs": [
    {
     "name": "stdout",
     "output_type": "stream",
     "text": [
      "                             ARIMA Model Results                              \n",
      "==============================================================================\n",
      "Dep. Variable:                D.close   No. Observations:                   49\n",
      "Model:                 ARIMA(0, 1, 1)   Log Likelihood                -404.824\n",
      "Method:                       css-mle   S.D. of innovations            937.057\n",
      "Date:                Tue, 08 Sep 2020   AIC                            813.648\n",
      "Time:                        18:28:27   BIC                            817.432\n",
      "Sample:                             1   HQIC                           815.083\n",
      "                                                                              \n",
      "=================================================================================\n",
      "                    coef    std err          z      P>|z|      [0.025      0.975]\n",
      "---------------------------------------------------------------------------------\n",
      "ma.L1.D.close     0.0545      0.144      0.378      0.705      -0.228       0.337\n",
      "                                    Roots                                    \n",
      "=============================================================================\n",
      "                  Real          Imaginary           Modulus         Frequency\n",
      "-----------------------------------------------------------------------------\n",
      "MA.1          -18.3575           +0.0000j           18.3575            0.5000\n",
      "-----------------------------------------------------------------------------\n"
     ]
    },
    {
     "name": "stderr",
     "output_type": "stream",
     "text": [
      "c:\\users\\ilifo-028\\anaconda3\\lib\\site-packages\\statsmodels\\tsa\\base\\tsa_model.py:218: ValueWarning: A date index has been provided, but it has no associated frequency information and so will be ignored when e.g. forecasting.\n",
      "  ' ignored when e.g. forecasting.', ValueWarning)\n",
      "c:\\users\\ilifo-028\\anaconda3\\lib\\site-packages\\statsmodels\\tsa\\base\\tsa_model.py:218: ValueWarning: A date index has been provided, but it has no associated frequency information and so will be ignored when e.g. forecasting.\n",
      "  ' ignored when e.g. forecasting.', ValueWarning)\n"
     ]
    }
   ],
   "source": [
    "'''\n",
    "'P>z'값이 일반적으로 학습의 적정성을 위해 확인하는 t-test값이다\n",
    "즉, p-value 0.05 수준에서 보면 MA(1)의 계수와 모형의 Constant는 유효하지 않다\n",
    "따라서, 위 코드에서 model.fit()의 파라미터 중 trend='c'가 아니라 'nc'로\n",
    "설정해주어야 한다\n",
    "'''\n",
    "model = ARIMA(samsung, order=(0,1,1)) # freq='D'\n",
    "model_fit = model.fit(trend='nc', full_output=True, disp=1)\n",
    "print(model_fit.summary())"
   ]
  },
  {
   "cell_type": "code",
   "execution_count": 47,
   "metadata": {
    "ExecuteTime": {
     "end_time": "2020-09-08T10:06:47.216839Z",
     "start_time": "2020-09-08T10:06:47.191415Z"
    }
   },
   "outputs": [
    {
     "name": "stdout",
     "output_type": "stream",
     "text": [
      "원 데이터 ADF Statistic : -2.0394\n",
      "원 데이터 p-value :  0.2696\n",
      "1차 차분 ADF Statistic : -4.9872\n",
      "1차 차분 p-value :  0.0000\n",
      "2차 차분 ADF Statistic : -5.8239\n",
      "2차 차분 p-value :  0.0000\n"
     ]
    }
   ],
   "source": [
    "# ADF(Augmented Dickey-Fuller) 검정\n",
    "from statsmodels.tsa.stattools import adfuller\n",
    "y = samsung['close']\n",
    "y_1diff = samsung.diff().dropna()['close']\n",
    "y_2diff = samsung.diff(2).dropna()['close']\n",
    "result = adfuller(y)\n",
    "print(f'원 데이터 ADF Statistic : {result[0] : .4f}')\n",
    "print(f'원 데이터 p-value : {result[1] : .4f}')\n",
    "result = adfuller(y_1diff)\n",
    "print(f'1차 차분 ADF Statistic : {result[0] : .4f}')\n",
    "print(f'1차 차분 p-value : {result[1] : .4f}')\n",
    "result = adfuller(y_2diff)\n",
    "print(f'2차 차분 ADF Statistic : {result[0] : .4f}')\n",
    "print(f'2차 차분 p-value : {result[1] : .4f}')"
   ]
  },
  {
   "cell_type": "code",
   "execution_count": 39,
   "metadata": {
    "ExecuteTime": {
     "end_time": "2020-09-08T09:29:27.108852Z",
     "start_time": "2020-09-08T09:29:26.973207Z"
    }
   },
   "outputs": [
    {
     "data": {
      "image/png": "[encoded data removed]",
      "text/plain": [
       "<Figure size 432x288 with 1 Axes>"
      ]
     },
     "metadata": {
      "needs_background": "light"
     },
     "output_type": "display_data"
    }
   ],
   "source": [
    "# prediction\n",
    "model_fit.plot_predict()\n",
    "plt.show()"
   ]
  },
  {
   "cell_type": "code",
   "execution_count": 40,
   "metadata": {
    "ExecuteTime": {
     "end_time": "2020-09-08T09:30:00.969948Z",
     "start_time": "2020-09-08T09:30:00.964062Z"
    }
   },
   "outputs": [
    {
     "name": "stdout",
     "output_type": "stream",
     "text": [
      "(array([56508.39827799]), array([937.05700959]), array([[54671.80028773, 58344.99626825]]))\n"
     ]
    }
   ],
   "source": [
    "preds = model_fit.forecast(steps=1)\n",
    "print(preds)\n",
    "# predict_value, stderr, upper bound, lower bound"
   ]
  },
  {
   "cell_type": "code",
   "execution_count": null,
   "metadata": {},
   "outputs": [],
   "source": [
    "'''\n",
    "최근 딥러닝, 인공지능 등의 트렌드와 함께 시계열분석에도 인공신경망이 널리\n",
    "사용되고 있다\n",
    "특히 시계열분석에는 RNN, LSTM 등을 이용할 수 있지만, 신경망 모델의 가장 큰\n",
    "단점은 아직 제대로 된 모형 해석이 거의 안된다는 점이다\n",
    "알고리즘적인 측면에서야 성능이 잘 나오면 되는거지만 데이터과학, 특히 의사결정\n",
    "지원 시스템(Decision support system)에서는 최종 결정권자는 사람이기에 모형이\n",
    "그렇게 예측한 근거가 필요하다\n",
    "이러한 관점에서 보았을 때, AR, MA등과 같은 고전적인 통계기반의 시계열분석법이\n",
    "아직은 조금 더 우위에 있지 않나 싶다\n",
    "'''"
   ]
  },
  {
   "cell_type": "code",
   "execution_count": null,
   "metadata": {},
   "outputs": [],
   "source": []
  }
 ],
 "metadata": {
  "kernelspec": {
   "display_name": "Tensorflow",
   "language": "python",
   "name": "tensorflow"
  },
  "language_info": {
   "codemirror_mode": {
    "name": "ipython",
    "version": 3
   },
   "file_extension": ".py",
   "mimetype": "text/x-python",
   "name": "python",
   "nbconvert_exporter": "python",
   "pygments_lexer": "ipython3",
   "version": "3.7.6"
  }
 },
 "nbformat": 4,
 "nbformat_minor": 4
}
