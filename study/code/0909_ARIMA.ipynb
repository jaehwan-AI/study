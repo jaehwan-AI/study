{
 "cells": [
  {
   "cell_type": "code",
   "execution_count": 1,
   "metadata": {
    "ExecuteTime": {
     "end_time": "2020-09-09T07:05:35.438992Z",
     "start_time": "2020-09-09T07:05:35.432018Z"
    }
   },
   "outputs": [
    {
     "name": "stdout",
     "output_type": "stream",
     "text": [
      "\n"
     ]
    }
   ],
   "source": [
    "# ARIMA\n",
    "'''\n",
    "Autoregressive Integrated Moving Average의 약자로,\n",
    "Autoregressive는 자기 회귀모형을 의미하고,\n",
    "Moving Average는 이동평균모형을 의미한다\n",
    "\n",
    "ARIMA는 자기회귀와 이동평군을 둘 다 고려하는 모형인데,\n",
    "ARMA와 ARIMA의 차이점은 ARIMA의 경우 시계열의 비정상성(Non-stationary)을\n",
    "설명하기 위해 관측치 간의 차분(Diffrance)을 사용한다는 것이다\n",
    "\n",
    "* 정상성(Stationary) : 시간에 따른 평균, 분산, 특정 시차 간의 공분산이 시간에 따라 변하지 않는 경우\n",
    "\n",
    "AR : 자기회귀(Autoregression). 현재의 데이터를 과거의 데이터의 선형 결합으로 설명한다\n",
    "     오늘의 값은 어제의 값 자체에 영향을 받는다. 만약 계수가 양수이면 어제의 값이 큰 값이면\n",
    "     오늘의 값도 큰 값을 가지며, 음수이면 어제의 값이 큰 값이면 오늘의 값은 작은 값이 된다\n",
    "     기본 AR(1)식 -> X(t) = (theta)*X(t-1)+epsilon(t)\n",
    "     theta는 자기상관계수, epsilon은 백색소음(white noise), Time lag는 1이상\n",
    "     \n",
    "I : Integrated. 누적을 의미하는 것으로, 차분을 이용하는 시계열모형들에 붙이는\n",
    "    표현이다. 차분은 정상 시계열이 아닌 데이터를 정상화시키는 방법 중 하나이다\n",
    "    1차 차분은 단순히 현재 시간과 그 전 시간의 차이다(즉, 속도 개념).\n",
    "    예를 들어 추세가 있어 증가 혹은 감소가 있는 시계열은 정상성이지 않지만 그 증가 속도, 감소 속도가\n",
    "    일정하다면 1차 차분을 통해서 정상화시킬 수 있다. 2차 차분은 속도와 속도의 차이이므로\n",
    "    가속도 정도로 생각할 수 있다\n",
    "    \n",
    "MA : 이동평균(Moving Average). 현재의 데이터를 과거 데이터의 오차항의 선형 결합으로 설명한다\n",
    "     오늘의 값은 어제의 값의 오차항에 영향을 받는다. 계수가 양수이면, 어제의 값이 상승하는 추세이면,\n",
    "     오늘의 값도 상승하는 추세이다. 반대로 음수이면, 어제의 값이 상승하는 추세이면,\n",
    "     오늘의 값은 하강한다\n",
    "     기본 MA(1)식 -> X(t) = epsilon(t) - beta(1)*epsilon(t-1)\n",
    "     epsilon은 t시점의 오차항, beta는 이동평균계수\n",
    "\n",
    "현실에 존재하는 시계열자료는 불안정(Non-stationary)한 경우가 많다\n",
    "그런데 AR(p), MA(q) 모형이나, 이 둘을 합한 ARMA(p,q)모형으로는\n",
    "이러한 불안정성을 설명할 수 없다\n",
    "따라서 모형 그 자체에 이러한 비정상성을 제거하는 과정을 포함한 것이\n",
    "ARIMA모형이며 ARIMA(p, d, q)로 표현한다\n",
    "\n",
    "AR(p) = ARIMA(p, 0, 0)\n",
    "MA(q) = ARIMA(0, 0, q)\n",
    "ARMA(p,q) = ARIMA(p, 0, q)\n",
    "'''\n",
    "print()"
   ]
  },
  {
   "cell_type": "code",
   "execution_count": 19,
   "metadata": {
    "ExecuteTime": {
     "end_time": "2020-09-09T07:06:19.071526Z",
     "start_time": "2020-09-09T07:06:19.066578Z"
    }
   },
   "outputs": [],
   "source": [
    "import pandas as pd\n",
    "import re\n",
    "import warnings\n",
    "warnings.filterwarnings('ignore')\n",
    "from statsmodels.graphics.tsaplots import plot_acf, plot_pacf\n",
    "import matplotlib.pyplot as plt\n",
    "from statsmodels.tsa.arima_model import ARIMA"
   ]
  },
  {
   "cell_type": "code",
   "execution_count": 25,
   "metadata": {
    "ExecuteTime": {
     "end_time": "2020-09-09T07:35:01.018752Z",
     "start_time": "2020-09-09T07:35:00.998775Z"
    },
    "scrolled": false
   },
   "outputs": [
    {
     "data": {
      "text/html": [
       "<div>\n",
       "<style scoped>\n",
       "    .dataframe tbody tr th:only-of-type {\n",
       "        vertical-align: middle;\n",
       "    }\n",
       "\n",
       "    .dataframe tbody tr th {\n",
       "        vertical-align: top;\n",
       "    }\n",
       "\n",
       "    .dataframe thead th {\n",
       "        text-align: right;\n",
       "    }\n",
       "</style>\n",
       "<table border=\"1\" class=\"dataframe\">\n",
       "  <thead>\n",
       "    <tr style=\"text-align: right;\">\n",
       "      <th></th>\n",
       "      <th>date</th>\n",
       "      <th>close</th>\n",
       "    </tr>\n",
       "  </thead>\n",
       "  <tbody>\n",
       "    <tr>\n",
       "      <th>0</th>\n",
       "      <td>2020-08-06</td>\n",
       "      <td>58000</td>\n",
       "    </tr>\n",
       "    <tr>\n",
       "      <th>1</th>\n",
       "      <td>2020-08-07</td>\n",
       "      <td>57500</td>\n",
       "    </tr>\n",
       "    <tr>\n",
       "      <th>2</th>\n",
       "      <td>2020-08-10</td>\n",
       "      <td>57800</td>\n",
       "    </tr>\n",
       "    <tr>\n",
       "      <th>3</th>\n",
       "      <td>2020-08-11</td>\n",
       "      <td>58200</td>\n",
       "    </tr>\n",
       "    <tr>\n",
       "      <th>4</th>\n",
       "      <td>2020-08-12</td>\n",
       "      <td>59000</td>\n",
       "    </tr>\n",
       "    <tr>\n",
       "      <th>5</th>\n",
       "      <td>2020-08-13</td>\n",
       "      <td>58700</td>\n",
       "    </tr>\n",
       "    <tr>\n",
       "      <th>6</th>\n",
       "      <td>2020-08-14</td>\n",
       "      <td>58000</td>\n",
       "    </tr>\n",
       "    <tr>\n",
       "      <th>7</th>\n",
       "      <td>2020-08-18</td>\n",
       "      <td>58400</td>\n",
       "    </tr>\n",
       "    <tr>\n",
       "      <th>8</th>\n",
       "      <td>2020-08-19</td>\n",
       "      <td>57800</td>\n",
       "    </tr>\n",
       "    <tr>\n",
       "      <th>9</th>\n",
       "      <td>2020-08-20</td>\n",
       "      <td>55400</td>\n",
       "    </tr>\n",
       "    <tr>\n",
       "      <th>10</th>\n",
       "      <td>2020-08-21</td>\n",
       "      <td>55900</td>\n",
       "    </tr>\n",
       "    <tr>\n",
       "      <th>11</th>\n",
       "      <td>2020-08-24</td>\n",
       "      <td>56100</td>\n",
       "    </tr>\n",
       "    <tr>\n",
       "      <th>12</th>\n",
       "      <td>2020-08-25</td>\n",
       "      <td>56400</td>\n",
       "    </tr>\n",
       "    <tr>\n",
       "      <th>13</th>\n",
       "      <td>2020-08-26</td>\n",
       "      <td>56400</td>\n",
       "    </tr>\n",
       "    <tr>\n",
       "      <th>14</th>\n",
       "      <td>2020-08-27</td>\n",
       "      <td>55600</td>\n",
       "    </tr>\n",
       "    <tr>\n",
       "      <th>15</th>\n",
       "      <td>2020-08-28</td>\n",
       "      <td>55400</td>\n",
       "    </tr>\n",
       "    <tr>\n",
       "      <th>16</th>\n",
       "      <td>2020-08-31</td>\n",
       "      <td>54000</td>\n",
       "    </tr>\n",
       "    <tr>\n",
       "      <th>17</th>\n",
       "      <td>2020-09-01</td>\n",
       "      <td>54200</td>\n",
       "    </tr>\n",
       "    <tr>\n",
       "      <th>18</th>\n",
       "      <td>2020-09-02</td>\n",
       "      <td>54400</td>\n",
       "    </tr>\n",
       "    <tr>\n",
       "      <th>19</th>\n",
       "      <td>2020-09-03</td>\n",
       "      <td>56400</td>\n",
       "    </tr>\n",
       "  </tbody>\n",
       "</table>\n",
       "</div>"
      ],
      "text/plain": [
       "          date  close\n",
       "0   2020-08-06  58000\n",
       "1   2020-08-07  57500\n",
       "2   2020-08-10  57800\n",
       "3   2020-08-11  58200\n",
       "4   2020-08-12  59000\n",
       "5   2020-08-13  58700\n",
       "6   2020-08-14  58000\n",
       "7   2020-08-18  58400\n",
       "8   2020-08-19  57800\n",
       "9   2020-08-20  55400\n",
       "10  2020-08-21  55900\n",
       "11  2020-08-24  56100\n",
       "12  2020-08-25  56400\n",
       "13  2020-08-26  56400\n",
       "14  2020-08-27  55600\n",
       "15  2020-08-28  55400\n",
       "16  2020-08-31  54000\n",
       "17  2020-09-01  54200\n",
       "18  2020-09-02  54400\n",
       "19  2020-09-03  56400"
      ]
     },
     "execution_count": 25,
     "metadata": {},
     "output_type": "execute_result"
    }
   ],
   "source": [
    "samsung = pd.read_csv('samsung.csv')\n",
    "samsung = samsung[::-1]\n",
    "samsung = samsung.drop(['시가','고가','저가','거래량'], axis=1)\n",
    "samsung['종가'] = samsung['종가'].map(lambda x: int(re.sub(r',', '', x)))\n",
    "test = samsung.iloc[-20:, :]\n",
    "samsung = samsung.iloc[-120:-20, :]\n",
    "test.reset_index(drop=True, inplace=True)\n",
    "samsung.reset_index(drop=True, inplace=True)\n",
    "samsung.columns = ['date', 'close']\n",
    "test.columns = ['date', 'close']\n",
    "samsung\n",
    "test"
   ]
  },
  {
   "cell_type": "code",
   "execution_count": 26,
   "metadata": {
    "ExecuteTime": {
     "end_time": "2020-09-09T07:35:35.122648Z",
     "start_time": "2020-09-09T07:35:35.111555Z"
    }
   },
   "outputs": [
    {
     "name": "stdout",
     "output_type": "stream",
     "text": [
      "<class 'pandas.core.frame.DataFrame'>\n",
      "DatetimeIndex: 100 entries, 2020-03-13 to 2020-08-05\n",
      "Data columns (total 1 columns):\n",
      " #   Column  Non-Null Count  Dtype\n",
      "---  ------  --------------  -----\n",
      " 0   close   100 non-null    int64\n",
      "dtypes: int64(1)\n",
      "memory usage: 1.6 KB\n",
      "None\n"
     ]
    }
   ],
   "source": [
    "samsung['date'] = pd.to_datetime(samsung.date, format='%Y-%m-%d')\n",
    "samsung = samsung.set_index('date')\n",
    "print(samsung.info())\n",
    "\n",
    "test['date'] = pd.to_datetime(test.date, format='%Y-%m-%d')\n",
    "test = test.set_index('date')"
   ]
  },
  {
   "cell_type": "code",
   "execution_count": 5,
   "metadata": {
    "ExecuteTime": {
     "end_time": "2020-09-09T07:05:36.773617Z",
     "start_time": "2020-09-09T07:05:36.611011Z"
    },
    "scrolled": true
   },
   "outputs": [
    {
     "data": {
      "text/plain": [
       "<AxesSubplot:xlabel='date'>"
      ]
     },
     "execution_count": 5,
     "metadata": {},
     "output_type": "execute_result"
    },
    {
     "data": {
      "image/png": "[encoded data removed]",
      "text/plain": [
       "<Figure size 432x288 with 1 Axes>"
      ]
     },
     "metadata": {
      "needs_background": "light"
     },
     "output_type": "display_data"
    }
   ],
   "source": [
    "samsung.plot()"
   ]
  },
  {
   "cell_type": "code",
   "execution_count": 6,
   "metadata": {
    "ExecuteTime": {
     "end_time": "2020-09-09T07:05:36.970837Z",
     "start_time": "2020-09-09T07:05:36.775658Z"
    }
   },
   "outputs": [
    {
     "data": {
      "image/png": "[encoded data removed]",
      "text/plain": [
       "<Figure size 432x288 with 1 Axes>"
      ]
     },
     "metadata": {
      "needs_background": "light"
     },
     "output_type": "display_data"
    },
    {
     "data": {
      "image/png": "[encoded data removed]",
      "text/plain": [
       "<Figure size 432x288 with 1 Axes>"
      ]
     },
     "metadata": {
      "needs_background": "light"
     },
     "output_type": "display_data"
    }
   ],
   "source": [
    "# ARIMA hyperparameter\n",
    "'''\n",
    "ARIMA의 hyperparameter는 크게 3가지이다\n",
    "AR모형의 Lag를 의미하는 p, MA모형의 Lag를 의미하는 q,\n",
    "차분(Diffrence) 횟수를 의미하는 d\n",
    "보통 p,d,q 순서로 쓰며, 통상적으로 p+q<2, p*q=0인 값들을 많이 사용한다\n",
    "\n",
    "여기서 p*q=0이라 하면, 두 값 중 하나는 0이라는 것인데,\n",
    "ARIMA는 AR모형과 MA모형을 하나로 합친 것이지만 실제로 대부분의 시계열\n",
    "자료에서는 하나의 경향만을 강하게 띄기 때문에 이렇게 사용하는 것이\n",
    "더 잘 맞는다고 한다\n",
    "\n",
    "p,d,q를 정하는 방법\n",
    "-> 경험적으로 찾을 수 있지만, ACF plot과 PACF plot을 이용해서\n",
    "   AR과 MA의 모수를 추정할 수 있다\n",
    "-> ACF(Autocorrelation function) : Lag에 따른 관측치들 사이의 관련성을\n",
    "   측정하는 함수\n",
    "-> PACF(Parial autocorrelation function) : k 이외의 모든 다른 시점 관측치의\n",
    "   영향력을 배제하고 y(t)와 y(t-k) 두 관측치의 관련성을 측정하는 함수\n",
    "시계열 데이터가 AR의 특성을 띄는 경우, ACF는 천천히 감소하고\n",
    "PACF는 처음 시차를 제외하고 급격히 감소한다.\n",
    "반대로 MA의 특성을 띄는 경우, ACF는 급격히 감소하고 PACF는 천천히 감소한다\n",
    "급격히 감소하는 시차를 각 AR과 MA모형의 모수(p,q)로 사용할 수 있다\n",
    "또한, 데이터를 차분하여 ACF 및 PACF를 계산함으로써 적절한 차분횟수까지\n",
    "구할 수 있다\n",
    "'''\n",
    "from statsmodels.graphics.tsaplots import plot_acf, plot_pacf\n",
    "plot_acf(samsung) # ACF plot\n",
    "plot_pacf(samsung) # PACF plot\n",
    "plt.show()"
   ]
  },
  {
   "cell_type": "code",
   "execution_count": 7,
   "metadata": {
    "ExecuteTime": {
     "end_time": "2020-09-09T07:05:37.273070Z",
     "start_time": "2020-09-09T07:05:36.973746Z"
    }
   },
   "outputs": [
    {
     "data": {
      "image/png": "[encoded data removed]",
      "text/plain": [
       "<Figure size 432x288 with 1 Axes>"
      ]
     },
     "metadata": {
      "needs_background": "light"
     },
     "output_type": "display_data"
    },
    {
     "data": {
      "image/png": "[encoded data removed]",
      "text/plain": [
       "<Figure size 432x288 with 1 Axes>"
      ]
     },
     "metadata": {
      "needs_background": "light"
     },
     "output_type": "display_data"
    },
    {
     "data": {
      "image/png": "[encoded data removed]",
      "text/plain": [
       "<Figure size 432x288 with 1 Axes>"
      ]
     },
     "metadata": {
      "needs_background": "light"
     },
     "output_type": "display_data"
    }
   ],
   "source": [
    "'''\n",
    "ACF를 보면 12.5의 Time lag를 기준으로 자기상관이 양에서 음으로 변동한다\n",
    "PACF는 약 1의 Time lag에서 약 0.9를 보이고 이후에 급격히 감소한다\n",
    "따라서 p=0, q=1이 적당하다고 추측할 수 있다\n",
    "\n",
    "적절한 차분 차수의 계산을 위해 우선 1차 차분을 하고, ACF와 PACF를 다시 계산한다\n",
    "'''\n",
    "diff_1 = samsung.diff(periods=1).iloc[1:]\n",
    "diff_1.plot()\n",
    "plot_acf(diff_1)\n",
    "plot_pacf(diff_1)\n",
    "plt.show()"
   ]
  },
  {
   "cell_type": "code",
   "execution_count": 8,
   "metadata": {
    "ExecuteTime": {
     "end_time": "2020-09-09T07:05:37.319838Z",
     "start_time": "2020-09-09T07:05:37.274989Z"
    }
   },
   "outputs": [
    {
     "name": "stdout",
     "output_type": "stream",
     "text": [
      "원 데이터 ADF Statistic : -1.3880\n",
      "원 데이터 p-value :  0.5880\n",
      "1차 차분 ADF Statistic : -7.5032\n",
      "1차 차분 p-value :  0.0000\n"
     ]
    }
   ],
   "source": [
    "# ADF(Augmented Dickey-Fuller) 검정\n",
    "'''\n",
    "ARIMA 모형의 적분 차수를 판단하기 위한 검정 방법의 하나이다\n",
    "1차 누적에 의한 확률적 추세뿐 아니라 2차항으로 나타나는 결정론적 추세를 포함하는 시계열에 대해서\n",
    "Dickey-Fuller 단위근 검정(unit root test)을 할 수 있도록 DF 검정을 일반화 한 것\n",
    "\n",
    "input\n",
    "x : 시계열 자료 / maxlag : ADF 검정에 사용할 시차의 수(default = 12*(nobs/100)^(1/4))\n",
    "regression : 검정에 사용할 모형\n",
    "-> 'nc' : 결정론적 추세 없음(=DF검정)\n",
    "-> 'c' : 상수항만 사용\n",
    "-> 'ct' : 상수항과 1차 추세 사용\n",
    "-> 'ctt' : 상수항과 1차 추세, 2차 추세 사용\n",
    "autolag : 검정 AR 모형의 차수를 자동 결정하는 알고리즘 {'AIC', 'BIC', 't-stat', None}\n",
    "\n",
    "output\n",
    "adf : 검정 통계량 / p-value : MacKinnon(1994) 방식을 사용한 p-value 추정치\n",
    "usedlag : 사용된 시차의 수 / nobs : 분석 자료의 수\n",
    "critical values : 1%, 5%, 10% 수준에 해당되는 검정 통계량의 값\n",
    "'''\n",
    "from statsmodels.tsa.stattools import adfuller\n",
    "y = samsung['close']\n",
    "y_1diff = samsung.diff().dropna()['close']\n",
    "result = adfuller(y)\n",
    "print(f'원 데이터 ADF Statistic : {result[0] : .4f}')\n",
    "print(f'원 데이터 p-value : {result[1] : .4f}')\n",
    "result = adfuller(y_1diff)\n",
    "print(f'1차 차분 ADF Statistic : {result[0] : .4f}')\n",
    "print(f'1차 차분 p-value : {result[1] : .4f}')"
   ]
  },
  {
   "cell_type": "code",
   "execution_count": 20,
   "metadata": {
    "ExecuteTime": {
     "end_time": "2020-09-09T07:06:25.252746Z",
     "start_time": "2020-09-09T07:06:25.219342Z"
    }
   },
   "outputs": [
    {
     "name": "stdout",
     "output_type": "stream",
     "text": [
      "                             ARIMA Model Results                              \n",
      "==============================================================================\n",
      "Dep. Variable:                D.close   No. Observations:                   99\n",
      "Model:                 ARIMA(0, 1, 1)   Log Likelihood                -841.031\n",
      "Method:                       css-mle   S.D. of innovations           1183.554\n",
      "Date:                Wed, 09 Sep 2020   AIC                           1688.063\n",
      "Time:                        16:06:25   BIC                           1695.848\n",
      "Sample:                             1   HQIC                          1691.213\n",
      "                                                                              \n",
      "=================================================================================\n",
      "                    coef    std err          z      P>|z|      [0.025      0.975]\n",
      "---------------------------------------------------------------------------------\n",
      "const            71.9241    107.290      0.670      0.503    -138.361     282.210\n",
      "ma.L1.D.close    -0.0992      0.095     -1.045      0.296      -0.285       0.087\n",
      "                                    Roots                                    \n",
      "=============================================================================\n",
      "                  Real          Imaginary           Modulus         Frequency\n",
      "-----------------------------------------------------------------------------\n",
      "MA.1           10.0833           +0.0000j           10.0833            0.0000\n",
      "-----------------------------------------------------------------------------\n"
     ]
    }
   ],
   "source": [
    "'''\n",
    "차분 이후의 ACF와 PACF를 보니, 시계열이 정상상태(Stationary)를 보이는 것으로\n",
    "생각되므로, 1차 차분만으로 충분할 것으로 판단된다\n",
    "따라서 본 데이터는 ARIMA(0,1,1)을 사용한다\n",
    "\n",
    "fit 파라미터\n",
    "-> trend : 상수 포함 여부\n",
    "   'nc':상수 미포함 / 'c':상수 포함\n",
    "'''\n",
    "model = ARIMA(samsung, order=(0,1,1)) # freq='D'\n",
    "model_fit = model.fit(trend='c')\n",
    "print(model_fit.summary())"
   ]
  },
  {
   "cell_type": "code",
   "execution_count": 21,
   "metadata": {
    "ExecuteTime": {
     "end_time": "2020-09-09T07:06:27.463516Z",
     "start_time": "2020-09-09T07:06:27.442645Z"
    },
    "scrolled": false
   },
   "outputs": [
    {
     "name": "stdout",
     "output_type": "stream",
     "text": [
      "                             ARIMA Model Results                              \n",
      "==============================================================================\n",
      "Dep. Variable:                D.close   No. Observations:                   99\n",
      "Model:                 ARIMA(0, 1, 1)   Log Likelihood                -841.254\n",
      "Method:                       css-mle   S.D. of innovations           1186.227\n",
      "Date:                Wed, 09 Sep 2020   AIC                           1686.508\n",
      "Time:                        16:06:27   BIC                           1691.698\n",
      "Sample:                             1   HQIC                          1688.608\n",
      "                                                                              \n",
      "=================================================================================\n",
      "                    coef    std err          z      P>|z|      [0.025      0.975]\n",
      "---------------------------------------------------------------------------------\n",
      "ma.L1.D.close    -0.0937      0.094     -0.998      0.318      -0.278       0.090\n",
      "                                    Roots                                    \n",
      "=============================================================================\n",
      "                  Real          Imaginary           Modulus         Frequency\n",
      "-----------------------------------------------------------------------------\n",
      "MA.1           10.6676           +0.0000j           10.6676            0.0000\n",
      "-----------------------------------------------------------------------------\n"
     ]
    }
   ],
   "source": [
    "'''\n",
    "'P>z'값이 일반적으로 학습의 적정성을 위해 확인하는 t-test값이다\n",
    "즉, p-value 0.05 수준에서 보면 MA(1)의 계수와 모형의 Constant는 유효하지 않다\n",
    "따라서, 위 코드에서 model.fit()의 파라미터 중 trend='c'가 아니라 'nc'로\n",
    "설정해주어야 한다\n",
    "'''\n",
    "model = ARIMA(samsung, order=(0,1,1)) # freq='D'\n",
    "model_fit = model.fit(trend='nc')\n",
    "print(model_fit.summary())"
   ]
  },
  {
   "cell_type": "code",
   "execution_count": 35,
   "metadata": {
    "ExecuteTime": {
     "end_time": "2020-09-09T08:47:48.560352Z",
     "start_time": "2020-09-09T08:47:48.423301Z"
    }
   },
   "outputs": [
    {
     "data": {
      "image/png": "[encoded data removed]",
      "text/plain": [
       "<Figure size 432x288 with 1 Axes>"
      ]
     },
     "metadata": {
      "needs_background": "light"
     },
     "output_type": "display_data"
    }
   ],
   "source": [
    "model_fit.plot_predict()\n",
    "plt.show()"
   ]
  },
  {
   "cell_type": "code",
   "execution_count": 22,
   "metadata": {
    "ExecuteTime": {
     "end_time": "2020-09-09T07:06:31.329515Z",
     "start_time": "2020-09-09T07:06:29.155702Z"
    }
   },
   "outputs": [
    {
     "data": {
      "text/html": [
       "<div>\n",
       "<style scoped>\n",
       "    .dataframe tbody tr th:only-of-type {\n",
       "        vertical-align: middle;\n",
       "    }\n",
       "\n",
       "    .dataframe tbody tr th {\n",
       "        vertical-align: top;\n",
       "    }\n",
       "\n",
       "    .dataframe thead th {\n",
       "        text-align: right;\n",
       "    }\n",
       "</style>\n",
       "<table border=\"1\" class=\"dataframe\">\n",
       "  <thead>\n",
       "    <tr style=\"text-align: right;\">\n",
       "      <th></th>\n",
       "      <th>order</th>\n",
       "      <th>AIC</th>\n",
       "    </tr>\n",
       "  </thead>\n",
       "  <tbody>\n",
       "    <tr>\n",
       "      <th>7</th>\n",
       "      <td>p0 d2 q1</td>\n",
       "      <td>1677.334068</td>\n",
       "    </tr>\n",
       "    <tr>\n",
       "      <th>16</th>\n",
       "      <td>p1 d2 q1</td>\n",
       "      <td>1678.146010</td>\n",
       "    </tr>\n",
       "    <tr>\n",
       "      <th>8</th>\n",
       "      <td>p0 d2 q2</td>\n",
       "      <td>1678.343432</td>\n",
       "    </tr>\n",
       "    <tr>\n",
       "      <th>25</th>\n",
       "      <td>p2 d2 q1</td>\n",
       "      <td>1679.024247</td>\n",
       "    </tr>\n",
       "    <tr>\n",
       "      <th>17</th>\n",
       "      <td>p1 d2 q2</td>\n",
       "      <td>1679.324182</td>\n",
       "    </tr>\n",
       "    <tr>\n",
       "      <th>26</th>\n",
       "      <td>p2 d2 q2</td>\n",
       "      <td>1680.787569</td>\n",
       "    </tr>\n",
       "    <tr>\n",
       "      <th>13</th>\n",
       "      <td>p1 d1 q1</td>\n",
       "      <td>1681.681097</td>\n",
       "    </tr>\n",
       "    <tr>\n",
       "      <th>23</th>\n",
       "      <td>p2 d1 q2</td>\n",
       "      <td>1683.484169</td>\n",
       "    </tr>\n",
       "    <tr>\n",
       "      <th>22</th>\n",
       "      <td>p2 d1 q1</td>\n",
       "      <td>1683.671156</td>\n",
       "    </tr>\n",
       "    <tr>\n",
       "      <th>3</th>\n",
       "      <td>p0 d1 q0</td>\n",
       "      <td>1687.178040</td>\n",
       "    </tr>\n",
       "    <tr>\n",
       "      <th>12</th>\n",
       "      <td>p1 d1 q0</td>\n",
       "      <td>1687.862972</td>\n",
       "    </tr>\n",
       "    <tr>\n",
       "      <th>4</th>\n",
       "      <td>p0 d1 q1</td>\n",
       "      <td>1688.062653</td>\n",
       "    </tr>\n",
       "    <tr>\n",
       "      <th>21</th>\n",
       "      <td>p2 d1 q0</td>\n",
       "      <td>1688.900301</td>\n",
       "    </tr>\n",
       "    <tr>\n",
       "      <th>5</th>\n",
       "      <td>p0 d1 q2</td>\n",
       "      <td>1688.954106</td>\n",
       "    </tr>\n",
       "    <tr>\n",
       "      <th>14</th>\n",
       "      <td>p1 d1 q2</td>\n",
       "      <td>1690.184994</td>\n",
       "    </tr>\n",
       "    <tr>\n",
       "      <th>24</th>\n",
       "      <td>p2 d2 q0</td>\n",
       "      <td>1702.945241</td>\n",
       "    </tr>\n",
       "    <tr>\n",
       "      <th>9</th>\n",
       "      <td>p1 d0 q0</td>\n",
       "      <td>1705.787580</td>\n",
       "    </tr>\n",
       "    <tr>\n",
       "      <th>11</th>\n",
       "      <td>p1 d0 q2</td>\n",
       "      <td>1706.815768</td>\n",
       "    </tr>\n",
       "    <tr>\n",
       "      <th>15</th>\n",
       "      <td>p1 d2 q0</td>\n",
       "      <td>1706.901192</td>\n",
       "    </tr>\n",
       "    <tr>\n",
       "      <th>18</th>\n",
       "      <td>p2 d0 q0</td>\n",
       "      <td>1707.154408</td>\n",
       "    </tr>\n",
       "    <tr>\n",
       "      <th>10</th>\n",
       "      <td>p1 d0 q1</td>\n",
       "      <td>1707.293910</td>\n",
       "    </tr>\n",
       "    <tr>\n",
       "      <th>20</th>\n",
       "      <td>p2 d0 q2</td>\n",
       "      <td>1708.414527</td>\n",
       "    </tr>\n",
       "    <tr>\n",
       "      <th>19</th>\n",
       "      <td>p2 d0 q1</td>\n",
       "      <td>1719.022062</td>\n",
       "    </tr>\n",
       "    <tr>\n",
       "      <th>6</th>\n",
       "      <td>p0 d2 q0</td>\n",
       "      <td>1749.287779</td>\n",
       "    </tr>\n",
       "    <tr>\n",
       "      <th>2</th>\n",
       "      <td>p0 d0 q2</td>\n",
       "      <td>1778.684049</td>\n",
       "    </tr>\n",
       "    <tr>\n",
       "      <th>1</th>\n",
       "      <td>p0 d0 q1</td>\n",
       "      <td>1825.553028</td>\n",
       "    </tr>\n",
       "    <tr>\n",
       "      <th>0</th>\n",
       "      <td>p0 d0 q0</td>\n",
       "      <td>1910.777962</td>\n",
       "    </tr>\n",
       "  </tbody>\n",
       "</table>\n",
       "</div>"
      ],
      "text/plain": [
       "       order          AIC\n",
       "7   p0 d2 q1  1677.334068\n",
       "16  p1 d2 q1  1678.146010\n",
       "8   p0 d2 q2  1678.343432\n",
       "25  p2 d2 q1  1679.024247\n",
       "17  p1 d2 q2  1679.324182\n",
       "26  p2 d2 q2  1680.787569\n",
       "13  p1 d1 q1  1681.681097\n",
       "23  p2 d1 q2  1683.484169\n",
       "22  p2 d1 q1  1683.671156\n",
       "3   p0 d1 q0  1687.178040\n",
       "12  p1 d1 q0  1687.862972\n",
       "4   p0 d1 q1  1688.062653\n",
       "21  p2 d1 q0  1688.900301\n",
       "5   p0 d1 q2  1688.954106\n",
       "14  p1 d1 q2  1690.184994\n",
       "24  p2 d2 q0  1702.945241\n",
       "9   p1 d0 q0  1705.787580\n",
       "11  p1 d0 q2  1706.815768\n",
       "15  p1 d2 q0  1706.901192\n",
       "18  p2 d0 q0  1707.154408\n",
       "10  p1 d0 q1  1707.293910\n",
       "20  p2 d0 q2  1708.414527\n",
       "19  p2 d0 q1  1719.022062\n",
       "6   p0 d2 q0  1749.287779\n",
       "2   p0 d0 q2  1778.684049\n",
       "1   p0 d0 q1  1825.553028\n",
       "0   p0 d0 q0  1910.777962"
      ]
     },
     "execution_count": 22,
     "metadata": {},
     "output_type": "execute_result"
    }
   ],
   "source": [
    "# AIC를 기준으로 최적의 차수 찾기\n",
    "'''\n",
    "AIC(Akaike's Information Criterion)\n",
    "-> 낮을수록 좋은 모델이다\n",
    "-> 여러 통계 모델들의 성능을 비교할 수 있게 해준다\n",
    "-> AIC = -2(log-likelihood) + 2k\n",
    "   k : 모형 파라미터의 개수 / log-likelihood : 모형 적합도를 나타내는 척도\n",
    "\n",
    "BIC(Bayesian's Information Criterion)\n",
    "-> 낮을수록 좋은 모델이다\n",
    "-> BIC = -2(log-likelihood) + K(log-n)\n",
    "   K : 전체 모수의 수 / n : 데이터 포인트의 수\n",
    "'''\n",
    "def auto_arima(data, order, sort='AIC'):\n",
    "    order_lst = []\n",
    "    aic_lst = []\n",
    "    for p in range(order[0]):\n",
    "        for d in range(order[1]):\n",
    "            for q in range(order[2]):\n",
    "                model = ARIMA(data, order=(p,d,q))\n",
    "                try:\n",
    "                    model_fit = model.fit()\n",
    "                    c_order = f'p{p} d{d} q{q}'\n",
    "                    aic = model_fit.aic\n",
    "                    order_lst.append(c_order)\n",
    "                    aic_lst.append(aic)\n",
    "                except:\n",
    "                    pass\n",
    "    result_auto = pd.DataFrame(list(zip(order_lst, aic_lst)), columns=['order', 'AIC'])\n",
    "    result_auto.sort_values(sort, inplace=True)\n",
    "    return result_auto\n",
    "\n",
    "result = auto_arima(samsung, [3,3,3])\n",
    "result"
   ]
  },
  {
   "cell_type": "code",
   "execution_count": 36,
   "metadata": {
    "ExecuteTime": {
     "end_time": "2020-09-09T08:48:54.458547Z",
     "start_time": "2020-09-09T08:48:54.394944Z"
    }
   },
   "outputs": [
    {
     "name": "stdout",
     "output_type": "stream",
     "text": [
      "                             ARIMA Model Results                              \n",
      "==============================================================================\n",
      "Dep. Variable:               D2.close   No. Observations:                   98\n",
      "Model:                 ARIMA(0, 2, 1)   Log Likelihood                -835.667\n",
      "Method:                       css-mle   S.D. of innovations           1193.775\n",
      "Date:                Wed, 09 Sep 2020   AIC                           1677.334\n",
      "Time:                        17:48:54   BIC                           1685.089\n",
      "Sample:                             2   HQIC                          1680.471\n",
      "                                                                              \n",
      "==================================================================================\n",
      "                     coef    std err          z      P>|z|      [0.025      0.975]\n",
      "----------------------------------------------------------------------------------\n",
      "const              2.7632      4.198      0.658      0.510      -5.465      10.992\n",
      "ma.L1.D2.close    -0.9999      0.027    -36.910      0.000      -1.053      -0.947\n",
      "                                    Roots                                    \n",
      "=============================================================================\n",
      "                  Real          Imaginary           Modulus         Frequency\n",
      "-----------------------------------------------------------------------------\n",
      "MA.1            1.0001           +0.0000j            1.0001            0.0000\n",
      "-----------------------------------------------------------------------------\n"
     ]
    }
   ],
   "source": [
    "model = ARIMA(samsung, order=(0,2,1)) # freq='D'\n",
    "model_fit = model.fit()\n",
    "print(model_fit.summary())"
   ]
  },
  {
   "cell_type": "code",
   "execution_count": 28,
   "metadata": {
    "ExecuteTime": {
     "end_time": "2020-09-09T08:02:12.656662Z",
     "start_time": "2020-09-09T08:02:12.526030Z"
    }
   },
   "outputs": [
    {
     "data": {
      "image/png": "[encoded data removed]",
      "text/plain": [
       "<Figure size 432x288 with 1 Axes>"
      ]
     },
     "metadata": {
      "needs_background": "light"
     },
     "output_type": "display_data"
    }
   ],
   "source": [
    "# prediction\n",
    "'''\n",
    "모델의 예측값이 단순히 실제값을 shifting 해놓은 것과 거의 같은 모형을 나타낸다\n",
    "이는 모델이 실제의 값(과거)을 바탕으로 바로 다음의 값(현재)을 에측하는데, 거의 전의 값을 그대로\n",
    "사용하는게 그나마 실측치와 비슷한 결과를 만든다고 모델이 추론한 것이다\n",
    "'''\n",
    "model_fit.plot_predict()\n",
    "plt.show()"
   ]
  },
  {
   "cell_type": "code",
   "execution_count": 14,
   "metadata": {
    "ExecuteTime": {
     "end_time": "2020-09-09T07:05:39.941507Z",
     "start_time": "2020-09-09T07:05:39.935526Z"
    }
   },
   "outputs": [
    {
     "name": "stdout",
     "output_type": "stream",
     "text": [
      "(array([56974.99263275]), array([1196.366858]), array([[54630.15667878, 59319.82858672]]))\n"
     ]
    }
   ],
   "source": [
    "pred = model_fit.forecast(steps=1)\n",
    "print(pred)\n",
    "# predict_value, stderr, upper bound, lower bound"
   ]
  },
  {
   "cell_type": "code",
   "execution_count": 15,
   "metadata": {
    "ExecuteTime": {
     "end_time": "2020-09-09T07:05:39.952471Z",
     "start_time": "2020-09-09T07:05:39.942502Z"
    }
   },
   "outputs": [
    {
     "name": "stdout",
     "output_type": "stream",
     "text": [
      "[56974.99263275 57049.9852655  57124.97789825 57199.970531\n",
      " 57274.96316375 57349.9557965  57424.94842926 57499.94106201\n",
      " 57574.93369476 57649.92632751 57724.91896026 57799.91159301\n",
      " 57874.90422576 57949.89685851 58024.88949126 58099.88212401\n",
      " 58174.87475676 58249.86738951 58324.86002227 58399.85265502]\n"
     ]
    }
   ],
   "source": [
    "preds = model_fit.forecast(steps=20)\n",
    "print(preds[:][0])"
   ]
  },
  {
   "cell_type": "code",
   "execution_count": 16,
   "metadata": {
    "ExecuteTime": {
     "end_time": "2020-09-09T07:05:40.145906Z",
     "start_time": "2020-09-09T07:05:39.953465Z"
    }
   },
   "outputs": [
    {
     "data": {
      "text/plain": [
       "Text(0.5, 1.0, 'samsung stock predict')"
      ]
     },
     "execution_count": 16,
     "metadata": {},
     "output_type": "execute_result"
    },
    {
     "data": {
      "image/png": "[encoded data removed]",
      "text/plain": [
       "<Figure size 432x288 with 1 Axes>"
      ]
     },
     "metadata": {
      "needs_background": "light"
     },
     "output_type": "display_data"
    }
   ],
   "source": [
    "plt.plot(test.index, test['close'], 'b', label='test')\n",
    "plt.plot(test.index, preds[:][0], 'r', label='predict')\n",
    "plt.legend(loc='upper right')\n",
    "plt.xlabel('Date')\n",
    "plt.ylabel('close')\n",
    "plt.title('samsung stock predict')"
   ]
  },
  {
   "cell_type": "code",
   "execution_count": 17,
   "metadata": {
    "ExecuteTime": {
     "end_time": "2020-09-09T07:05:40.153797Z",
     "start_time": "2020-09-09T07:05:40.147905Z"
    }
   },
   "outputs": [
    {
     "name": "stdout",
     "output_type": "stream",
     "text": [
      "\n"
     ]
    }
   ],
   "source": [
    "'''\n",
    "최근 딥러닝, 인공지능 등의 트렌드와 함께 시계열분석에도 인공신경망이 널리\n",
    "사용되고 있다\n",
    "특히 시계열분석에는 RNN, LSTM 등을 이용할 수 있지만, 신경망 모델의 가장 큰\n",
    "단점은 아직 제대로 된 모형 해석이 거의 안된다는 점이다\n",
    "알고리즘적인 측면에서야 성능이 잘 나오면 되는거지만 데이터과학, 특히 의사결정\n",
    "지원 시스템(Decision support system)에서는 최종 결정권자는 사람이기에 모형이\n",
    "그렇게 예측한 근거가 필요하다\n",
    "이러한 관점에서 보았을 때, AR, MA등과 같은 고전적인 통계기반의 시계열분석법이\n",
    "아직은 조금 더 우위에 있지 않나 싶다\n",
    "'''\n",
    "print()"
   ]
  },
  {
   "cell_type": "code",
   "execution_count": null,
   "metadata": {},
   "outputs": [],
   "source": []
  }
 ],
 "metadata": {
  "kernelspec": {
   "display_name": "Tensorflow",
   "language": "python",
   "name": "tensorflow"
  },
  "language_info": {
   "codemirror_mode": {
    "name": "ipython",
    "version": 3
   },
   "file_extension": ".py",
   "mimetype": "text/x-python",
   "name": "python",
   "nbconvert_exporter": "python",
   "pygments_lexer": "ipython3",
   "version": "3.7.6"
  }
 },
 "nbformat": 4,
 "nbformat_minor": 4
}
