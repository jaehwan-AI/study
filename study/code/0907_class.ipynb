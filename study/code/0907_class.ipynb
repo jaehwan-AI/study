{
 "cells": [
  {
   "cell_type": "markdown",
   "metadata": {},
   "source": [
    "### 클래스 정의 및 인스턴스 생성"
   ]
  },
  {
   "cell_type": "code",
   "execution_count": 2,
   "metadata": {
    "ExecuteTime": {
     "end_time": "2020-09-07T03:37:56.551682Z",
     "start_time": "2020-09-07T03:37:56.542228Z"
    }
   },
   "outputs": [
    {
     "name": "stdout",
     "output_type": "stream",
     "text": [
      "<__main__.BusinessCard object at 0x0000029B79CEBD08>\n"
     ]
    },
    {
     "data": {
      "text/plain": [
       "__main__.BusinessCard"
      ]
     },
     "execution_count": 2,
     "metadata": {},
     "output_type": "execute_result"
    }
   ],
   "source": [
    "# 클래스 정의 및 인스턴스 생성\n",
    "class BusinessCard:\n",
    "    pass\n",
    "\n",
    "card1 = BusinessCard()\n",
    "print(card1)\n",
    "type(card1)"
   ]
  },
  {
   "cell_type": "code",
   "execution_count": 4,
   "metadata": {
    "ExecuteTime": {
     "end_time": "2020-09-07T03:39:59.727172Z",
     "start_time": "2020-09-07T03:39:59.720206Z"
    }
   },
   "outputs": [
    {
     "name": "stdout",
     "output_type": "stream",
     "text": [
      "Yuna Kim\n",
      "yunakim@naver.com\n",
      "Seoul\n"
     ]
    }
   ],
   "source": [
    "class BusinessCard:\n",
    "    def set_info(self, name, email, addr):\n",
    "        # 인스턴스 변수(self.변수명) - 클래스 인스턴스 내부의 변수\n",
    "        self.name = name\n",
    "        self.email = email\n",
    "        self.addr = addr\n",
    "\n",
    "# 인스턴스 생성\n",
    "member1 = BusinessCard()\n",
    "member1.set_info('Yuna Kim', 'yunakim@naver.com', 'Seoul')\n",
    "print(member1.name)\n",
    "print(member1.email)\n",
    "print(member1.addr)"
   ]
  },
  {
   "cell_type": "code",
   "execution_count": 5,
   "metadata": {
    "ExecuteTime": {
     "end_time": "2020-09-07T03:47:09.649283Z",
     "start_time": "2020-09-07T03:47:09.643304Z"
    }
   },
   "outputs": [
    {
     "name": "stdout",
     "output_type": "stream",
     "text": [
      "Sarang Lee\n",
      "sarang.lee@naver.com\n",
      "Kyunggi\n"
     ]
    }
   ],
   "source": [
    "member2 = BusinessCard()\n",
    "member2.set_info('Sarang Lee', 'sarang.lee@naver.com', 'Kyunggi')\n",
    "print(member2.name)\n",
    "print(member2.email)\n",
    "print(member2.addr)"
   ]
  },
  {
   "cell_type": "code",
   "execution_count": 29,
   "metadata": {
    "ExecuteTime": {
     "end_time": "2020-09-07T04:41:20.322670Z",
     "start_time": "2020-09-07T04:41:20.317636Z"
    }
   },
   "outputs": [],
   "source": [
    "class BusinessCard:\n",
    "    def set_info(self, name, email, addr):\n",
    "        self.name = name\n",
    "        self.email = email\n",
    "        self.addr = addr\n",
    "        \n",
    "    def print_info(self):\n",
    "        print('--------------------')\n",
    "        print(\"Name: \", self.name)\n",
    "        print(\"E-mail: \", self.email)\n",
    "        print(\"Address: \", self.addr)\n",
    "        print('--------------------')"
   ]
  },
  {
   "cell_type": "code",
   "execution_count": 31,
   "metadata": {
    "ExecuteTime": {
     "end_time": "2020-09-07T04:41:26.193201Z",
     "start_time": "2020-09-07T04:41:26.189188Z"
    }
   },
   "outputs": [
    {
     "name": "stdout",
     "output_type": "stream",
     "text": [
      "--------------------\n",
      "Name:  Yuna Kim\n",
      "E-mail:  yunakim@naver.com\n",
      "Address:  Seoul\n",
      "--------------------\n"
     ]
    }
   ],
   "source": [
    "member1 = BusinessCard()\n",
    "member1.set_info('Yuna Kim', 'yunakim@naver.com', 'Seoul')\n",
    "member1.print_info()"
   ]
  },
  {
   "cell_type": "markdown",
   "metadata": {},
   "source": [
    "### 클래스 생성자"
   ]
  },
  {
   "cell_type": "code",
   "execution_count": 32,
   "metadata": {
    "ExecuteTime": {
     "end_time": "2020-09-07T04:46:55.668299Z",
     "start_time": "2020-09-07T04:46:55.663296Z"
    }
   },
   "outputs": [
    {
     "name": "stdout",
     "output_type": "stream",
     "text": [
      "객체가 생성되었습니다\n"
     ]
    }
   ],
   "source": [
    "class MyClass:\n",
    "    def __init__(self):\n",
    "        print('객체가 생성되었습니다')\n",
    "\n",
    "inst1 = MyClass()"
   ]
  },
  {
   "cell_type": "code",
   "execution_count": 33,
   "metadata": {
    "ExecuteTime": {
     "end_time": "2020-09-07T04:56:23.455726Z",
     "start_time": "2020-09-07T04:56:23.450601Z"
    }
   },
   "outputs": [],
   "source": [
    "class BusinessCard:\n",
    "    def __init__(self, name, email, addr):\n",
    "        self.name = name\n",
    "        self.email = email\n",
    "        self.addr = addr\n",
    "        \n",
    "    def print_info(self):\n",
    "        print('--------------------')\n",
    "        print(\"Name: \", self.name)\n",
    "        print(\"E-mail: \", self.email)\n",
    "        print(\"Address: \", self.addr)\n",
    "        print('--------------------')"
   ]
  },
  {
   "cell_type": "code",
   "execution_count": 34,
   "metadata": {
    "ExecuteTime": {
     "end_time": "2020-09-07T04:57:01.703967Z",
     "start_time": "2020-09-07T04:57:01.699011Z"
    }
   },
   "outputs": [
    {
     "name": "stdout",
     "output_type": "stream",
     "text": [
      "--------------------\n",
      "Name:  Kangsan Lee\n",
      "E-mail:  kangsan.lee@naver.com\n",
      "Address:  USA\n",
      "--------------------\n"
     ]
    }
   ],
   "source": [
    "member1 = BusinessCard('Kangsan Lee', 'kangsan.lee@naver.com', 'USA')\n",
    "member1.print_info()"
   ]
  },
  {
   "cell_type": "code",
   "execution_count": 35,
   "metadata": {
    "ExecuteTime": {
     "end_time": "2020-09-07T04:58:05.167198Z",
     "start_time": "2020-09-07T04:58:05.162225Z"
    }
   },
   "outputs": [],
   "source": [
    "# self\n",
    "class Foo:\n",
    "    def func1():\n",
    "        print('function 1')\n",
    "    def func2(self):\n",
    "        print('function 2')"
   ]
  },
  {
   "cell_type": "code",
   "execution_count": 36,
   "metadata": {
    "ExecuteTime": {
     "end_time": "2020-09-07T04:58:17.526931Z",
     "start_time": "2020-09-07T04:58:17.522975Z"
    }
   },
   "outputs": [
    {
     "name": "stdout",
     "output_type": "stream",
     "text": [
      "function 2\n"
     ]
    }
   ],
   "source": [
    "f = Foo()\n",
    "f.func2()"
   ]
  },
  {
   "cell_type": "code",
   "execution_count": 37,
   "metadata": {
    "ExecuteTime": {
     "end_time": "2020-09-07T04:58:21.823521Z",
     "start_time": "2020-09-07T04:58:21.813974Z"
    }
   },
   "outputs": [
    {
     "ename": "TypeError",
     "evalue": "func1() takes 0 positional arguments but 1 was given",
     "output_type": "error",
     "traceback": [
      "\u001b[1;31m---------------------------------------------------------------------------\u001b[0m",
      "\u001b[1;31mTypeError\u001b[0m                                 Traceback (most recent call last)",
      "\u001b[1;32m<ipython-input-37-d7d514da12af>\u001b[0m in \u001b[0;36m<module>\u001b[1;34m\u001b[0m\n\u001b[1;32m----> 1\u001b[1;33m \u001b[0mf\u001b[0m\u001b[1;33m.\u001b[0m\u001b[0mfunc1\u001b[0m\u001b[1;33m(\u001b[0m\u001b[1;33m)\u001b[0m\u001b[1;33m\u001b[0m\u001b[1;33m\u001b[0m\u001b[0m\n\u001b[0m",
      "\u001b[1;31mTypeError\u001b[0m: func1() takes 0 positional arguments but 1 was given"
     ]
    }
   ],
   "source": [
    "f.func1()"
   ]
  },
  {
   "cell_type": "markdown",
   "metadata": {},
   "source": [
    "### self"
   ]
  },
  {
   "cell_type": "code",
   "execution_count": 38,
   "metadata": {
    "ExecuteTime": {
     "end_time": "2020-09-07T04:58:54.660342Z",
     "start_time": "2020-09-07T04:58:54.657218Z"
    }
   },
   "outputs": [],
   "source": [
    "class Foo:\n",
    "    def func1():\n",
    "        print('function 1')\n",
    "    def func2(self):\n",
    "        print(id(self))\n",
    "        print('function 2')"
   ]
  },
  {
   "cell_type": "code",
   "execution_count": 39,
   "metadata": {
    "ExecuteTime": {
     "end_time": "2020-09-07T04:58:59.682001Z",
     "start_time": "2020-09-07T04:58:59.676901Z"
    }
   },
   "outputs": [
    {
     "data": {
      "text/plain": [
       "2866787480264"
      ]
     },
     "execution_count": 39,
     "metadata": {},
     "output_type": "execute_result"
    }
   ],
   "source": [
    "f = Foo()\n",
    "id(f)"
   ]
  },
  {
   "cell_type": "code",
   "execution_count": 40,
   "metadata": {
    "ExecuteTime": {
     "end_time": "2020-09-07T05:00:06.422202Z",
     "start_time": "2020-09-07T05:00:06.418778Z"
    }
   },
   "outputs": [
    {
     "name": "stdout",
     "output_type": "stream",
     "text": [
      "2866787480264\n",
      "function 2\n"
     ]
    }
   ],
   "source": [
    "f.func2()"
   ]
  },
  {
   "cell_type": "code",
   "execution_count": 41,
   "metadata": {
    "ExecuteTime": {
     "end_time": "2020-09-07T05:00:31.491045Z",
     "start_time": "2020-09-07T05:00:31.486065Z"
    }
   },
   "outputs": [
    {
     "name": "stdout",
     "output_type": "stream",
     "text": [
      "function 1\n"
     ]
    }
   ],
   "source": [
    "Foo.func1()"
   ]
  },
  {
   "cell_type": "code",
   "execution_count": 43,
   "metadata": {
    "ExecuteTime": {
     "end_time": "2020-09-07T05:02:09.886019Z",
     "start_time": "2020-09-07T05:02:09.881137Z"
    }
   },
   "outputs": [
    {
     "data": {
      "text/plain": [
       "2866787451656"
      ]
     },
     "execution_count": 43,
     "metadata": {},
     "output_type": "execute_result"
    }
   ],
   "source": [
    "f3 = Foo()\n",
    "id(f3)"
   ]
  },
  {
   "cell_type": "code",
   "execution_count": 44,
   "metadata": {
    "ExecuteTime": {
     "end_time": "2020-09-07T05:02:17.034303Z",
     "start_time": "2020-09-07T05:02:17.028013Z"
    }
   },
   "outputs": [
    {
     "name": "stdout",
     "output_type": "stream",
     "text": [
      "2866787451656\n",
      "function 2\n"
     ]
    }
   ],
   "source": [
    "Foo.func2(f3)"
   ]
  },
  {
   "cell_type": "code",
   "execution_count": 45,
   "metadata": {
    "ExecuteTime": {
     "end_time": "2020-09-07T05:02:23.317573Z",
     "start_time": "2020-09-07T05:02:23.314584Z"
    }
   },
   "outputs": [
    {
     "name": "stdout",
     "output_type": "stream",
     "text": [
      "2866787451656\n",
      "function 2\n"
     ]
    }
   ],
   "source": [
    "f3.func2()"
   ]
  },
  {
   "cell_type": "markdown",
   "metadata": {},
   "source": [
    "### 클래스 네임스페이스"
   ]
  },
  {
   "cell_type": "code",
   "execution_count": 46,
   "metadata": {
    "ExecuteTime": {
     "end_time": "2020-09-07T05:02:55.886237Z",
     "start_time": "2020-09-07T05:02:55.882483Z"
    }
   },
   "outputs": [],
   "source": [
    "class Stock:\n",
    "    market = 'kospi'"
   ]
  },
  {
   "cell_type": "code",
   "execution_count": 48,
   "metadata": {
    "ExecuteTime": {
     "end_time": "2020-09-07T05:13:00.401806Z",
     "start_time": "2020-09-07T05:13:00.395717Z"
    }
   },
   "outputs": [
    {
     "data": {
      "text/plain": [
       "__main__.Stock"
      ]
     },
     "execution_count": 48,
     "metadata": {},
     "output_type": "execute_result"
    }
   ],
   "source": [
    "Stock"
   ]
  },
  {
   "cell_type": "code",
   "execution_count": 49,
   "metadata": {
    "ExecuteTime": {
     "end_time": "2020-09-07T05:22:31.875849Z",
     "start_time": "2020-09-07T05:22:31.870416Z"
    }
   },
   "outputs": [
    {
     "data": {
      "text/plain": [
       "mappingproxy({'__module__': '__main__',\n",
       "              'market': 'kospi',\n",
       "              '__dict__': <attribute '__dict__' of 'Stock' objects>,\n",
       "              '__weakref__': <attribute '__weakref__' of 'Stock' objects>,\n",
       "              '__doc__': None})"
      ]
     },
     "execution_count": 49,
     "metadata": {},
     "output_type": "execute_result"
    }
   ],
   "source": [
    "Stock.__dict__"
   ]
  },
  {
   "cell_type": "code",
   "execution_count": 50,
   "metadata": {
    "ExecuteTime": {
     "end_time": "2020-09-07T05:22:40.172825Z",
     "start_time": "2020-09-07T05:22:40.168647Z"
    }
   },
   "outputs": [
    {
     "data": {
      "text/plain": [
       "'kospi'"
      ]
     },
     "execution_count": 50,
     "metadata": {},
     "output_type": "execute_result"
    }
   ],
   "source": [
    "Stock.market"
   ]
  },
  {
   "cell_type": "code",
   "execution_count": 52,
   "metadata": {
    "ExecuteTime": {
     "end_time": "2020-09-07T05:23:06.938750Z",
     "start_time": "2020-09-07T05:23:06.933764Z"
    }
   },
   "outputs": [
    {
     "name": "stdout",
     "output_type": "stream",
     "text": [
      "2866787402632\n",
      "2866787405384\n"
     ]
    }
   ],
   "source": [
    "s1 = Stock()\n",
    "s2 = Stock()\n",
    "print(id(s1))\n",
    "print(id(s2))"
   ]
  },
  {
   "cell_type": "code",
   "execution_count": 53,
   "metadata": {
    "ExecuteTime": {
     "end_time": "2020-09-07T05:23:42.675277Z",
     "start_time": "2020-09-07T05:23:42.671254Z"
    }
   },
   "outputs": [
    {
     "name": "stdout",
     "output_type": "stream",
     "text": [
      "{}\n",
      "{}\n"
     ]
    }
   ],
   "source": [
    "print(s1.__dict__)\n",
    "print(s2.__dict__)"
   ]
  },
  {
   "cell_type": "code",
   "execution_count": 54,
   "metadata": {
    "ExecuteTime": {
     "end_time": "2020-09-07T05:23:57.247264Z",
     "start_time": "2020-09-07T05:23:57.242198Z"
    }
   },
   "outputs": [
    {
     "data": {
      "text/plain": [
       "{'market': 'kosdaq'}"
      ]
     },
     "execution_count": 54,
     "metadata": {},
     "output_type": "execute_result"
    }
   ],
   "source": [
    "s1.market = 'kosdaq'\n",
    "s1.__dict__"
   ]
  },
  {
   "cell_type": "code",
   "execution_count": 55,
   "metadata": {
    "ExecuteTime": {
     "end_time": "2020-09-07T05:24:05.861152Z",
     "start_time": "2020-09-07T05:24:05.856167Z"
    }
   },
   "outputs": [
    {
     "data": {
      "text/plain": [
       "{}"
      ]
     },
     "execution_count": 55,
     "metadata": {},
     "output_type": "execute_result"
    }
   ],
   "source": [
    "s2.__dict__"
   ]
  },
  {
   "cell_type": "code",
   "execution_count": 56,
   "metadata": {
    "ExecuteTime": {
     "end_time": "2020-09-07T05:24:23.222787Z",
     "start_time": "2020-09-07T05:24:23.219280Z"
    }
   },
   "outputs": [
    {
     "name": "stdout",
     "output_type": "stream",
     "text": [
      "kosdaq\n",
      "kospi\n"
     ]
    }
   ],
   "source": [
    "print(s1.market)\n",
    "print(s2.market)"
   ]
  },
  {
   "cell_type": "markdown",
   "metadata": {},
   "source": [
    "### 클래스 변수와 인스턴스 변수"
   ]
  },
  {
   "cell_type": "code",
   "execution_count": 57,
   "metadata": {
    "ExecuteTime": {
     "end_time": "2020-09-07T05:27:11.782099Z",
     "start_time": "2020-09-07T05:27:11.777123Z"
    }
   },
   "outputs": [],
   "source": [
    "class Account:\n",
    "    num_accounts = 0\n",
    "    def __init__(self, name):\n",
    "        self.name = name\n",
    "        Account.num_accounts += 1\n",
    "    def __del__(self):\n",
    "        Account.num_accounts -= 1"
   ]
  },
  {
   "cell_type": "code",
   "execution_count": 58,
   "metadata": {
    "ExecuteTime": {
     "end_time": "2020-09-07T05:28:26.775588Z",
     "start_time": "2020-09-07T05:28:26.771594Z"
    }
   },
   "outputs": [],
   "source": [
    "kim = Account('kim')\n",
    "lee = Account('lee')"
   ]
  },
  {
   "cell_type": "code",
   "execution_count": 59,
   "metadata": {
    "ExecuteTime": {
     "end_time": "2020-09-07T05:28:42.127574Z",
     "start_time": "2020-09-07T05:28:42.123589Z"
    }
   },
   "outputs": [
    {
     "name": "stdout",
     "output_type": "stream",
     "text": [
      "kim\n",
      "lee\n"
     ]
    }
   ],
   "source": [
    "print(kim.name)\n",
    "print(lee.name)"
   ]
  },
  {
   "cell_type": "code",
   "execution_count": 60,
   "metadata": {
    "ExecuteTime": {
     "end_time": "2020-09-07T05:29:03.592284Z",
     "start_time": "2020-09-07T05:29:03.588305Z"
    }
   },
   "outputs": [
    {
     "name": "stdout",
     "output_type": "stream",
     "text": [
      "2\n",
      "2\n"
     ]
    }
   ],
   "source": [
    "print(kim.num_accounts)\n",
    "print(lee.num_accounts)"
   ]
  },
  {
   "cell_type": "code",
   "execution_count": 61,
   "metadata": {
    "ExecuteTime": {
     "end_time": "2020-09-07T05:29:13.291266Z",
     "start_time": "2020-09-07T05:29:13.286282Z"
    }
   },
   "outputs": [
    {
     "data": {
      "text/plain": [
       "2"
      ]
     },
     "execution_count": 61,
     "metadata": {},
     "output_type": "execute_result"
    }
   ],
   "source": [
    "Account.num_accounts"
   ]
  },
  {
   "cell_type": "code",
   "execution_count": 62,
   "metadata": {
    "ExecuteTime": {
     "end_time": "2020-09-07T05:29:39.690630Z",
     "start_time": "2020-09-07T05:29:39.686644Z"
    }
   },
   "outputs": [],
   "source": [
    "class Parent:\n",
    "    def can_sing(self):\n",
    "        print('Sing a song')"
   ]
  },
  {
   "cell_type": "code",
   "execution_count": 63,
   "metadata": {
    "ExecuteTime": {
     "end_time": "2020-09-07T05:29:53.379305Z",
     "start_time": "2020-09-07T05:29:53.374319Z"
    }
   },
   "outputs": [
    {
     "name": "stdout",
     "output_type": "stream",
     "text": [
      "Sing a song\n"
     ]
    }
   ],
   "source": [
    "father = Parent()\n",
    "father.can_sing()"
   ]
  },
  {
   "cell_type": "code",
   "execution_count": 64,
   "metadata": {
    "ExecuteTime": {
     "end_time": "2020-09-07T05:30:09.324971Z",
     "start_time": "2020-09-07T05:30:09.320981Z"
    }
   },
   "outputs": [],
   "source": [
    "class LuckyChild(Parent):\n",
    "    pass"
   ]
  },
  {
   "cell_type": "code",
   "execution_count": 65,
   "metadata": {
    "ExecuteTime": {
     "end_time": "2020-09-07T05:30:24.455956Z",
     "start_time": "2020-09-07T05:30:24.450974Z"
    }
   },
   "outputs": [
    {
     "name": "stdout",
     "output_type": "stream",
     "text": [
      "Sing a song\n"
     ]
    }
   ],
   "source": [
    "child1 = LuckyChild()\n",
    "child1.can_sing()"
   ]
  },
  {
   "cell_type": "code",
   "execution_count": 66,
   "metadata": {
    "ExecuteTime": {
     "end_time": "2020-09-07T05:30:33.286081Z",
     "start_time": "2020-09-07T05:30:33.282714Z"
    }
   },
   "outputs": [],
   "source": [
    "class UnLuckyChild:\n",
    "    pass"
   ]
  },
  {
   "cell_type": "code",
   "execution_count": 67,
   "metadata": {
    "ExecuteTime": {
     "end_time": "2020-09-07T05:30:49.856157Z",
     "start_time": "2020-09-07T05:30:49.846322Z"
    }
   },
   "outputs": [
    {
     "ename": "AttributeError",
     "evalue": "'UnLuckyChild' object has no attribute 'can_sing'",
     "output_type": "error",
     "traceback": [
      "\u001b[1;31m---------------------------------------------------------------------------\u001b[0m",
      "\u001b[1;31mAttributeError\u001b[0m                            Traceback (most recent call last)",
      "\u001b[1;32m<ipython-input-67-beda72a12214>\u001b[0m in \u001b[0;36m<module>\u001b[1;34m\u001b[0m\n\u001b[0;32m      1\u001b[0m \u001b[0mchild2\u001b[0m \u001b[1;33m=\u001b[0m \u001b[0mUnLuckyChild\u001b[0m\u001b[1;33m(\u001b[0m\u001b[1;33m)\u001b[0m\u001b[1;33m\u001b[0m\u001b[1;33m\u001b[0m\u001b[0m\n\u001b[1;32m----> 2\u001b[1;33m \u001b[0mchild2\u001b[0m\u001b[1;33m.\u001b[0m\u001b[0mcan_sing\u001b[0m\u001b[1;33m(\u001b[0m\u001b[1;33m)\u001b[0m\u001b[1;33m\u001b[0m\u001b[1;33m\u001b[0m\u001b[0m\n\u001b[0m",
      "\u001b[1;31mAttributeError\u001b[0m: 'UnLuckyChild' object has no attribute 'can_sing'"
     ]
    }
   ],
   "source": [
    "child2 = UnLuckyChild()\n",
    "child2.can_sing()"
   ]
  },
  {
   "cell_type": "code",
   "execution_count": 68,
   "metadata": {
    "ExecuteTime": {
     "end_time": "2020-09-07T05:31:29.974716Z",
     "start_time": "2020-09-07T05:31:29.971224Z"
    }
   },
   "outputs": [],
   "source": [
    "class LuckyChild2(Parent):\n",
    "    def can_dance(self):\n",
    "        print(\"Shuffle Dance\")"
   ]
  },
  {
   "cell_type": "code",
   "execution_count": 69,
   "metadata": {
    "ExecuteTime": {
     "end_time": "2020-09-07T05:31:57.179910Z",
     "start_time": "2020-09-07T05:31:57.173934Z"
    }
   },
   "outputs": [
    {
     "name": "stdout",
     "output_type": "stream",
     "text": [
      "Sing a song\n",
      "None\n",
      "Shuffle Dance\n",
      "None\n"
     ]
    }
   ],
   "source": [
    "child2 = LuckyChild2()\n",
    "print(child2.can_sing())\n",
    "print(child2.can_dance())"
   ]
  },
  {
   "cell_type": "markdown",
   "metadata": {},
   "source": [
    "### 연습문제"
   ]
  },
  {
   "cell_type": "code",
   "execution_count": 70,
   "metadata": {
    "ExecuteTime": {
     "end_time": "2020-09-07T05:33:24.399118Z",
     "start_time": "2020-09-07T05:33:24.392144Z"
    }
   },
   "outputs": [
    {
     "data": {
      "text/plain": [
       "'\\n다음의 조건을 만족하는 Point라는 클래스를 작성하세요.\\n\\nPoint 클래스는 생성자를 통해 (x, y) 좌표를 입력받는다.\\nsetx(x), sety(y) 메소드를 통해 x 좌표와 y 좌표를 따로 입력받을 수도 있다.\\nget() 메소드를 호출하면 튜플로 구성된 (x, y) 좌표를 반환한다.\\nmove(dx, dy) 메소드는 현재 좌표를 dx, dy만큼 이동시킨다.\\n모든 메서드는 인스턴스 메소드다.\\n'"
      ]
     },
     "execution_count": 70,
     "metadata": {},
     "output_type": "execute_result"
    }
   ],
   "source": [
    "'''\n",
    "다음의 조건을 만족하는 Point라는 클래스를 작성하세요.\n",
    "\n",
    "Point 클래스는 생성자를 통해 (x, y) 좌표를 입력받는다.\n",
    "setx(x), sety(y) 메소드를 통해 x 좌표와 y 좌표를 따로 입력받을 수도 있다.\n",
    "get() 메소드를 호출하면 튜플로 구성된 (x, y) 좌표를 반환한다.\n",
    "move(dx, dy) 메소드는 현재 좌표를 dx, dy만큼 이동시킨다.\n",
    "모든 메서드는 인스턴스 메소드다.\n",
    "'''"
   ]
  },
  {
   "cell_type": "code",
   "execution_count": 71,
   "metadata": {
    "ExecuteTime": {
     "end_time": "2020-09-07T05:36:15.639207Z",
     "start_time": "2020-09-07T05:36:15.633652Z"
    }
   },
   "outputs": [],
   "source": [
    "class Point:\n",
    "    def __init__(self, x, y):\n",
    "        self.x = x\n",
    "        self.y = y\n",
    "    def setx(self, x):\n",
    "        self.x = x\n",
    "    def sety(self, y):\n",
    "        self.y = y\n",
    "    def get(self):\n",
    "        return (self.x, self.y)\n",
    "    def move(self, dx, dy):\n",
    "        self.x += dx\n",
    "        self.y += dy"
   ]
  },
  {
   "cell_type": "code",
   "execution_count": 72,
   "metadata": {
    "ExecuteTime": {
     "end_time": "2020-09-07T05:36:40.960931Z",
     "start_time": "2020-09-07T05:36:40.955918Z"
    }
   },
   "outputs": [
    {
     "data": {
      "text/plain": [
       "(3, 3)"
      ]
     },
     "execution_count": 72,
     "metadata": {},
     "output_type": "execute_result"
    }
   ],
   "source": [
    "a = Point(3,3)\n",
    "a.get()"
   ]
  },
  {
   "cell_type": "code",
   "execution_count": 73,
   "metadata": {
    "ExecuteTime": {
     "end_time": "2020-09-07T05:36:50.626826Z",
     "start_time": "2020-09-07T05:36:50.621843Z"
    }
   },
   "outputs": [
    {
     "data": {
      "text/plain": [
       "(4, 2)"
      ]
     },
     "execution_count": 73,
     "metadata": {},
     "output_type": "execute_result"
    }
   ],
   "source": [
    "a.setx(4)\n",
    "a.sety(2)\n",
    "a.get()"
   ]
  },
  {
   "cell_type": "code",
   "execution_count": 74,
   "metadata": {
    "ExecuteTime": {
     "end_time": "2020-09-07T05:37:02.138981Z",
     "start_time": "2020-09-07T05:37:02.133001Z"
    }
   },
   "outputs": [
    {
     "data": {
      "text/plain": [
       "(0, 0)"
      ]
     },
     "execution_count": 74,
     "metadata": {},
     "output_type": "execute_result"
    }
   ],
   "source": [
    "a.move(-4, -2)\n",
    "a.get()"
   ]
  },
  {
   "cell_type": "code",
   "execution_count": null,
   "metadata": {},
   "outputs": [],
   "source": []
  }
 ],
 "metadata": {
  "kernelspec": {
   "display_name": "Tensorflow",
   "language": "python",
   "name": "tensorflow"
  },
  "language_info": {
   "codemirror_mode": {
    "name": "ipython",
    "version": 3
   },
   "file_extension": ".py",
   "mimetype": "text/x-python",
   "name": "python",
   "nbconvert_exporter": "python",
   "pygments_lexer": "ipython3",
   "version": "3.7.6"
  }
 },
 "nbformat": 4,
 "nbformat_minor": 4
}
