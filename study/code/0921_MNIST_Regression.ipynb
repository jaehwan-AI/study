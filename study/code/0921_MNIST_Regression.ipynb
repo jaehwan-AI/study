{
 "cells": [
  {
   "cell_type": "code",
   "execution_count": 1,
   "metadata": {
    "ExecuteTime": {
     "end_time": "2020-09-21T03:05:47.282683Z",
     "start_time": "2020-09-21T03:05:40.001560Z"
    }
   },
   "outputs": [],
   "source": [
    "# library\n",
    "import numpy as np\n",
    "import pandas as pd\n",
    "import matplotlib.pyplot as plt\n",
    "\n",
    "from sklearn.preprocessing import MinMaxScaler, StandardScaler\n",
    "from sklearn.model_selection import train_test_split\n",
    "from sklearn.decomposition import PCA\n",
    "\n",
    "import tensorflow as tf\n",
    "from tensorflow.keras.models import Model\n",
    "from tensorflow.keras.layers import Input, Dense, Dropout\n",
    "from tensorflow.keras.layers import Conv2D, MaxPooling2D, Flatten\n",
    "from tensorflow.keras.layers import BatchNormalization, Activation\n",
    "from tensorflow.keras.layers import LSTM\n",
    "\n",
    "from tensorflow.keras.wrappers.scikit_learn import KerasRegressor\n",
    "from sklearn.model_selection import RandomizedSearchCV\n",
    "\n",
    "# seed\n",
    "import os\n",
    "seed = 123\n",
    "os.environ['PYTHONHASHSEED'] = str(seed)\n",
    "np.random.seed(seed)\n",
    "tf.random.set_seed(seed)"
   ]
  },
  {
   "cell_type": "code",
   "execution_count": 2,
   "metadata": {
    "ExecuteTime": {
     "end_time": "2020-09-21T03:05:47.694384Z",
     "start_time": "2020-09-21T03:05:47.283689Z"
    }
   },
   "outputs": [
    {
     "name": "stdout",
     "output_type": "stream",
     "text": [
      "(60000, 784)\n",
      "(10000, 784)\n",
      "(60000, 28, 28, 1)\n",
      "(10000, 28, 28, 1)\n",
      "(60000, 28, 28)\n",
      "(60000,)\n",
      "(10000, 28, 28)\n",
      "(10000,)\n"
     ]
    }
   ],
   "source": [
    "# load dataset\n",
    "from tensorflow.keras.datasets import mnist\n",
    "(x_train, y_train), (x_test, y_test) = mnist.load_data()\n",
    "\n",
    "x_train = x_train / 255\n",
    "x_test = x_test / 255\n",
    "\n",
    "x_dnn = x_train.reshape(-1, 784)\n",
    "x_dnn_test = x_test.reshape(-1, 784)\n",
    "print(x_dnn.shape)\n",
    "print(x_dnn_test.shape)\n",
    "\n",
    "x_cnn = x_train.reshape(-1, 28, 28, 1)\n",
    "x_cnn_test = x_test.reshape(-1, 28, 28, 1)\n",
    "print(x_cnn.shape)\n",
    "print(x_cnn_test.shape)\n",
    "\n",
    "print(x_train.shape)\n",
    "print(y_train.shape)\n",
    "print(x_test.shape)\n",
    "print(y_test.shape)"
   ]
  },
  {
   "cell_type": "code",
   "execution_count": 3,
   "metadata": {
    "ExecuteTime": {
     "end_time": "2020-09-21T03:05:47.768390Z",
     "start_time": "2020-09-21T03:05:47.696393Z"
    }
   },
   "outputs": [],
   "source": [
    "# model\n",
    "def DNN_model(drop=0.2, optimizer='adam'):\n",
    "    inputs = Input(shape=(784))\n",
    "    l1 = Dense(1000, activation='selu')(inputs)\n",
    "    l1 = Dropout(drop)(l1)\n",
    "    l2 = Dense(500, activation='selu')(l1)\n",
    "    l2 = Dropout(drop)(l2)\n",
    "    l3 = Dense(100, activation='selu')(l2)\n",
    "    l3 = Dropout(drop)(l3)\n",
    "    outputs = Dense(1)(l3)\n",
    "    \n",
    "    model = Model(inputs = inputs, outputs = outputs)\n",
    "    model.compile(optimizer = optimizer, loss='mse')\n",
    "    return model\n",
    "\n",
    "def CNN_model(drop=0.2, optimizer='adam'):\n",
    "    inputs = Input(shape=(28,28,1))\n",
    "    l1 = Conv2D(32, (3,3), activation='selu', padding='same', kernel_initializer='he_normal')(inputs)\n",
    "    l1 = Conv2D(32, (3,3), activation='selu', padding='same', kernel_initializer='he_normal')(l1)\n",
    "    l1 = BatchNormalization()(l1)\n",
    "    l1 = Activation('selu')(l1)\n",
    "    l1 = MaxPooling2D((2,2))(l1)\n",
    "    l2 = Conv2D(32, (3,3), activation='selu', padding='same', kernel_initializer='he_normal')(l1)\n",
    "    l2 = Conv2D(32, (3,3), activation='selu', padding='same', kernel_initializer='he_normal')(l2)\n",
    "    l2 = BatchNormalization()(l2)\n",
    "    l2 = Activation('selu')(l2)\n",
    "    l2 = MaxPooling2D((2,2))(l2)\n",
    "    l3 = Flatten()(l2)\n",
    "    l4 = Dense(100, activation='selu')(l3)\n",
    "    l4 = Dropout(drop)(l4)\n",
    "    outputs = Dense(1)(l4)\n",
    "    \n",
    "    model = Model(inputs = inputs, outputs = outputs)\n",
    "    model.compile(optimizer = optimizer, loss='mse')\n",
    "    return model\n",
    "\n",
    "def LSTM_model(drop=0.2, optimizer='adam'):\n",
    "    inputs = Input(shape=(28,28))\n",
    "    l1 = LSTM(256, activation='selu', return_sequences=True)(inputs)\n",
    "    l1 = Dropout(drop)(l1)\n",
    "    l2 = LSTM(128, activation='selu')(l1)\n",
    "    l2 = Dropout(drop)(l2)\n",
    "    l3 = Dense(100, activation='selu')(l2)\n",
    "    l3 = Dropout(drop)(l3)\n",
    "    outputs = Dense(1)(l3)\n",
    "    \n",
    "    model = Model(inputs = inputs, outputs = outputs)\n",
    "    model.compile(optimizer = optimizer, loss='mse')\n",
    "    return model"
   ]
  },
  {
   "cell_type": "code",
   "execution_count": 4,
   "metadata": {
    "ExecuteTime": {
     "end_time": "2020-09-21T06:51:24.201483Z",
     "start_time": "2020-09-21T03:05:47.770392Z"
    }
   },
   "outputs": [
    {
     "name": "stdout",
     "output_type": "stream",
     "text": [
      "Train on 60000 samples\n",
      "Epoch 1/100\n",
      "60000/60000 [==============================] - 6s 103us/sample - loss: 3.7440\n",
      "Epoch 2/100\n",
      "60000/60000 [==============================] - 6s 92us/sample - loss: 2.0127\n",
      "Epoch 3/100\n",
      "60000/60000 [==============================] - 6s 92us/sample - loss: 1.7095\n",
      "Epoch 4/100\n",
      "60000/60000 [==============================] - 5s 90us/sample - loss: 1.4655\n",
      "Epoch 5/100\n",
      "60000/60000 [==============================] - 5s 90us/sample - loss: 1.3077\n",
      "Epoch 6/100\n",
      "60000/60000 [==============================] - 5s 90us/sample - loss: 1.1580\n",
      "Epoch 7/100\n",
      "60000/60000 [==============================] - 5s 90us/sample - loss: 1.0605\n",
      "Epoch 8/100\n",
      "60000/60000 [==============================] - 6s 97us/sample - loss: 0.9878\n",
      "Epoch 9/100\n",
      "60000/60000 [==============================] - 6s 98us/sample - loss: 0.9107\n",
      "Epoch 10/100\n",
      "60000/60000 [==============================] - 6s 98us/sample - loss: 0.8536\n",
      "Epoch 11/100\n",
      "60000/60000 [==============================] - 6s 97us/sample - loss: 0.8103\n",
      "Epoch 12/100\n",
      "60000/60000 [==============================] - 6s 97us/sample - loss: 0.7726\n",
      "Epoch 13/100\n",
      "60000/60000 [==============================] - 6s 97us/sample - loss: 0.7331\n",
      "Epoch 14/100\n",
      "60000/60000 [==============================] - 6s 97us/sample - loss: 0.6921\n",
      "Epoch 15/100\n",
      "60000/60000 [==============================] - 6s 98us/sample - loss: 0.6685\n",
      "Epoch 16/100\n",
      "60000/60000 [==============================] - 6s 97us/sample - loss: 0.6301\n",
      "Epoch 17/100\n",
      "60000/60000 [==============================] - 6s 97us/sample - loss: 0.6048\n",
      "Epoch 18/100\n",
      "60000/60000 [==============================] - 6s 96us/sample - loss: 0.5866\n",
      "Epoch 19/100\n",
      "60000/60000 [==============================] - 6s 96us/sample - loss: 0.5661\n",
      "Epoch 20/100\n",
      "60000/60000 [==============================] - 6s 97us/sample - loss: 0.5414\n",
      "Epoch 21/100\n",
      "60000/60000 [==============================] - 6s 97us/sample - loss: 0.5207\n",
      "Epoch 22/100\n",
      "60000/60000 [==============================] - 6s 97us/sample - loss: 0.4999\n",
      "Epoch 23/100\n",
      "60000/60000 [==============================] - 6s 99us/sample - loss: 0.4773\n",
      "Epoch 24/100\n",
      "60000/60000 [==============================] - 6s 98us/sample - loss: 0.4730\n",
      "Epoch 25/100\n",
      "60000/60000 [==============================] - 6s 105us/sample - loss: 0.4556\n",
      "Epoch 26/100\n",
      "60000/60000 [==============================] - 7s 116us/sample - loss: 0.4438\n",
      "Epoch 27/100\n",
      "60000/60000 [==============================] - 6s 107us/sample - loss: 0.4284\n",
      "Epoch 28/100\n",
      "60000/60000 [==============================] - 7s 112us/sample - loss: 0.4166\n",
      "Epoch 29/100\n",
      "60000/60000 [==============================] - 8s 140us/sample - loss: 0.4012\n",
      "Epoch 30/100\n",
      "60000/60000 [==============================] - 7s 117us/sample - loss: 0.3901\n",
      "Epoch 31/100\n",
      "60000/60000 [==============================] - 6s 104us/sample - loss: 0.3711\n",
      "Epoch 32/100\n",
      "60000/60000 [==============================] - 6s 102us/sample - loss: 0.3607\n",
      "Epoch 33/100\n",
      "60000/60000 [==============================] - 6s 99us/sample - loss: 0.3482\n",
      "Epoch 34/100\n",
      "60000/60000 [==============================] - 6s 99us/sample - loss: 0.3402\n",
      "Epoch 35/100\n",
      "60000/60000 [==============================] - 6s 104us/sample - loss: 0.3322\n",
      "Epoch 36/100\n",
      "60000/60000 [==============================] - 7s 109us/sample - loss: 0.3233\n",
      "Epoch 37/100\n",
      "60000/60000 [==============================] - 6s 105us/sample - loss: 0.3145\n",
      "Epoch 38/100\n",
      "60000/60000 [==============================] - 6s 107us/sample - loss: 0.3063\n",
      "Epoch 39/100\n",
      "60000/60000 [==============================] - 7s 109us/sample - loss: 0.2944\n",
      "Epoch 40/100\n",
      "60000/60000 [==============================] - 6s 106us/sample - loss: 0.2940\n",
      "Epoch 41/100\n",
      "60000/60000 [==============================] - 6s 104us/sample - loss: 0.2830\n",
      "Epoch 42/100\n",
      "60000/60000 [==============================] - 6s 103us/sample - loss: 0.2731\n",
      "Epoch 43/100\n",
      "60000/60000 [==============================] - 6s 103us/sample - loss: 0.2680\n",
      "Epoch 44/100\n",
      "60000/60000 [==============================] - 7s 116us/sample - loss: 0.2657\n",
      "Epoch 45/100\n",
      "60000/60000 [==============================] - 6s 102us/sample - loss: 0.2566\n",
      "Epoch 46/100\n",
      "60000/60000 [==============================] - 6s 102us/sample - loss: 0.2542\n",
      "Epoch 47/100\n",
      "60000/60000 [==============================] - 6s 103us/sample - loss: 0.2439\n",
      "Epoch 48/100\n",
      "60000/60000 [==============================] - 6s 103us/sample - loss: 0.2411\n",
      "Epoch 49/100\n",
      "60000/60000 [==============================] - 8s 126us/sample - loss: 0.2361\n",
      "Epoch 50/100\n",
      "60000/60000 [==============================] - 7s 112us/sample - loss: 0.2326\n",
      "Epoch 51/100\n",
      "60000/60000 [==============================] - 7s 115us/sample - loss: 0.2223\n",
      "Epoch 52/100\n",
      "60000/60000 [==============================] - 7s 114us/sample - loss: 0.2224\n",
      "Epoch 53/100\n",
      "60000/60000 [==============================] - 6s 104us/sample - loss: 0.2154\n",
      "Epoch 54/100\n",
      "60000/60000 [==============================] - 7s 109us/sample - loss: 0.2131\n",
      "Epoch 55/100\n",
      "60000/60000 [==============================] - 6s 104us/sample - loss: 0.2073\n",
      "Epoch 56/100\n",
      "60000/60000 [==============================] - 6s 104us/sample - loss: 0.2099\n",
      "Epoch 57/100\n",
      "60000/60000 [==============================] - 6s 104us/sample - loss: 0.2092\n",
      "Epoch 58/100\n",
      "60000/60000 [==============================] - 6s 105us/sample - loss: 0.1953\n",
      "Epoch 59/100\n",
      "60000/60000 [==============================] - 6s 106us/sample - loss: 0.1982\n",
      "Epoch 60/100\n",
      "60000/60000 [==============================] - 6s 105us/sample - loss: 0.1937\n",
      "Epoch 61/100\n",
      "60000/60000 [==============================] - 6s 105us/sample - loss: 0.1903\n",
      "Epoch 62/100\n",
      "60000/60000 [==============================] - 6s 106us/sample - loss: 0.1872\n",
      "Epoch 63/100\n",
      "60000/60000 [==============================] - 6s 106us/sample - loss: 0.1873\n",
      "Epoch 64/100\n",
      "60000/60000 [==============================] - 6s 106us/sample - loss: 0.1780\n",
      "Epoch 65/100\n",
      "60000/60000 [==============================] - 7s 111us/sample - loss: 0.1828\n",
      "Epoch 66/100\n",
      "60000/60000 [==============================] - 7s 110us/sample - loss: 0.1830\n",
      "Epoch 67/100\n",
      "60000/60000 [==============================] - 7s 109us/sample - loss: 0.1771\n",
      "Epoch 68/100\n",
      "60000/60000 [==============================] - 6s 108us/sample - loss: 0.1684\n",
      "Epoch 69/100\n",
      "60000/60000 [==============================] - 6s 107us/sample - loss: 0.1676\n",
      "Epoch 70/100\n",
      "60000/60000 [==============================] - 6s 107us/sample - loss: 0.1696\n",
      "Epoch 71/100\n",
      "60000/60000 [==============================] - 6s 106us/sample - loss: 0.1647\n",
      "Epoch 72/100\n",
      "60000/60000 [==============================] - 6s 105us/sample - loss: 0.1619\n",
      "Epoch 73/100\n",
      "60000/60000 [==============================] - 6s 105us/sample - loss: 0.1578\n",
      "Epoch 74/100\n",
      "60000/60000 [==============================] - 7s 116us/sample - loss: 0.1643\n",
      "Epoch 75/100\n",
      "60000/60000 [==============================] - 7s 122us/sample - loss: 0.1571\n",
      "Epoch 76/100\n",
      "60000/60000 [==============================] - 8s 127us/sample - loss: 0.1599\n",
      "Epoch 77/100\n",
      "60000/60000 [==============================] - 7s 112us/sample - loss: 0.1529\n",
      "Epoch 78/100\n",
      "60000/60000 [==============================] - 6s 104us/sample - loss: 0.1533\n",
      "Epoch 79/100\n",
      "60000/60000 [==============================] - 7s 116us/sample - loss: 0.1542\n",
      "Epoch 80/100\n",
      "60000/60000 [==============================] - 8s 125us/sample - loss: 0.1518\n",
      "Epoch 81/100\n",
      "60000/60000 [==============================] - 8s 137us/sample - loss: 0.1464\n",
      "Epoch 82/100\n",
      "60000/60000 [==============================] - 6s 106us/sample - loss: 0.1458\n",
      "Epoch 83/100\n",
      "60000/60000 [==============================] - 6s 102us/sample - loss: 0.1461\n",
      "Epoch 84/100\n",
      "60000/60000 [==============================] - 6s 101us/sample - loss: 0.1428\n",
      "Epoch 85/100\n",
      "60000/60000 [==============================] - 6s 102us/sample - loss: 0.1432\n",
      "Epoch 86/100\n",
      "60000/60000 [==============================] - 6s 102us/sample - loss: 0.1394\n",
      "Epoch 87/100\n",
      "60000/60000 [==============================] - 7s 109us/sample - loss: 0.1395\n",
      "Epoch 88/100\n",
      "60000/60000 [==============================] - 6s 102us/sample - loss: 0.1407\n",
      "Epoch 89/100\n",
      "60000/60000 [==============================] - 7s 111us/sample - loss: 0.1388\n",
      "Epoch 90/100\n",
      "60000/60000 [==============================] - 7s 119us/sample - loss: 0.1370\n",
      "Epoch 91/100\n"
     ]
    },
    {
     "name": "stdout",
     "output_type": "stream",
     "text": [
      "60000/60000 [==============================] - 7s 112us/sample - loss: 0.1411\n",
      "Epoch 92/100\n",
      "60000/60000 [==============================] - 7s 109us/sample - loss: 0.1374\n",
      "Epoch 93/100\n",
      "60000/60000 [==============================] - 7s 125us/sample - loss: 0.1321\n",
      "Epoch 94/100\n",
      "60000/60000 [==============================] - 6s 108us/sample - loss: 0.1311\n",
      "Epoch 95/100\n",
      "60000/60000 [==============================] - 7s 114us/sample - loss: 0.1281\n",
      "Epoch 96/100\n",
      "60000/60000 [==============================] - 7s 119us/sample - loss: 0.1309\n",
      "Epoch 97/100\n",
      "60000/60000 [==============================] - 7s 119us/sample - loss: 0.1310\n",
      "Epoch 98/100\n",
      "60000/60000 [==============================] - 7s 116us/sample - loss: 0.1257\n",
      "Epoch 99/100\n",
      "60000/60000 [==============================] - 6s 102us/sample - loss: 0.1299\n",
      "Epoch 100/100\n",
      "60000/60000 [==============================] - 6s 100us/sample - loss: 0.1279\n",
      "Train on 60000 samples\n",
      "Epoch 1/50\n",
      "60000/60000 [==============================] - 159s 3ms/sample - loss: 6.7763\n",
      "Epoch 2/50\n",
      "60000/60000 [==============================] - 157s 3ms/sample - loss: 1.1929\n",
      "Epoch 3/50\n",
      "60000/60000 [==============================] - 162s 3ms/sample - loss: 0.7808\n",
      "Epoch 4/50\n",
      "60000/60000 [==============================] - 173s 3ms/sample - loss: 0.6663\n",
      "Epoch 5/50\n",
      "60000/60000 [==============================] - 180s 3ms/sample - loss: 0.5981\n",
      "Epoch 6/50\n",
      "60000/60000 [==============================] - 164s 3ms/sample - loss: 0.5571\n",
      "Epoch 7/50\n",
      "60000/60000 [==============================] - 164s 3ms/sample - loss: 0.5139\n",
      "Epoch 8/50\n",
      "60000/60000 [==============================] - 163s 3ms/sample - loss: 0.4918\n",
      "Epoch 9/50\n",
      "60000/60000 [==============================] - 164s 3ms/sample - loss: 0.4593\n",
      "Epoch 10/50\n",
      "60000/60000 [==============================] - 178s 3ms/sample - loss: 0.4359\n",
      "Epoch 11/50\n",
      "60000/60000 [==============================] - 169s 3ms/sample - loss: 0.4172\n",
      "Epoch 12/50\n",
      "60000/60000 [==============================] - 169s 3ms/sample - loss: 0.3984\n",
      "Epoch 13/50\n",
      "60000/60000 [==============================] - 172s 3ms/sample - loss: 0.3887\n",
      "Epoch 14/50\n",
      "60000/60000 [==============================] - 168s 3ms/sample - loss: 0.3686\n",
      "Epoch 15/50\n",
      "60000/60000 [==============================] - 169s 3ms/sample - loss: 0.3576\n",
      "Epoch 16/50\n",
      "60000/60000 [==============================] - 198s 3ms/sample - loss: 0.3427\n",
      "Epoch 17/50\n",
      "60000/60000 [==============================] - 165s 3ms/sample - loss: 0.3376\n",
      "Epoch 18/50\n",
      "60000/60000 [==============================] - 161s 3ms/sample - loss: 0.3251\n",
      "Epoch 19/50\n",
      "60000/60000 [==============================] - 162s 3ms/sample - loss: 0.3135\n",
      "Epoch 20/50\n",
      "60000/60000 [==============================] - 158s 3ms/sample - loss: 0.3043\n",
      "Epoch 21/50\n",
      "60000/60000 [==============================] - 157s 3ms/sample - loss: 0.2965\n",
      "Epoch 22/50\n",
      "60000/60000 [==============================] - 158s 3ms/sample - loss: 0.2857\n",
      "Epoch 23/50\n",
      "60000/60000 [==============================] - 162s 3ms/sample - loss: 0.2805\n",
      "Epoch 24/50\n",
      "60000/60000 [==============================] - 159s 3ms/sample - loss: 0.2686\n",
      "Epoch 25/50\n",
      "60000/60000 [==============================] - 160s 3ms/sample - loss: 0.2625\n",
      "Epoch 26/50\n",
      "60000/60000 [==============================] - 160s 3ms/sample - loss: 0.2581\n",
      "Epoch 27/50\n",
      "60000/60000 [==============================] - 158s 3ms/sample - loss: 0.2508\n",
      "Epoch 28/50\n",
      "60000/60000 [==============================] - 159s 3ms/sample - loss: 0.2438\n",
      "Epoch 29/50\n",
      "60000/60000 [==============================] - 158s 3ms/sample - loss: 0.2407\n",
      "Epoch 30/50\n",
      "60000/60000 [==============================] - 157s 3ms/sample - loss: 0.2326\n",
      "Epoch 31/50\n",
      "60000/60000 [==============================] - 157s 3ms/sample - loss: 0.2266\n",
      "Epoch 32/50\n",
      "60000/60000 [==============================] - 157s 3ms/sample - loss: 0.2242\n",
      "Epoch 33/50\n",
      "60000/60000 [==============================] - 157s 3ms/sample - loss: 0.2190\n",
      "Epoch 34/50\n",
      "60000/60000 [==============================] - 157s 3ms/sample - loss: 0.2130\n",
      "Epoch 35/50\n",
      "60000/60000 [==============================] - 160s 3ms/sample - loss: 0.2118\n",
      "Epoch 36/50\n",
      "60000/60000 [==============================] - 166s 3ms/sample - loss: 0.2050\n",
      "Epoch 37/50\n",
      "60000/60000 [==============================] - 171s 3ms/sample - loss: 0.2014\n",
      "Epoch 38/50\n",
      "60000/60000 [==============================] - 161s 3ms/sample - loss: 0.1954\n",
      "Epoch 39/50\n",
      "60000/60000 [==============================] - 168s 3ms/sample - loss: 0.1954\n",
      "Epoch 40/50\n",
      "60000/60000 [==============================] - 163s 3ms/sample - loss: 0.1904\n",
      "Epoch 41/50\n",
      "60000/60000 [==============================] - 155s 3ms/sample - loss: 0.1860\n",
      "Epoch 42/50\n",
      "60000/60000 [==============================] - 156s 3ms/sample - loss: 0.1819\n",
      "Epoch 43/50\n",
      "60000/60000 [==============================] - 156s 3ms/sample - loss: 0.1798\n",
      "Epoch 44/50\n",
      "60000/60000 [==============================] - 155s 3ms/sample - loss: 0.1768\n",
      "Epoch 45/50\n",
      "60000/60000 [==============================] - 155s 3ms/sample - loss: 0.1753\n",
      "Epoch 46/50\n",
      "60000/60000 [==============================] - 155s 3ms/sample - loss: 0.1699\n",
      "Epoch 47/50\n",
      "60000/60000 [==============================] - 156s 3ms/sample - loss: 0.1694\n",
      "Epoch 48/50\n",
      "60000/60000 [==============================] - 156s 3ms/sample - loss: 0.1666\n",
      "Epoch 49/50\n",
      "60000/60000 [==============================] - 157s 3ms/sample - loss: 0.1640\n",
      "Epoch 50/50\n",
      "60000/60000 [==============================] - 157s 3ms/sample - loss: 0.1647\n",
      "Train on 60000 samples\n",
      "Epoch 1/50\n",
      "60000/60000 [==============================] - 92s 2ms/sample - loss: 3.1578\n",
      "Epoch 2/50\n",
      "60000/60000 [==============================] - 91s 2ms/sample - loss: 1.1954\n",
      "Epoch 3/50\n",
      "60000/60000 [==============================] - 101s 2ms/sample - loss: 0.8355\n",
      "Epoch 4/50\n",
      "60000/60000 [==============================] - 102s 2ms/sample - loss: 0.6658\n",
      "Epoch 5/50\n",
      "60000/60000 [==============================] - 108s 2ms/sample - loss: 0.5571\n",
      "Epoch 6/50\n",
      "60000/60000 [==============================] - 99s 2ms/sample - loss: 0.4933\n",
      "Epoch 7/50\n",
      "60000/60000 [==============================] - 102s 2ms/sample - loss: 0.4145\n",
      "Epoch 8/50\n",
      "60000/60000 [==============================] - 102s 2ms/sample - loss: 0.3783\n",
      "Epoch 9/50\n",
      "60000/60000 [==============================] - 104s 2ms/sample - loss: 0.3363\n",
      "Epoch 10/50\n",
      "60000/60000 [==============================] - 93s 2ms/sample - loss: 0.3539\n",
      "Epoch 11/50\n",
      "60000/60000 [==============================] - 93s 2ms/sample - loss: 0.2993\n",
      "Epoch 12/50\n",
      "60000/60000 [==============================] - 95s 2ms/sample - loss: 0.2821\n",
      "Epoch 13/50\n",
      "60000/60000 [==============================] - 95s 2ms/sample - loss: 0.2891\n",
      "Epoch 14/50\n",
      "60000/60000 [==============================] - 94s 2ms/sample - loss: 0.2776\n",
      "Epoch 15/50\n",
      "60000/60000 [==============================] - 98s 2ms/sample - loss: 0.2393\n",
      "Epoch 16/50\n",
      "60000/60000 [==============================] - 101s 2ms/sample - loss: 0.2175\n",
      "Epoch 17/50\n",
      "60000/60000 [==============================] - 96s 2ms/sample - loss: 0.2157\n",
      "Epoch 18/50\n",
      "60000/60000 [==============================] - 94s 2ms/sample - loss: 0.2217\n",
      "Epoch 19/50\n",
      "60000/60000 [==============================] - 94s 2ms/sample - loss: 0.1949\n",
      "Epoch 20/50\n",
      "60000/60000 [==============================] - 95s 2ms/sample - loss: 0.2199\n",
      "Epoch 21/50\n",
      "60000/60000 [==============================] - 94s 2ms/sample - loss: 0.2256\n",
      "Epoch 22/50\n",
      "60000/60000 [==============================] - 94s 2ms/sample - loss: 0.1845\n",
      "Epoch 23/50\n",
      "60000/60000 [==============================] - 94s 2ms/sample - loss: 0.1729\n",
      "Epoch 24/50\n",
      "60000/60000 [==============================] - 94s 2ms/sample - loss: 0.1604\n",
      "Epoch 25/50\n",
      "60000/60000 [==============================] - 94s 2ms/sample - loss: 0.1906\n",
      "Epoch 26/50\n",
      "60000/60000 [==============================] - 95s 2ms/sample - loss: 0.1716\n",
      "Epoch 27/50\n",
      "60000/60000 [==============================] - 96s 2ms/sample - loss: 0.1664\n",
      "Epoch 28/50\n",
      "60000/60000 [==============================] - 95s 2ms/sample - loss: 0.1646\n",
      "Epoch 29/50\n",
      "60000/60000 [==============================] - 94s 2ms/sample - loss: 0.1594\n",
      "Epoch 30/50\n",
      "60000/60000 [==============================] - 94s 2ms/sample - loss: 0.1663\n",
      "Epoch 31/50\n",
      "60000/60000 [==============================] - 101s 2ms/sample - loss: 0.1390\n"
     ]
    },
    {
     "name": "stdout",
     "output_type": "stream",
     "text": [
      "Epoch 32/50\n",
      "60000/60000 [==============================] - 97s 2ms/sample - loss: 0.1200\n",
      "Epoch 33/50\n",
      "60000/60000 [==============================] - 100s 2ms/sample - loss: 0.1475\n",
      "Epoch 34/50\n",
      "60000/60000 [==============================] - 93s 2ms/sample - loss: 0.1231\n",
      "Epoch 35/50\n",
      "60000/60000 [==============================] - 92s 2ms/sample - loss: 0.1245\n",
      "Epoch 36/50\n",
      "60000/60000 [==============================] - 92s 2ms/sample - loss: 0.1240\n",
      "Epoch 37/50\n",
      "60000/60000 [==============================] - 92s 2ms/sample - loss: 0.1086\n",
      "Epoch 38/50\n",
      "60000/60000 [==============================] - 93s 2ms/sample - loss: 0.1364\n",
      "Epoch 39/50\n",
      "60000/60000 [==============================] - 94s 2ms/sample - loss: 0.1528\n",
      "Epoch 40/50\n",
      "60000/60000 [==============================] - 91s 2ms/sample - loss: 0.1261\n",
      "Epoch 41/50\n",
      "60000/60000 [==============================] - 92s 2ms/sample - loss: 0.1103\n",
      "Epoch 42/50\n",
      "60000/60000 [==============================] - 97s 2ms/sample - loss: 0.1341\n",
      "Epoch 43/50\n",
      "60000/60000 [==============================] - 96s 2ms/sample - loss: 0.1287\n",
      "Epoch 44/50\n",
      "60000/60000 [==============================] - 98s 2ms/sample - loss: 0.0891\n",
      "Epoch 45/50\n",
      "60000/60000 [==============================] - 102s 2ms/sample - loss: 0.1057\n",
      "Epoch 46/50\n",
      "60000/60000 [==============================] - 96s 2ms/sample - loss: 0.0959\n",
      "Epoch 47/50\n",
      "60000/60000 [==============================] - 92s 2ms/sample - loss: 0.0923\n",
      "Epoch 48/50\n",
      "60000/60000 [==============================] - 91s 2ms/sample - loss: 0.0930\n",
      "Epoch 49/50\n",
      "60000/60000 [==============================] - 91s 2ms/sample - loss: 0.0987\n",
      "Epoch 50/50\n",
      "60000/60000 [==============================] - 91s 2ms/sample - loss: 0.1099\n"
     ]
    }
   ],
   "source": [
    "model1 = DNN_model(0.2, 'adam')\n",
    "model2 = CNN_model(0.3, 'rmsprop')\n",
    "model3 = LSTM_model(0.2, 'adam')\n",
    "\n",
    "hist_1 = model1.fit(x_dnn, y_train, batch_size=256, epochs=100)\n",
    "hist_2 = model2.fit(x_cnn, y_train, batch_size=128, epochs=50)\n",
    "hist_3 = model3.fit(x_train, y_train, batch_size=256, epochs=50)"
   ]
  },
  {
   "cell_type": "code",
   "execution_count": 5,
   "metadata": {
    "ExecuteTime": {
     "end_time": "2020-09-21T06:51:39.576268Z",
     "start_time": "2020-09-21T06:51:24.208478Z"
    }
   },
   "outputs": [
    {
     "data": {
      "image/png": "[encoded data removed]",
      "text/plain": [
       "<Figure size 1440x720 with 1 Axes>"
      ]
     },
     "metadata": {},
     "output_type": "display_data"
    }
   ],
   "source": [
    "pred_1 = model1.predict(x_dnn_test)\n",
    "pred_2 = model2.predict(x_cnn_test)\n",
    "pred_3 = model3.predict(x_test)\n",
    "\n",
    "fig = plt.figure(facecolor='white', figsize=(20, 10))\n",
    "ax = fig.add_subplot(111)\n",
    "ax.plot(y_test[70:100], label='y_test')\n",
    "ax.plot(pred_1[70:100], label='DNN')\n",
    "ax.plot(pred_2[70:100], label='CNN')\n",
    "ax.plot(pred_3[70:100], label='LSTM')\n",
    "ax.legend()\n",
    "plt.show()"
   ]
  },
  {
   "cell_type": "code",
   "execution_count": 9,
   "metadata": {
    "ExecuteTime": {
     "end_time": "2020-09-21T06:56:00.765440Z",
     "start_time": "2020-09-21T06:56:00.761437Z"
    }
   },
   "outputs": [
    {
     "data": {
      "text/plain": [
       "7.024845"
      ]
     },
     "execution_count": 9,
     "metadata": {},
     "output_type": "execute_result"
    }
   ],
   "source": [
    "pred_1[0][0]"
   ]
  },
  {
   "cell_type": "code",
   "execution_count": 10,
   "metadata": {
    "ExecuteTime": {
     "end_time": "2020-09-21T06:56:27.571458Z",
     "start_time": "2020-09-21T06:56:27.565475Z"
    }
   },
   "outputs": [
    {
     "data": {
      "text/plain": [
       "array([7, 2, 1, ..., 4, 5, 6], dtype=uint8)"
      ]
     },
     "execution_count": 10,
     "metadata": {},
     "output_type": "execute_result"
    }
   ],
   "source": [
    "y_test"
   ]
  },
  {
   "cell_type": "code",
   "execution_count": 11,
   "metadata": {
    "ExecuteTime": {
     "end_time": "2020-09-21T06:58:24.677229Z",
     "start_time": "2020-09-21T06:58:24.592017Z"
    }
   },
   "outputs": [],
   "source": [
    "prediction1 = []\n",
    "for i in range(len(pred_1)):\n",
    "    for j in range(len(pred_1[0])):\n",
    "        prediction1.append(round(pred_1[i][j]))\n",
    "prediction1 = np.array(prediction1)        \n",
    "        \n",
    "prediction2 = []\n",
    "for i in range(len(pred_2)):\n",
    "    for j in range(len(pred_2[0])):\n",
    "        prediction2.append(round(pred_2[i][j]))\n",
    "prediction2 = np.array(prediction2)\n",
    "\n",
    "prediction3 = []\n",
    "for i in range(len(pred_3)):\n",
    "    for j in range(len(pred_3[0])):\n",
    "        prediction3.append(round(pred_3[i][j]))\n",
    "prediction3 = np.array(prediction3)"
   ]
  },
  {
   "cell_type": "code",
   "execution_count": 12,
   "metadata": {
    "ExecuteTime": {
     "end_time": "2020-09-21T06:58:32.071454Z",
     "start_time": "2020-09-21T06:58:32.055334Z"
    }
   },
   "outputs": [
    {
     "data": {
      "text/plain": [
       "array([7, 2, 1, ..., 4, 5, 6])"
      ]
     },
     "execution_count": 12,
     "metadata": {},
     "output_type": "execute_result"
    }
   ],
   "source": [
    "prediction1"
   ]
  },
  {
   "cell_type": "code",
   "execution_count": 13,
   "metadata": {
    "ExecuteTime": {
     "end_time": "2020-09-21T06:58:38.072992Z",
     "start_time": "2020-09-21T06:58:38.067977Z"
    }
   },
   "outputs": [
    {
     "data": {
      "text/plain": [
       "array([7, 2, 1, ..., 4, 5, 6])"
      ]
     },
     "execution_count": 13,
     "metadata": {},
     "output_type": "execute_result"
    }
   ],
   "source": [
    "prediction2"
   ]
  },
  {
   "cell_type": "code",
   "execution_count": 14,
   "metadata": {
    "ExecuteTime": {
     "end_time": "2020-09-21T06:58:42.350503Z",
     "start_time": "2020-09-21T06:58:42.344994Z"
    }
   },
   "outputs": [
    {
     "data": {
      "text/plain": [
       "array([7, 2, 1, ..., 4, 5, 6])"
      ]
     },
     "execution_count": 14,
     "metadata": {},
     "output_type": "execute_result"
    }
   ],
   "source": [
    "prediction3"
   ]
  },
  {
   "cell_type": "code",
   "execution_count": 15,
   "metadata": {
    "ExecuteTime": {
     "end_time": "2020-09-21T07:01:52.896418Z",
     "start_time": "2020-09-21T07:01:52.879933Z"
    }
   },
   "outputs": [
    {
     "data": {
      "text/plain": [
       "0.9521"
      ]
     },
     "execution_count": 15,
     "metadata": {},
     "output_type": "execute_result"
    }
   ],
   "source": [
    "from sklearn.metrics import accuracy_score\n",
    "acc1 = accuracy_score(prediction1, y_test)\n",
    "acc1"
   ]
  },
  {
   "cell_type": "code",
   "execution_count": 16,
   "metadata": {
    "ExecuteTime": {
     "end_time": "2020-09-21T07:02:06.862670Z",
     "start_time": "2020-09-21T07:02:06.856097Z"
    }
   },
   "outputs": [
    {
     "data": {
      "text/plain": [
       "0.9248"
      ]
     },
     "execution_count": 16,
     "metadata": {},
     "output_type": "execute_result"
    }
   ],
   "source": [
    "acc2 = accuracy_score(prediction2, y_test)\n",
    "acc2"
   ]
  },
  {
   "cell_type": "code",
   "execution_count": 17,
   "metadata": {
    "ExecuteTime": {
     "end_time": "2020-09-21T07:02:19.411975Z",
     "start_time": "2020-09-21T07:02:19.405379Z"
    }
   },
   "outputs": [
    {
     "data": {
      "text/plain": [
       "0.9766"
      ]
     },
     "execution_count": 17,
     "metadata": {},
     "output_type": "execute_result"
    }
   ],
   "source": [
    "acc3 = accuracy_score(prediction3, y_test)\n",
    "acc3"
   ]
  }
 ],
 "metadata": {
  "kernelspec": {
   "display_name": "Tensorflow",
   "language": "python",
   "name": "tensorflow"
  },
  "language_info": {
   "codemirror_mode": {
    "name": "ipython",
    "version": 3
   },
   "file_extension": ".py",
   "mimetype": "text/x-python",
   "name": "python",
   "nbconvert_exporter": "python",
   "pygments_lexer": "ipython3",
   "version": "3.7.6"
  }
 },
 "nbformat": 4,
 "nbformat_minor": 4
}
