{
 "cells": [
  {
   "cell_type": "code",
   "execution_count": 1,
   "metadata": {
    "ExecuteTime": {
     "end_time": "2020-08-09T15:39:49.386830Z",
     "start_time": "2020-08-09T15:39:46.455141Z"
    }
   },
   "outputs": [],
   "source": [
    "from tensorflow.keras.models import Sequential, Model\n",
    "from tensorflow.keras.layers import Input, Dropout, Conv2D, Flatten, MaxPooling2D, Dense, LSTM\n",
    "import numpy as np"
   ]
  },
  {
   "cell_type": "code",
   "execution_count": 2,
   "metadata": {
    "ExecuteTime": {
     "end_time": "2020-08-09T15:41:16.853592Z",
     "start_time": "2020-08-09T15:41:16.837167Z"
    }
   },
   "outputs": [],
   "source": [
    "def build_model(drop=0.5, optimizer = 'adam'):\n",
    "    inputs = Input(shape= (28*28, 1 ), name = 'input')\n",
    "    x = LSTM(51, activation = 'relu', name = 'hidden1')(inputs)\n",
    "    x = Dropout(drop)(x)\n",
    "    x = Dense(256, activation = 'relu', name = 'hidden2')(x)\n",
    "    x = Dropout(drop)(x)\n",
    "    x = Dense(128, activation = 'relu', name = 'hidden3')(x)\n",
    "    x = Dropout(drop)(x)\n",
    "    outputs = Dense(10, activation = 'softmax', name = 'output')(x)\n",
    "    model = Model(inputs = inputs, outputs = outputs)\n",
    "    model.compile(optimizer = optimizer, metrics = ['acc'],\n",
    "                  loss = 'categorical_crossentropy')\n",
    "    return model"
   ]
  },
  {
   "cell_type": "code",
   "execution_count": 5,
   "metadata": {
    "ExecuteTime": {
     "end_time": "2020-08-09T15:41:32.347882Z",
     "start_time": "2020-08-09T15:41:32.333714Z"
    }
   },
   "outputs": [],
   "source": [
    "# parameter\n",
    "def create_hyperparameters(): # epochs, node, acivation 추가 가능\n",
    "    batches = [64, 128, 256]\n",
    "    optimizers = ['rmsprop', 'adam', 'adadelta']\n",
    "    dropout = np.linspace(0.1, 0.5, 5).tolist()                           \n",
    "    return {'batch_size' : batches, 'optimizer': optimizers, \n",
    "           'drop': dropout}\n",
    "\n",
    "hyperparameters = create_hyperparameters()"
   ]
  },
  {
   "cell_type": "code",
   "execution_count": 6,
   "metadata": {
    "ExecuteTime": {
     "end_time": "2020-08-09T15:41:32.914518Z",
     "start_time": "2020-08-09T15:41:32.909588Z"
    }
   },
   "outputs": [],
   "source": [
    "# wrapper\n",
    "from tensorflow.keras.wrappers.scikit_learn import KerasClassifier          \n",
    "model = KerasClassifier(build_fn = build_model, verbose = 1)"
   ]
  },
  {
   "cell_type": "code",
   "execution_count": 8,
   "metadata": {
    "ExecuteTime": {
     "end_time": "2020-08-09T15:43:13.983734Z",
     "start_time": "2020-08-09T15:43:13.977733Z"
    }
   },
   "outputs": [],
   "source": [
    "# gridsearch\n",
    "from sklearn.model_selection import GridSearchCV\n",
    "search = GridSearchCV(model, hyperparameters, cv = 3) # cv = cross_validation\n",
    "# batches * optimizers * dropout * cv\n",
    "#   3     *     3      *    5    *  3 = 225번의 model이 돌아감"
   ]
  },
  {
   "cell_type": "code",
   "execution_count": null,
   "metadata": {},
   "outputs": [],
   "source": [
    "'''\n",
    "GridSearch 는 우리가 지정해준 몇 가지 잠재적\n",
    "Parameter들의 후보군들의 조합 중에서 가장 Best 조합을 찾아줍니다.\n",
    "어떻게 보면 우리가 하나하나 대입해 가면서 loss를 확인하는 작업을\n",
    "GridSearch는 대신 해준다고 보면 됩니다.\n",
    "또한, sklearn 패키지에서 제공해주고 있기때문에 매우 손쉽게 사용할 수 있습니다.\n",
    "\n",
    "하지만, 가장 큰 단점은 우리가 지정해 준 hyperparameter 후보군의 갯수만큼\n",
    "비례하여 시간이 늘어기 때문에 최적의 조합을 찾을 때까지\n",
    "시간이 매우 오래 걸린다는 단점이 있습니다.\n",
    "'''"
   ]
  },
  {
   "cell_type": "code",
   "execution_count": 7,
   "metadata": {
    "ExecuteTime": {
     "end_time": "2020-08-09T15:41:42.061259Z",
     "start_time": "2020-08-09T15:41:41.053876Z"
    }
   },
   "outputs": [],
   "source": [
    "# randomsearch\n",
    "from sklearn.model_selection import RandomizedSearchCV         \n",
    "search = RandomizedSearchCV(model, hyperparameters, cv = 3) #, n_jobs=5\n",
    "# n_jobs = 사용할 core의 수를 정해줌\n",
    "# batches * optimizers * dropout * cv\n",
    "#   3     *     3      *    5    *  3 = 225번의 model이 돌아감"
   ]
  },
  {
   "cell_type": "code",
   "execution_count": null,
   "metadata": {},
   "outputs": [],
   "source": [
    "'''\n",
    "gridsearch의 단점을 피하기 위해 나온 방법\n",
    "난수를 이용하여 매개변수 조합을 생성\n",
    "-> gridsearch는 매개변수가 될 수들을 미리 정하지만, random search는 난수를 사용\n",
    "이 때 각각의 매개변수 범위나 간격 등을 설정해야 함\n",
    "보통 논문을 보면 제시하는 기본값을 중심으로 적절한 범위를 설정함\n",
    "'''"
   ]
  }
 ],
 "metadata": {
  "kernelspec": {
   "display_name": "Tensorflow",
   "language": "python",
   "name": "tensorflow"
  },
  "language_info": {
   "codemirror_mode": {
    "name": "ipython",
    "version": 3
   },
   "file_extension": ".py",
   "mimetype": "text/x-python",
   "name": "python",
   "nbconvert_exporter": "python",
   "pygments_lexer": "ipython3",
   "version": "3.7.6"
  }
 },
 "nbformat": 4,
 "nbformat_minor": 4
}
