{
 "cells": [
  {
   "cell_type": "code",
   "execution_count": 1,
   "metadata": {
    "ExecuteTime": {
     "end_time": "2020-08-12T09:16:21.211847Z",
     "start_time": "2020-08-12T09:16:18.559822Z"
    },
    "scrolled": true
   },
   "outputs": [],
   "source": [
    "# library\n",
    "import pandas as pd\n",
    "import numpy as np\n",
    "import matplotlib.pyplot as plt \n",
    "from tensorflow.keras.models import Sequential, Model\n",
    "from tensorflow.keras.layers import LSTM, Dropout, Dense, Input\n",
    "from tensorflow.keras.callbacks import TensorBoard, ModelCheckpoint, ReduceLROnPlateau\n",
    "from sklearn.preprocessing import MinMaxScaler\n",
    "import tensorflow as tf\n",
    "\n",
    "# seed\n",
    "import os\n",
    "seed = 123\n",
    "os.environ['PYTHONHASHSEED'] = str(seed)\n",
    "tf.random.set_seed(seed)"
   ]
  },
  {
   "cell_type": "code",
   "execution_count": 2,
   "metadata": {
    "ExecuteTime": {
     "end_time": "2020-08-12T09:16:21.236905Z",
     "start_time": "2020-08-12T09:16:21.212849Z"
    },
    "scrolled": true
   },
   "outputs": [
    {
     "data": {
      "text/html": [
       "<div>\n",
       "<style scoped>\n",
       "    .dataframe tbody tr th:only-of-type {\n",
       "        vertical-align: middle;\n",
       "    }\n",
       "\n",
       "    .dataframe tbody tr th {\n",
       "        vertical-align: top;\n",
       "    }\n",
       "\n",
       "    .dataframe thead th {\n",
       "        text-align: right;\n",
       "    }\n",
       "</style>\n",
       "<table border=\"1\" class=\"dataframe\">\n",
       "  <thead>\n",
       "    <tr style=\"text-align: right;\">\n",
       "      <th></th>\n",
       "      <th>Date</th>\n",
       "      <th>Close</th>\n",
       "      <th>YtT</th>\n",
       "      <th>Market Cap</th>\n",
       "      <th>High</th>\n",
       "      <th>Low</th>\n",
       "      <th>Volume</th>\n",
       "    </tr>\n",
       "  </thead>\n",
       "  <tbody>\n",
       "    <tr>\n",
       "      <th>0</th>\n",
       "      <td>2010.08.11</td>\n",
       "      <td>779000.0</td>\n",
       "      <td>14000.0</td>\n",
       "      <td>784000.0</td>\n",
       "      <td>789000.0</td>\n",
       "      <td>777000.0</td>\n",
       "      <td>359968.0</td>\n",
       "    </tr>\n",
       "    <tr>\n",
       "      <th>1</th>\n",
       "      <td>2010.08.12</td>\n",
       "      <td>766000.0</td>\n",
       "      <td>13000.0</td>\n",
       "      <td>768000.0</td>\n",
       "      <td>777000.0</td>\n",
       "      <td>765000.0</td>\n",
       "      <td>428357.0</td>\n",
       "    </tr>\n",
       "    <tr>\n",
       "      <th>2</th>\n",
       "      <td>2010.08.13</td>\n",
       "      <td>781000.0</td>\n",
       "      <td>15000.0</td>\n",
       "      <td>770000.0</td>\n",
       "      <td>782000.0</td>\n",
       "      <td>767000.0</td>\n",
       "      <td>286706.0</td>\n",
       "    </tr>\n",
       "    <tr>\n",
       "      <th>3</th>\n",
       "      <td>2010.08.16</td>\n",
       "      <td>782000.0</td>\n",
       "      <td>1000.0</td>\n",
       "      <td>773000.0</td>\n",
       "      <td>783000.0</td>\n",
       "      <td>767000.0</td>\n",
       "      <td>205733.0</td>\n",
       "    </tr>\n",
       "    <tr>\n",
       "      <th>4</th>\n",
       "      <td>2010.08.17</td>\n",
       "      <td>782000.0</td>\n",
       "      <td>0.0</td>\n",
       "      <td>777000.0</td>\n",
       "      <td>783000.0</td>\n",
       "      <td>771000.0</td>\n",
       "      <td>289608.0</td>\n",
       "    </tr>\n",
       "    <tr>\n",
       "      <th>...</th>\n",
       "      <td>...</td>\n",
       "      <td>...</td>\n",
       "      <td>...</td>\n",
       "      <td>...</td>\n",
       "      <td>...</td>\n",
       "      <td>...</td>\n",
       "      <td>...</td>\n",
       "    </tr>\n",
       "    <tr>\n",
       "      <th>2462</th>\n",
       "      <td>2020.08.05</td>\n",
       "      <td>56900.0</td>\n",
       "      <td>400.0</td>\n",
       "      <td>57300.0</td>\n",
       "      <td>57500.0</td>\n",
       "      <td>56300.0</td>\n",
       "      <td>17739706.0</td>\n",
       "    </tr>\n",
       "    <tr>\n",
       "      <th>2463</th>\n",
       "      <td>2020.08.06</td>\n",
       "      <td>58000.0</td>\n",
       "      <td>1100.0</td>\n",
       "      <td>57100.0</td>\n",
       "      <td>58400.0</td>\n",
       "      <td>57100.0</td>\n",
       "      <td>21625874.0</td>\n",
       "    </tr>\n",
       "    <tr>\n",
       "      <th>2464</th>\n",
       "      <td>2020.08.07</td>\n",
       "      <td>57500.0</td>\n",
       "      <td>500.0</td>\n",
       "      <td>57900.0</td>\n",
       "      <td>58400.0</td>\n",
       "      <td>57100.0</td>\n",
       "      <td>18751717.0</td>\n",
       "    </tr>\n",
       "    <tr>\n",
       "      <th>2465</th>\n",
       "      <td>2020.08.10</td>\n",
       "      <td>57800.0</td>\n",
       "      <td>300.0</td>\n",
       "      <td>57600.0</td>\n",
       "      <td>58300.0</td>\n",
       "      <td>57500.0</td>\n",
       "      <td>17774291.0</td>\n",
       "    </tr>\n",
       "    <tr>\n",
       "      <th>2466</th>\n",
       "      <td>2020.08.11</td>\n",
       "      <td>58200.0</td>\n",
       "      <td>400.0</td>\n",
       "      <td>58000.0</td>\n",
       "      <td>59500.0</td>\n",
       "      <td>57800.0</td>\n",
       "      <td>24765231.0</td>\n",
       "    </tr>\n",
       "  </tbody>\n",
       "</table>\n",
       "<p>2467 rows × 7 columns</p>\n",
       "</div>"
      ],
      "text/plain": [
       "            Date     Close      YtT  Market Cap      High       Low  \\\n",
       "0     2010.08.11  779000.0  14000.0    784000.0  789000.0  777000.0   \n",
       "1     2010.08.12  766000.0  13000.0    768000.0  777000.0  765000.0   \n",
       "2     2010.08.13  781000.0  15000.0    770000.0  782000.0  767000.0   \n",
       "3     2010.08.16  782000.0   1000.0    773000.0  783000.0  767000.0   \n",
       "4     2010.08.17  782000.0      0.0    777000.0  783000.0  771000.0   \n",
       "...          ...       ...      ...         ...       ...       ...   \n",
       "2462  2020.08.05   56900.0    400.0     57300.0   57500.0   56300.0   \n",
       "2463  2020.08.06   58000.0   1100.0     57100.0   58400.0   57100.0   \n",
       "2464  2020.08.07   57500.0    500.0     57900.0   58400.0   57100.0   \n",
       "2465  2020.08.10   57800.0    300.0     57600.0   58300.0   57500.0   \n",
       "2466  2020.08.11   58200.0    400.0     58000.0   59500.0   57800.0   \n",
       "\n",
       "          Volume  \n",
       "0       359968.0  \n",
       "1       428357.0  \n",
       "2       286706.0  \n",
       "3       205733.0  \n",
       "4       289608.0  \n",
       "...          ...  \n",
       "2462  17739706.0  \n",
       "2463  21625874.0  \n",
       "2464  18751717.0  \n",
       "2465  17774291.0  \n",
       "2466  24765231.0  \n",
       "\n",
       "[2467 rows x 7 columns]"
      ]
     },
     "execution_count": 2,
     "metadata": {},
     "output_type": "execute_result"
    }
   ],
   "source": [
    "data = pd.read_csv('005930_crawling.csv')\n",
    "data = data[::-1]\n",
    "data.reset_index(drop=True, inplace=True)\n",
    "data"
   ]
  },
  {
   "cell_type": "code",
   "execution_count": 3,
   "metadata": {
    "ExecuteTime": {
     "end_time": "2020-08-12T09:16:21.254996Z",
     "start_time": "2020-08-12T09:16:21.238905Z"
    }
   },
   "outputs": [
    {
     "name": "stdout",
     "output_type": "stream",
     "text": [
      "         Close       YtT  Market Cap      High       Low    Volume\n",
      "0     0.262630  0.099291    0.272696  0.274339  0.273784  0.005670\n",
      "1     0.258026  0.092199    0.267130  0.270167  0.269556  0.006747\n",
      "2     0.263339  0.106383    0.267826  0.271905  0.270261  0.004516\n",
      "3     0.263693  0.007092    0.268870  0.272253  0.270261  0.003240\n",
      "4     0.263693  0.000000    0.270261  0.272253  0.271670  0.004561\n",
      "...        ...       ...         ...       ...       ...       ...\n",
      "2462  0.006888  0.002837    0.019930  0.019993  0.019838  0.279405\n",
      "2463  0.007278  0.007801    0.019861  0.020306  0.020120  0.340613\n",
      "2464  0.007101  0.003546    0.020139  0.020306  0.020120  0.295344\n",
      "2465  0.007207  0.002128    0.020035  0.020271  0.020261  0.279949\n",
      "2466  0.007349  0.002837    0.020174  0.020688  0.020366  0.390058\n",
      "\n",
      "[2467 rows x 6 columns]\n"
     ]
    }
   ],
   "source": [
    "from sklearn.preprocessing import MinMaxScaler, StandardScaler\n",
    "\n",
    "scaler = MinMaxScaler()\n",
    "#scaler = StandardScaler()\n",
    "scale_cols = ['Close', 'YtT', 'Market Cap', 'High', 'Low', 'Volume']\n",
    "data_scaled = scaler.fit_transform(data[scale_cols])\n",
    "\n",
    "data_scaled = pd.DataFrame(data_scaled)\n",
    "data_scaled.columns = scale_cols\n",
    "\n",
    "print(data_scaled)\n",
    "\n",
    "TEST_SIZE = 200\n",
    "train = data_scaled[:-TEST_SIZE]\n",
    "test = data_scaled[-TEST_SIZE:]"
   ]
  },
  {
   "cell_type": "code",
   "execution_count": 4,
   "metadata": {
    "ExecuteTime": {
     "end_time": "2020-08-12T09:16:21.267947Z",
     "start_time": "2020-08-12T09:16:21.256903Z"
    }
   },
   "outputs": [
    {
     "data": {
      "text/html": [
       "<div>\n",
       "<style scoped>\n",
       "    .dataframe tbody tr th:only-of-type {\n",
       "        vertical-align: middle;\n",
       "    }\n",
       "\n",
       "    .dataframe tbody tr th {\n",
       "        vertical-align: top;\n",
       "    }\n",
       "\n",
       "    .dataframe thead th {\n",
       "        text-align: right;\n",
       "    }\n",
       "</style>\n",
       "<table border=\"1\" class=\"dataframe\">\n",
       "  <thead>\n",
       "    <tr style=\"text-align: right;\">\n",
       "      <th></th>\n",
       "      <th>Close</th>\n",
       "      <th>YtT</th>\n",
       "      <th>Market Cap</th>\n",
       "      <th>High</th>\n",
       "      <th>Low</th>\n",
       "      <th>Volume</th>\n",
       "    </tr>\n",
       "  </thead>\n",
       "  <tbody>\n",
       "    <tr>\n",
       "      <th>0</th>\n",
       "      <td>0.262630</td>\n",
       "      <td>0.099291</td>\n",
       "      <td>0.272696</td>\n",
       "      <td>0.274339</td>\n",
       "      <td>0.273784</td>\n",
       "      <td>0.005670</td>\n",
       "    </tr>\n",
       "    <tr>\n",
       "      <th>1</th>\n",
       "      <td>0.258026</td>\n",
       "      <td>0.092199</td>\n",
       "      <td>0.267130</td>\n",
       "      <td>0.270167</td>\n",
       "      <td>0.269556</td>\n",
       "      <td>0.006747</td>\n",
       "    </tr>\n",
       "    <tr>\n",
       "      <th>2</th>\n",
       "      <td>0.263339</td>\n",
       "      <td>0.106383</td>\n",
       "      <td>0.267826</td>\n",
       "      <td>0.271905</td>\n",
       "      <td>0.270261</td>\n",
       "      <td>0.004516</td>\n",
       "    </tr>\n",
       "    <tr>\n",
       "      <th>3</th>\n",
       "      <td>0.263693</td>\n",
       "      <td>0.007092</td>\n",
       "      <td>0.268870</td>\n",
       "      <td>0.272253</td>\n",
       "      <td>0.270261</td>\n",
       "      <td>0.003240</td>\n",
       "    </tr>\n",
       "    <tr>\n",
       "      <th>4</th>\n",
       "      <td>0.263693</td>\n",
       "      <td>0.000000</td>\n",
       "      <td>0.270261</td>\n",
       "      <td>0.272253</td>\n",
       "      <td>0.271670</td>\n",
       "      <td>0.004561</td>\n",
       "    </tr>\n",
       "    <tr>\n",
       "      <th>...</th>\n",
       "      <td>...</td>\n",
       "      <td>...</td>\n",
       "      <td>...</td>\n",
       "      <td>...</td>\n",
       "      <td>...</td>\n",
       "      <td>...</td>\n",
       "    </tr>\n",
       "    <tr>\n",
       "      <th>2262</th>\n",
       "      <td>0.004622</td>\n",
       "      <td>0.001418</td>\n",
       "      <td>0.017565</td>\n",
       "      <td>0.017594</td>\n",
       "      <td>0.017653</td>\n",
       "      <td>0.105548</td>\n",
       "    </tr>\n",
       "    <tr>\n",
       "      <th>2263</th>\n",
       "      <td>0.004409</td>\n",
       "      <td>0.004255</td>\n",
       "      <td>0.017496</td>\n",
       "      <td>0.017698</td>\n",
       "      <td>0.017495</td>\n",
       "      <td>0.133611</td>\n",
       "    </tr>\n",
       "    <tr>\n",
       "      <th>2264</th>\n",
       "      <td>0.004551</td>\n",
       "      <td>0.002837</td>\n",
       "      <td>0.017357</td>\n",
       "      <td>0.017524</td>\n",
       "      <td>0.017548</td>\n",
       "      <td>0.069404</td>\n",
       "    </tr>\n",
       "    <tr>\n",
       "      <th>2265</th>\n",
       "      <td>0.004870</td>\n",
       "      <td>0.006383</td>\n",
       "      <td>0.017670</td>\n",
       "      <td>0.017907</td>\n",
       "      <td>0.017865</td>\n",
       "      <td>0.171658</td>\n",
       "    </tr>\n",
       "    <tr>\n",
       "      <th>2266</th>\n",
       "      <td>0.004870</td>\n",
       "      <td>0.000000</td>\n",
       "      <td>0.017843</td>\n",
       "      <td>0.017907</td>\n",
       "      <td>0.017900</td>\n",
       "      <td>0.136458</td>\n",
       "    </tr>\n",
       "  </tbody>\n",
       "</table>\n",
       "<p>2267 rows × 6 columns</p>\n",
       "</div>"
      ],
      "text/plain": [
       "         Close       YtT  Market Cap      High       Low    Volume\n",
       "0     0.262630  0.099291    0.272696  0.274339  0.273784  0.005670\n",
       "1     0.258026  0.092199    0.267130  0.270167  0.269556  0.006747\n",
       "2     0.263339  0.106383    0.267826  0.271905  0.270261  0.004516\n",
       "3     0.263693  0.007092    0.268870  0.272253  0.270261  0.003240\n",
       "4     0.263693  0.000000    0.270261  0.272253  0.271670  0.004561\n",
       "...        ...       ...         ...       ...       ...       ...\n",
       "2262  0.004622  0.001418    0.017565  0.017594  0.017653  0.105548\n",
       "2263  0.004409  0.004255    0.017496  0.017698  0.017495  0.133611\n",
       "2264  0.004551  0.002837    0.017357  0.017524  0.017548  0.069404\n",
       "2265  0.004870  0.006383    0.017670  0.017907  0.017865  0.171658\n",
       "2266  0.004870  0.000000    0.017843  0.017907  0.017900  0.136458\n",
       "\n",
       "[2267 rows x 6 columns]"
      ]
     },
     "execution_count": 4,
     "metadata": {},
     "output_type": "execute_result"
    }
   ],
   "source": [
    "train"
   ]
  },
  {
   "cell_type": "code",
   "execution_count": 5,
   "metadata": {
    "ExecuteTime": {
     "end_time": "2020-08-12T09:16:21.284904Z",
     "start_time": "2020-08-12T09:16:21.269902Z"
    }
   },
   "outputs": [
    {
     "data": {
      "text/html": [
       "<div>\n",
       "<style scoped>\n",
       "    .dataframe tbody tr th:only-of-type {\n",
       "        vertical-align: middle;\n",
       "    }\n",
       "\n",
       "    .dataframe tbody tr th {\n",
       "        vertical-align: top;\n",
       "    }\n",
       "\n",
       "    .dataframe thead th {\n",
       "        text-align: right;\n",
       "    }\n",
       "</style>\n",
       "<table border=\"1\" class=\"dataframe\">\n",
       "  <thead>\n",
       "    <tr style=\"text-align: right;\">\n",
       "      <th></th>\n",
       "      <th>Close</th>\n",
       "      <th>YtT</th>\n",
       "      <th>Market Cap</th>\n",
       "      <th>High</th>\n",
       "      <th>Low</th>\n",
       "      <th>Volume</th>\n",
       "    </tr>\n",
       "  </thead>\n",
       "  <tbody>\n",
       "    <tr>\n",
       "      <th>2267</th>\n",
       "      <td>0.004693</td>\n",
       "      <td>0.003546</td>\n",
       "      <td>0.018261</td>\n",
       "      <td>0.018255</td>\n",
       "      <td>0.017794</td>\n",
       "      <td>0.333681</td>\n",
       "    </tr>\n",
       "    <tr>\n",
       "      <th>2268</th>\n",
       "      <td>0.004764</td>\n",
       "      <td>0.001418</td>\n",
       "      <td>0.017670</td>\n",
       "      <td>0.017803</td>\n",
       "      <td>0.017794</td>\n",
       "      <td>0.124110</td>\n",
       "    </tr>\n",
       "    <tr>\n",
       "      <th>2269</th>\n",
       "      <td>0.004905</td>\n",
       "      <td>0.002837</td>\n",
       "      <td>0.017635</td>\n",
       "      <td>0.017907</td>\n",
       "      <td>0.017865</td>\n",
       "      <td>0.101298</td>\n",
       "    </tr>\n",
       "    <tr>\n",
       "      <th>2270</th>\n",
       "      <td>0.004834</td>\n",
       "      <td>0.001418</td>\n",
       "      <td>0.017878</td>\n",
       "      <td>0.017976</td>\n",
       "      <td>0.017900</td>\n",
       "      <td>0.119412</td>\n",
       "    </tr>\n",
       "    <tr>\n",
       "      <th>2271</th>\n",
       "      <td>0.004586</td>\n",
       "      <td>0.004965</td>\n",
       "      <td>0.017635</td>\n",
       "      <td>0.017663</td>\n",
       "      <td>0.017689</td>\n",
       "      <td>0.141113</td>\n",
       "    </tr>\n",
       "    <tr>\n",
       "      <th>...</th>\n",
       "      <td>...</td>\n",
       "      <td>...</td>\n",
       "      <td>...</td>\n",
       "      <td>...</td>\n",
       "      <td>...</td>\n",
       "      <td>...</td>\n",
       "    </tr>\n",
       "    <tr>\n",
       "      <th>2462</th>\n",
       "      <td>0.006888</td>\n",
       "      <td>0.002837</td>\n",
       "      <td>0.019930</td>\n",
       "      <td>0.019993</td>\n",
       "      <td>0.019838</td>\n",
       "      <td>0.279405</td>\n",
       "    </tr>\n",
       "    <tr>\n",
       "      <th>2463</th>\n",
       "      <td>0.007278</td>\n",
       "      <td>0.007801</td>\n",
       "      <td>0.019861</td>\n",
       "      <td>0.020306</td>\n",
       "      <td>0.020120</td>\n",
       "      <td>0.340613</td>\n",
       "    </tr>\n",
       "    <tr>\n",
       "      <th>2464</th>\n",
       "      <td>0.007101</td>\n",
       "      <td>0.003546</td>\n",
       "      <td>0.020139</td>\n",
       "      <td>0.020306</td>\n",
       "      <td>0.020120</td>\n",
       "      <td>0.295344</td>\n",
       "    </tr>\n",
       "    <tr>\n",
       "      <th>2465</th>\n",
       "      <td>0.007207</td>\n",
       "      <td>0.002128</td>\n",
       "      <td>0.020035</td>\n",
       "      <td>0.020271</td>\n",
       "      <td>0.020261</td>\n",
       "      <td>0.279949</td>\n",
       "    </tr>\n",
       "    <tr>\n",
       "      <th>2466</th>\n",
       "      <td>0.007349</td>\n",
       "      <td>0.002837</td>\n",
       "      <td>0.020174</td>\n",
       "      <td>0.020688</td>\n",
       "      <td>0.020366</td>\n",
       "      <td>0.390058</td>\n",
       "    </tr>\n",
       "  </tbody>\n",
       "</table>\n",
       "<p>200 rows × 6 columns</p>\n",
       "</div>"
      ],
      "text/plain": [
       "         Close       YtT  Market Cap      High       Low    Volume\n",
       "2267  0.004693  0.003546    0.018261  0.018255  0.017794  0.333681\n",
       "2268  0.004764  0.001418    0.017670  0.017803  0.017794  0.124110\n",
       "2269  0.004905  0.002837    0.017635  0.017907  0.017865  0.101298\n",
       "2270  0.004834  0.001418    0.017878  0.017976  0.017900  0.119412\n",
       "2271  0.004586  0.004965    0.017635  0.017663  0.017689  0.141113\n",
       "...        ...       ...         ...       ...       ...       ...\n",
       "2462  0.006888  0.002837    0.019930  0.019993  0.019838  0.279405\n",
       "2463  0.007278  0.007801    0.019861  0.020306  0.020120  0.340613\n",
       "2464  0.007101  0.003546    0.020139  0.020306  0.020120  0.295344\n",
       "2465  0.007207  0.002128    0.020035  0.020271  0.020261  0.279949\n",
       "2466  0.007349  0.002837    0.020174  0.020688  0.020366  0.390058\n",
       "\n",
       "[200 rows x 6 columns]"
      ]
     },
     "execution_count": 5,
     "metadata": {},
     "output_type": "execute_result"
    }
   ],
   "source": [
    "test"
   ]
  },
  {
   "cell_type": "code",
   "execution_count": 6,
   "metadata": {
    "ExecuteTime": {
     "end_time": "2020-08-12T09:16:21.294902Z",
     "start_time": "2020-08-12T09:16:21.288926Z"
    }
   },
   "outputs": [],
   "source": [
    "def make_dataset(data, label, window_size=20):\n",
    "    feature_list = []\n",
    "    label_list = []\n",
    "    for i in range(len(data) - window_size):\n",
    "        feature_list.append(np.array(data.iloc[i:i+window_size]))\n",
    "        label_list.append(np.array(label.iloc[i+window_size]))\n",
    "    return np.array(feature_list), np.array(label_list)"
   ]
  },
  {
   "cell_type": "code",
   "execution_count": 7,
   "metadata": {
    "ExecuteTime": {
     "end_time": "2020-08-12T09:16:21.670298Z",
     "start_time": "2020-08-12T09:16:21.297902Z"
    }
   },
   "outputs": [
    {
     "name": "stdout",
     "output_type": "stream",
     "text": [
      "(1773, 50, 5) (1773, 1) (444, 50, 5) (444, 1)\n",
      "(150, 50, 5) (150, 1)\n"
     ]
    }
   ],
   "source": [
    "seq_len = 50\n",
    "feature_cols = ['YtT', 'Market Cap', 'High', 'Low', 'Volume']\n",
    "label_cols = ['Close']\n",
    "\n",
    "train_feature = train[feature_cols]\n",
    "train_label = train[label_cols]\n",
    "\n",
    "# train dataset\n",
    "train_feature, train_label = make_dataset(train_feature, train_label, seq_len)\n",
    "\n",
    "# train, validation set 생성\n",
    "from sklearn.model_selection import train_test_split\n",
    "x_train, x_valid, y_train, y_valid = train_test_split(train_feature, train_label, test_size=0.2, shuffle=False)\n",
    "\n",
    "print(x_train.shape,y_train.shape, x_valid.shape, y_valid.shape)\n",
    "\n",
    "test_feature = test[feature_cols]\n",
    "test_label = test[label_cols]\n",
    "\n",
    "x_test, y_test = make_dataset(test_feature, test_label, seq_len)\n",
    "\n",
    "print(x_test.shape, y_test.shape)"
   ]
  },
  {
   "cell_type": "code",
   "execution_count": 8,
   "metadata": {
    "ExecuteTime": {
     "end_time": "2020-08-12T09:16:21.678297Z",
     "start_time": "2020-08-12T09:16:21.671297Z"
    }
   },
   "outputs": [],
   "source": [
    "def build_model(drop=0.5, optimizer = 'adam'):\n",
    "    inputs = Input(shape= (seq_len,5), name = 'input')\n",
    "    x = LSTM(128, activation = 'relu', name = 'hidden1', return_sequences=True)(inputs)\n",
    "    x = Dropout(drop)(x)\n",
    "    x = LSTM(64, activation = 'relu', name = 'hidden1')(inputs)\n",
    "    x = Dropout(drop)(x)\n",
    "    x = Dense(50, activation = 'relu', name = 'hidden2')(x)\n",
    "    x = Dropout(drop)(x)\n",
    "    x = Dense(30, activation = 'relu', name = 'hidden3')(x)\n",
    "    x = Dropout(drop)(x)\n",
    "    x = Dense(10, activation = 'relu', name = 'hidden4')(x)\n",
    "    outputs = Dense(1, activation='linear', name = 'output')(x)\n",
    "    model = Model(inputs = inputs, outputs = outputs)\n",
    "    model.compile(optimizer = optimizer, loss = 'mse', metrics = ['mse'])\n",
    "    return model"
   ]
  },
  {
   "cell_type": "code",
   "execution_count": 9,
   "metadata": {
    "ExecuteTime": {
     "end_time": "2020-08-12T09:16:21.943951Z",
     "start_time": "2020-08-12T09:16:21.679297Z"
    }
   },
   "outputs": [],
   "source": [
    "model_p = build_model(0.2, 'adam')"
   ]
  },
  {
   "cell_type": "code",
   "execution_count": 10,
   "metadata": {
    "ExecuteTime": {
     "end_time": "2020-08-12T09:16:21.949845Z",
     "start_time": "2020-08-12T09:16:21.945830Z"
    }
   },
   "outputs": [
    {
     "name": "stdout",
     "output_type": "stream",
     "text": [
      "Model: \"model\"\n",
      "_________________________________________________________________\n",
      "Layer (type)                 Output Shape              Param #   \n",
      "=================================================================\n",
      "input (InputLayer)           [(None, 50, 5)]           0         \n",
      "_________________________________________________________________\n",
      "hidden1 (LSTM)               (None, 64)                17920     \n",
      "_________________________________________________________________\n",
      "dropout_1 (Dropout)          (None, 64)                0         \n",
      "_________________________________________________________________\n",
      "hidden2 (Dense)              (None, 50)                3250      \n",
      "_________________________________________________________________\n",
      "dropout_2 (Dropout)          (None, 50)                0         \n",
      "_________________________________________________________________\n",
      "hidden3 (Dense)              (None, 30)                1530      \n",
      "_________________________________________________________________\n",
      "dropout_3 (Dropout)          (None, 30)                0         \n",
      "_________________________________________________________________\n",
      "hidden4 (Dense)              (None, 10)                310       \n",
      "_________________________________________________________________\n",
      "output (Dense)               (None, 1)                 11        \n",
      "=================================================================\n",
      "Total params: 23,021\n",
      "Trainable params: 23,021\n",
      "Non-trainable params: 0\n",
      "_________________________________________________________________\n"
     ]
    }
   ],
   "source": [
    "model_p.summary()"
   ]
  },
  {
   "cell_type": "code",
   "execution_count": 11,
   "metadata": {
    "ExecuteTime": {
     "end_time": "2020-08-12T09:16:22.191445Z",
     "start_time": "2020-08-12T09:16:21.953208Z"
    }
   },
   "outputs": [
    {
     "data": {
      "image/png": "[encoded data removed]",
      "text/plain": [
       "<IPython.core.display.Image object>"
      ]
     },
     "execution_count": 11,
     "metadata": {},
     "output_type": "execute_result"
    }
   ],
   "source": [
    "from tensorflow.keras.utils import plot_model\n",
    "plot_model(model_p, show_shapes=True, to_file='lstm_stock.png')"
   ]
  },
  {
   "cell_type": "code",
   "execution_count": 12,
   "metadata": {
    "ExecuteTime": {
     "end_time": "2020-08-12T09:16:22.197368Z",
     "start_time": "2020-08-12T09:16:22.192366Z"
    }
   },
   "outputs": [],
   "source": [
    "# parameter\n",
    "def create_hyperparameters(): # epochs, node, acivation 추가 가능\n",
    "    batches = [8, 16, 32]\n",
    "    optimizers = ['rmsprop', 'adam', 'adadelta']\n",
    "    dropout = np.linspace(0.1, 0.5, 5).tolist()                           \n",
    "    return {'batch_size' : batches, 'optimizer': optimizers, \n",
    "           'drop': dropout}\n",
    "\n",
    "hyperparameters = create_hyperparameters()"
   ]
  },
  {
   "cell_type": "code",
   "execution_count": 13,
   "metadata": {
    "ExecuteTime": {
     "end_time": "2020-08-12T09:16:22.224740Z",
     "start_time": "2020-08-12T09:16:22.198368Z"
    }
   },
   "outputs": [],
   "source": [
    "# wrapper\n",
    "from tensorflow.keras.wrappers.scikit_learn import KerasRegressor          \n",
    "model = KerasRegressor(build_fn = build_model, verbose = 2)"
   ]
  },
  {
   "cell_type": "code",
   "execution_count": 14,
   "metadata": {
    "ExecuteTime": {
     "end_time": "2020-08-12T09:16:22.231314Z",
     "start_time": "2020-08-12T09:16:22.226309Z"
    },
    "code_folding": []
   },
   "outputs": [],
   "source": [
    "# gridsearch & randomsearch\n",
    "from sklearn.model_selection import GridSearchCV, RandomizedSearchCV\n",
    "# search = GridSearchCV(model, hyperparameters, cv = 3) # cv = cross_validation\n",
    "search = RandomizedSearchCV(model, hyperparameters, cv = 3) #, n_jobs=5\n",
    "# n_jobs = 사용할 core의 수를 정해줌\n",
    "# batches * optimizers * dropout * cv\n",
    "#   3     *     3      *    5    *  3 = 225번의 model이 돌아감"
   ]
  },
  {
   "cell_type": "code",
   "execution_count": 15,
   "metadata": {
    "ExecuteTime": {
     "end_time": "2020-08-12T09:17:33.439252Z",
     "start_time": "2020-08-12T09:16:22.233304Z"
    },
    "scrolled": true
   },
   "outputs": [
    {
     "name": "stdout",
     "output_type": "stream",
     "text": [
      "Train on 1182 samples\n",
      "1182/1182 - 2s - loss: 0.2958 - mse: 0.2958\n",
      "591/1 - 0s - loss: 0.2300 - mse: 0.1580\n",
      "Train on 1182 samples\n",
      "1182/1182 - 2s - loss: 0.3530 - mse: 0.3530\n",
      "591/1 - 0s - loss: 0.1832 - mse: 0.1993\n",
      "Train on 1182 samples\n",
      "1182/1182 - 2s - loss: 0.2314 - mse: 0.2314\n",
      "591/1 - 0s - loss: 0.6510 - mse: 0.4465\n",
      "Train on 1182 samples\n",
      "1182/1182 - 1s - loss: 0.0900 - mse: 0.0900\n",
      "591/1 - 0s - loss: 0.0051 - mse: 0.0021\n",
      "Train on 1182 samples\n",
      "1182/1182 - 2s - loss: 0.1395 - mse: 0.1395\n",
      "591/1 - 0s - loss: 0.0010 - mse: 0.0017\n",
      "Train on 1182 samples\n",
      "1182/1182 - 1s - loss: 0.0461 - mse: 0.0461\n",
      "591/1 - 0s - loss: 0.1001 - mse: 0.0608\n",
      "Train on 1182 samples\n",
      "1182/1182 - 1s - loss: 0.0425 - mse: 0.0425\n",
      "591/1 - 0s - loss: 0.0013 - mse: 0.0012\n",
      "Train on 1182 samples\n",
      "1182/1182 - 2s - loss: 0.0236 - mse: 0.0236\n",
      "591/1 - 0s - loss: 0.0011 - mse: 0.0015\n",
      "Train on 1182 samples\n",
      "1182/1182 - 2s - loss: 0.0207 - mse: 0.0207\n",
      "591/1 - 0s - loss: 0.0139 - mse: 0.0179\n",
      "Train on 1182 samples\n",
      "1182/1182 - 2s - loss: 0.0669 - mse: 0.0669\n",
      "591/1 - 0s - loss: 0.0031 - mse: 0.0062\n",
      "Train on 1182 samples\n",
      "1182/1182 - 2s - loss: 0.0245 - mse: 0.0245\n",
      "591/1 - 0s - loss: 9.5429e-04 - mse: 6.2854e-04\n",
      "Train on 1182 samples\n",
      "1182/1182 - 2s - loss: 0.0124 - mse: 0.0124\n",
      "591/1 - 0s - loss: 0.0032 - mse: 0.0056\n",
      "Train on 1182 samples\n",
      "1182/1182 - 1s - loss: 0.2984 - mse: 0.2984\n",
      "591/1 - 0s - loss: 0.2068 - mse: 0.1421\n",
      "Train on 1182 samples\n",
      "1182/1182 - 1s - loss: 0.2058 - mse: 0.2058\n",
      "591/1 - 0s - loss: 0.1545 - mse: 0.1675\n",
      "Train on 1182 samples\n",
      "1182/1182 - 1s - loss: 0.2027 - mse: 0.2027\n",
      "591/1 - 0s - loss: 0.6216 - mse: 0.4259\n",
      "Train on 1182 samples\n",
      "1182/1182 - 2s - loss: 0.0342 - mse: 0.0342\n",
      "591/1 - 0s - loss: 0.0032 - mse: 0.0062\n",
      "Train on 1182 samples\n",
      "1182/1182 - 2s - loss: 0.0415 - mse: 0.0415\n",
      "591/1 - 0s - loss: 2.3615e-04 - mse: 3.0529e-04\n",
      "Train on 1182 samples\n",
      "1182/1182 - 2s - loss: 0.0309 - mse: 0.0309\n",
      "591/1 - 0s - loss: 0.0103 - mse: 0.0101\n",
      "Train on 1182 samples\n",
      "1182/1182 - 1s - loss: 0.1718 - mse: 0.1718\n",
      "591/1 - 0s - loss: 0.0017 - mse: 0.0018\n",
      "Train on 1182 samples\n",
      "1182/1182 - 1s - loss: 0.0675 - mse: 0.0675\n",
      "591/1 - 0s - loss: 0.0012 - mse: 0.0021\n",
      "Train on 1182 samples\n",
      "1182/1182 - 1s - loss: 0.0787 - mse: 0.0787\n",
      "591/1 - 0s - loss: 0.1574 - mse: 0.0185\n",
      "Train on 1182 samples\n",
      "1182/1182 - 1s - loss: 0.3709 - mse: 0.3709\n",
      "591/1 - 0s - loss: 0.2388 - mse: 0.1650\n",
      "Train on 1182 samples\n",
      "1182/1182 - 1s - loss: 0.2032 - mse: 0.2032\n",
      "591/1 - 0s - loss: 0.1479 - mse: 0.1613\n",
      "Train on 1182 samples\n",
      "1182/1182 - 2s - loss: 0.1699 - mse: 0.1699\n",
      "591/1 - 0s - loss: 0.5524 - mse: 0.3779\n",
      "Train on 1182 samples\n",
      "1182/1182 - 2s - loss: 0.1222 - mse: 0.1222\n",
      "591/1 - 0s - loss: 0.0059 - mse: 0.0028\n",
      "Train on 1182 samples\n",
      "1182/1182 - 2s - loss: 0.3207 - mse: 0.3207\n",
      "591/1 - 0s - loss: 0.0216 - mse: 0.0257\n",
      "Train on 1182 samples\n",
      "1182/1182 - 2s - loss: 0.0613 - mse: 0.0613\n",
      "591/1 - 0s - loss: 0.0628 - mse: 0.0359\n",
      "Train on 1182 samples\n",
      "1182/1182 - 3s - loss: 0.0557 - mse: 0.0557\n",
      "591/1 - 0s - loss: 0.0069 - mse: 0.0105\n",
      "Train on 1182 samples\n",
      "1182/1182 - 3s - loss: 0.0764 - mse: 0.0764\n",
      "591/1 - 0s - loss: 6.4862e-04 - mse: 0.0012\n",
      "Train on 1182 samples\n",
      "1182/1182 - 3s - loss: 0.0207 - mse: 0.0207\n",
      "591/1 - 0s - loss: 0.1355 - mse: 0.0757\n",
      "Train on 1773 samples\n",
      "1773/1773 - 2s - loss: 0.0167 - mse: 0.0167\n",
      "{'optimizer': 'rmsprop', 'drop': 0.1, 'batch_size': 16}\n"
     ]
    }
   ],
   "source": [
    "# fit\n",
    "best_model = search.fit(x_train, y_train)\n",
    "print(search.best_params_)"
   ]
  },
  {
   "cell_type": "code",
   "execution_count": 16,
   "metadata": {
    "ExecuteTime": {
     "end_time": "2020-08-12T09:17:33.808060Z",
     "start_time": "2020-08-12T09:17:33.440252Z"
    }
   },
   "outputs": [
    {
     "name": "stdout",
     "output_type": "stream",
     "text": [
      "150/1 - 0s\n"
     ]
    },
    {
     "data": {
      "image/png": "[encoded data removed]",
      "text/plain": [
       "<Figure size 1440x720 with 1 Axes>"
      ]
     },
     "metadata": {},
     "output_type": "display_data"
    }
   ],
   "source": [
    "pred = best_model.predict(x_test)\n",
    "\n",
    "fig = plt.figure(facecolor='white', figsize=(20, 10))\n",
    "ax = fig.add_subplot(111)\n",
    "ax.plot(y_test, label='True')\n",
    "ax.plot(pred, label='Prediction')\n",
    "ax.legend()\n",
    "plt.show()"
   ]
  },
  {
   "cell_type": "code",
   "execution_count": null,
   "metadata": {},
   "outputs": [],
   "source": []
  }
 ],
 "metadata": {
  "kernelspec": {
   "display_name": "Tensorflow",
   "language": "python",
   "name": "tensorflow"
  },
  "language_info": {
   "codemirror_mode": {
    "name": "ipython",
    "version": 3
   },
   "file_extension": ".py",
   "mimetype": "text/x-python",
   "name": "python",
   "nbconvert_exporter": "python",
   "pygments_lexer": "ipython3",
   "version": "3.7.6"
  }
 },
 "nbformat": 4,
 "nbformat_minor": 4
}
