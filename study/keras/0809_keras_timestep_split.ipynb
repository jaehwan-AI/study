{
 "cells": [
  {
   "cell_type": "code",
   "execution_count": 4,
   "metadata": {
    "ExecuteTime": {
     "end_time": "2020-08-09T09:15:48.798670Z",
     "start_time": "2020-08-09T09:15:48.792666Z"
    },
    "scrolled": true
   },
   "outputs": [
    {
     "name": "stdout",
     "output_type": "stream",
     "text": [
      "=================\n",
      "[[ 1  2  3  4  5]\n",
      " [ 2  3  4  5  6]\n",
      " [ 3  4  5  6  7]\n",
      " [ 4  5  6  7  8]\n",
      " [ 5  6  7  8  9]\n",
      " [ 6  7  8  9 10]]\n"
     ]
    }
   ],
   "source": [
    "import numpy as np\n",
    "\n",
    "# Data\n",
    "a = np.array(range(1, 11))                     # a = [1, 2, 3, 4, 5, 6, 7, 8, 9, 10]    (10, )\n",
    "                                               #      0  1  2  3  4  5  6  7  8   9 \n",
    "size = 5                                       # 자르는 크기\n",
    "\n",
    "# data_split\n",
    "def split_x(seq, size):\n",
    "    lst = []\n",
    "    for i in range(len(seq) - size + 1):       # len = length  : 길이  i in range(6)  : [0, 1, 2, 3, 4, 5]\n",
    "        subset = seq[i : (i + size)]           # i =0,  subset = a[ 0 : 5 ] = [ 1, 2, 3, 4, 5]\n",
    "        lst.append([item for item in subset])  # aaa = [[1, 2, 3, 4, 5]]\n",
    "    return np.array(lst)\n",
    "\n",
    "dataset = split_x(a, size)                      # dataset.shape = ((len(a) - size +1) , size)\n",
    "print(dataset)"
   ]
  },
  {
   "cell_type": "code",
   "execution_count": null,
   "metadata": {},
   "outputs": [],
   "source": []
  }
 ],
 "metadata": {
  "kernelspec": {
   "display_name": "Tensorflow",
   "language": "python",
   "name": "tensorflow"
  },
  "language_info": {
   "codemirror_mode": {
    "name": "ipython",
    "version": 3
   },
   "file_extension": ".py",
   "mimetype": "text/x-python",
   "name": "python",
   "nbconvert_exporter": "python",
   "pygments_lexer": "ipython3",
   "version": "3.7.6"
  }
 },
 "nbformat": 4,
 "nbformat_minor": 4
}
