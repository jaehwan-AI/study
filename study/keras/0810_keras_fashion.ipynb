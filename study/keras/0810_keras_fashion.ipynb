{
 "cells": [
  {
   "cell_type": "code",
   "execution_count": 14,
   "metadata": {
    "ExecuteTime": {
     "end_time": "2020-08-10T07:54:08.254967Z",
     "start_time": "2020-08-10T07:54:07.839901Z"
    }
   },
   "outputs": [
    {
     "name": "stdout",
     "output_type": "stream",
     "text": [
      "(60000, 28, 28, 1)\n",
      "(60000, 10)\n",
      "(10000, 10)\n"
     ]
    },
    {
     "data": {
      "image/png": "[encoded data removed]",
      "text/plain": [
       "<Figure size 432x288 with 1 Axes>"
      ]
     },
     "metadata": {
      "needs_background": "light"
     },
     "output_type": "display_data"
    }
   ],
   "source": [
    "import numpy as np\n",
    "import matplotlib.pyplot as plt\n",
    "\n",
    "# data\n",
    "from tensorflow.keras.datasets import fashion_mnist\n",
    "(x_train, y_train), (x_test, y_test) = fashion_mnist.load_data()\n",
    "\n",
    "# x : reshape\n",
    "x_train = x_train.reshape(x_train.shape[0], 28, 28, 1)\n",
    "x_test = x_test.reshape(x_test.shape[0], 28, 28, 1)\n",
    "print(x_train.shape)                                      # (60000, 28, 28, 1)\n",
    "\n",
    "# y : one hot encoding\n",
    "y_train = to_categorical(y_train) \n",
    "y_test = to_categorical(y_test)\n",
    "print(y_train.shape)                                      # (60000, 10)\n",
    "print(y_test.shape)                                       # (10000, 10)\n",
    "\n",
    "plt.imshow(x_train[0,:,:,0])\n",
    "plt.show()"
   ]
  },
  {
   "cell_type": "code",
   "execution_count": 2,
   "metadata": {
    "ExecuteTime": {
     "end_time": "2020-08-10T07:48:57.423495Z",
     "start_time": "2020-08-10T07:48:57.413997Z"
    }
   },
   "outputs": [],
   "source": [
    "from tensorflow.keras.models import Sequential\n",
    "from tensorflow.keras.layers import Dense, Conv2D, MaxPooling2D, Flatten, Dropout\n",
    "from tensorflow.keras.utils import to_categorical"
   ]
  },
  {
   "cell_type": "code",
   "execution_count": 3,
   "metadata": {
    "ExecuteTime": {
     "end_time": "2020-08-10T07:49:41.948969Z",
     "start_time": "2020-08-10T07:49:41.805546Z"
    }
   },
   "outputs": [
    {
     "name": "stdout",
     "output_type": "stream",
     "text": [
      "Model: \"sequential\"\n",
      "_________________________________________________________________\n",
      "Layer (type)                 Output Shape              Param #   \n",
      "=================================================================\n",
      "conv2d (Conv2D)              (None, 28, 28, 100)       1000      \n",
      "_________________________________________________________________\n",
      "max_pooling2d (MaxPooling2D) (None, 9, 9, 100)         0         \n",
      "_________________________________________________________________\n",
      "dropout (Dropout)            (None, 9, 9, 100)         0         \n",
      "_________________________________________________________________\n",
      "conv2d_1 (Conv2D)            (None, 9, 9, 80)          72080     \n",
      "_________________________________________________________________\n",
      "max_pooling2d_1 (MaxPooling2 (None, 3, 3, 80)          0         \n",
      "_________________________________________________________________\n",
      "dropout_1 (Dropout)          (None, 3, 3, 80)          0         \n",
      "_________________________________________________________________\n",
      "conv2d_2 (Conv2D)            (None, 3, 3, 60)          43260     \n",
      "_________________________________________________________________\n",
      "max_pooling2d_2 (MaxPooling2 (None, 1, 1, 60)          0         \n",
      "_________________________________________________________________\n",
      "dropout_2 (Dropout)          (None, 1, 1, 60)          0         \n",
      "_________________________________________________________________\n",
      "conv2d_3 (Conv2D)            (None, 1, 1, 40)          21640     \n",
      "_________________________________________________________________\n",
      "dropout_3 (Dropout)          (None, 1, 1, 40)          0         \n",
      "_________________________________________________________________\n",
      "conv2d_4 (Conv2D)            (None, 1, 1, 20)          7220      \n",
      "_________________________________________________________________\n",
      "dropout_4 (Dropout)          (None, 1, 1, 20)          0         \n",
      "_________________________________________________________________\n",
      "flatten (Flatten)            (None, 20)                0         \n",
      "_________________________________________________________________\n",
      "dense (Dense)                (None, 10)                210       \n",
      "=================================================================\n",
      "Total params: 145,410\n",
      "Trainable params: 145,410\n",
      "Non-trainable params: 0\n",
      "_________________________________________________________________\n"
     ]
    }
   ],
   "source": [
    "# CNN model sequential\n",
    "model = Sequential()\n",
    "model.add(Conv2D(100, (3, 3), input_shape = (28, 28, 1), padding = 'same', activation = 'relu'))\n",
    "model.add(MaxPooling2D(pool_size = 3))\n",
    "model.add(Dropout(0.2))\n",
    "model.add(Conv2D(80, (3, 3), padding = 'same', activation = 'relu'))\n",
    "model.add(MaxPooling2D(pool_size = 3))\n",
    "model.add(Dropout(0.2))\n",
    "model.add(Conv2D(60, (3, 3), padding = 'same', activation = 'relu'))\n",
    "model.add(MaxPooling2D(pool_size = 3))\n",
    "model.add(Dropout(0.2))\n",
    "model.add(Conv2D(40, (3, 3), padding = 'same', activation = 'relu'))\n",
    "model.add(Dropout(0.2))\n",
    "model.add(Conv2D(20, (3, 3), padding = 'same', activation = 'relu'))\n",
    "model.add(Dropout(0.2))\n",
    "model.add(Flatten())\n",
    "model.add(Dense(10, activation = 'softmax'))\n",
    "\n",
    "model.summary()"
   ]
  },
  {
   "cell_type": "code",
   "execution_count": 15,
   "metadata": {
    "ExecuteTime": {
     "end_time": "2020-08-10T08:42:09.969936Z",
     "start_time": "2020-08-10T07:59:50.858628Z"
    }
   },
   "outputs": [
    {
     "name": "stdout",
     "output_type": "stream",
     "text": [
      "Train on 48000 samples, validate on 12000 samples\n",
      "Epoch 1/50\n",
      "48000/48000 - 51s - loss: 1.0605 - accuracy: 0.5997 - val_loss: 0.5088 - val_accuracy: 0.8117\n",
      "Epoch 2/50\n",
      "48000/48000 - 51s - loss: 0.5601 - accuracy: 0.7977 - val_loss: 0.4133 - val_accuracy: 0.8421\n",
      "Epoch 3/50\n",
      "48000/48000 - 52s - loss: 0.4859 - accuracy: 0.8285 - val_loss: 0.3742 - val_accuracy: 0.8684\n",
      "Epoch 4/50\n",
      "48000/48000 - 51s - loss: 0.4500 - accuracy: 0.8419 - val_loss: 0.3242 - val_accuracy: 0.8828\n",
      "Epoch 5/50\n",
      "48000/48000 - 53s - loss: 0.4178 - accuracy: 0.8544 - val_loss: 0.3075 - val_accuracy: 0.8873\n",
      "Epoch 6/50\n",
      "48000/48000 - 52s - loss: 0.4020 - accuracy: 0.8610 - val_loss: 0.3018 - val_accuracy: 0.8926\n",
      "Epoch 7/50\n",
      "48000/48000 - 54s - loss: 0.3915 - accuracy: 0.8659 - val_loss: 0.2995 - val_accuracy: 0.8892\n",
      "Epoch 8/50\n",
      "48000/48000 - 50s - loss: 0.3792 - accuracy: 0.8704 - val_loss: 0.2828 - val_accuracy: 0.8950\n",
      "Epoch 9/50\n",
      "48000/48000 - 49s - loss: 0.3672 - accuracy: 0.8733 - val_loss: 0.2838 - val_accuracy: 0.8987\n",
      "Epoch 10/50\n",
      "48000/48000 - 49s - loss: 0.3559 - accuracy: 0.8764 - val_loss: 0.3036 - val_accuracy: 0.8917\n",
      "Epoch 11/50\n",
      "48000/48000 - 49s - loss: 0.3544 - accuracy: 0.8761 - val_loss: 0.2856 - val_accuracy: 0.9007\n",
      "Epoch 12/50\n",
      "48000/48000 - 48s - loss: 0.3451 - accuracy: 0.8799 - val_loss: 0.2811 - val_accuracy: 0.9005\n",
      "Epoch 13/50\n",
      "48000/48000 - 50s - loss: 0.3340 - accuracy: 0.8851 - val_loss: 0.2662 - val_accuracy: 0.9038\n",
      "Epoch 14/50\n",
      "48000/48000 - 49s - loss: 0.3404 - accuracy: 0.8836 - val_loss: 0.2839 - val_accuracy: 0.8986\n",
      "Epoch 15/50\n",
      "48000/48000 - 49s - loss: 0.3345 - accuracy: 0.8853 - val_loss: 0.2733 - val_accuracy: 0.9047\n",
      "Epoch 16/50\n",
      "48000/48000 - 49s - loss: 0.3285 - accuracy: 0.8885 - val_loss: 0.2634 - val_accuracy: 0.9027\n",
      "Epoch 17/50\n",
      "48000/48000 - 50s - loss: 0.3280 - accuracy: 0.8861 - val_loss: 0.3010 - val_accuracy: 0.8932\n",
      "Epoch 18/50\n",
      "48000/48000 - 50s - loss: 0.3186 - accuracy: 0.8878 - val_loss: 0.2693 - val_accuracy: 0.9026\n",
      "Epoch 19/50\n",
      "48000/48000 - 50s - loss: 0.3186 - accuracy: 0.8884 - val_loss: 0.2646 - val_accuracy: 0.9061\n",
      "Epoch 20/50\n",
      "48000/48000 - 53s - loss: 0.3137 - accuracy: 0.8901 - val_loss: 0.2641 - val_accuracy: 0.9048\n",
      "Epoch 21/50\n",
      "48000/48000 - 51s - loss: 0.3176 - accuracy: 0.8912 - val_loss: 0.2606 - val_accuracy: 0.9082\n",
      "Epoch 22/50\n",
      "48000/48000 - 52s - loss: 0.3092 - accuracy: 0.8933 - val_loss: 0.2664 - val_accuracy: 0.9021\n",
      "Epoch 23/50\n",
      "48000/48000 - 52s - loss: 0.3082 - accuracy: 0.8929 - val_loss: 0.2566 - val_accuracy: 0.9087\n",
      "Epoch 24/50\n",
      "48000/48000 - 51s - loss: 0.3083 - accuracy: 0.8938 - val_loss: 0.2886 - val_accuracy: 0.9056\n",
      "Epoch 25/50\n",
      "48000/48000 - 50s - loss: 0.3085 - accuracy: 0.8940 - val_loss: 0.2545 - val_accuracy: 0.9069\n",
      "Epoch 26/50\n",
      "48000/48000 - 50s - loss: 0.2998 - accuracy: 0.8972 - val_loss: 0.2628 - val_accuracy: 0.9078\n",
      "Epoch 27/50\n",
      "48000/48000 - 53s - loss: 0.2991 - accuracy: 0.8965 - val_loss: 0.2535 - val_accuracy: 0.9122\n",
      "Epoch 28/50\n",
      "48000/48000 - 53s - loss: 0.2970 - accuracy: 0.8993 - val_loss: 0.2556 - val_accuracy: 0.9073\n",
      "Epoch 29/50\n",
      "48000/48000 - 54s - loss: 0.2945 - accuracy: 0.8977 - val_loss: 0.2614 - val_accuracy: 0.9100\n",
      "Epoch 30/50\n",
      "48000/48000 - 52s - loss: 0.2970 - accuracy: 0.8980 - val_loss: 0.2593 - val_accuracy: 0.9088\n",
      "Epoch 31/50\n",
      "48000/48000 - 50s - loss: 0.2944 - accuracy: 0.8982 - val_loss: 0.2580 - val_accuracy: 0.9033\n",
      "Epoch 32/50\n",
      "48000/48000 - 51s - loss: 0.2889 - accuracy: 0.8981 - val_loss: 0.2562 - val_accuracy: 0.9094\n",
      "Epoch 33/50\n",
      "48000/48000 - 50s - loss: 0.2913 - accuracy: 0.9005 - val_loss: 0.2575 - val_accuracy: 0.9132\n",
      "Epoch 34/50\n",
      "48000/48000 - 51s - loss: 0.2918 - accuracy: 0.9000 - val_loss: 0.2575 - val_accuracy: 0.9082\n",
      "Epoch 35/50\n",
      "48000/48000 - 50s - loss: 0.2906 - accuracy: 0.9001 - val_loss: 0.2656 - val_accuracy: 0.9097\n",
      "Epoch 36/50\n",
      "48000/48000 - 51s - loss: 0.2879 - accuracy: 0.9010 - val_loss: 0.2581 - val_accuracy: 0.9137\n",
      "Epoch 37/50\n",
      "48000/48000 - 53s - loss: 0.2855 - accuracy: 0.9028 - val_loss: 0.2572 - val_accuracy: 0.9123\n",
      "Epoch 38/50\n",
      "48000/48000 - 51s - loss: 0.2795 - accuracy: 0.9031 - val_loss: 0.2493 - val_accuracy: 0.9142\n",
      "Epoch 39/50\n",
      "48000/48000 - 50s - loss: 0.2835 - accuracy: 0.9020 - val_loss: 0.2521 - val_accuracy: 0.9128\n",
      "Epoch 40/50\n",
      "48000/48000 - 50s - loss: 0.2865 - accuracy: 0.9011 - val_loss: 0.2474 - val_accuracy: 0.9146\n",
      "Epoch 41/50\n",
      "48000/48000 - 52s - loss: 0.2824 - accuracy: 0.9035 - val_loss: 0.2565 - val_accuracy: 0.9128\n",
      "Epoch 42/50\n",
      "48000/48000 - 52s - loss: 0.2777 - accuracy: 0.9033 - val_loss: 0.2513 - val_accuracy: 0.9128\n",
      "Epoch 43/50\n",
      "48000/48000 - 49s - loss: 0.2736 - accuracy: 0.9048 - val_loss: 0.2616 - val_accuracy: 0.9140\n",
      "Epoch 44/50\n",
      "48000/48000 - 51s - loss: 0.2822 - accuracy: 0.9038 - val_loss: 0.2590 - val_accuracy: 0.9093\n",
      "Epoch 45/50\n",
      "48000/48000 - 50s - loss: 0.2780 - accuracy: 0.9036 - val_loss: 0.2480 - val_accuracy: 0.9128\n",
      "Epoch 46/50\n",
      "48000/48000 - 51s - loss: 0.2723 - accuracy: 0.9068 - val_loss: 0.2602 - val_accuracy: 0.9117\n",
      "Epoch 47/50\n",
      "48000/48000 - 52s - loss: 0.2751 - accuracy: 0.9047 - val_loss: 0.2520 - val_accuracy: 0.9112\n",
      "Epoch 48/50\n",
      "48000/48000 - 50s - loss: 0.2747 - accuracy: 0.9056 - val_loss: 0.2548 - val_accuracy: 0.9166\n",
      "Epoch 49/50\n",
      "48000/48000 - 49s - loss: 0.2720 - accuracy: 0.9053 - val_loss: 0.2739 - val_accuracy: 0.9038\n",
      "Epoch 50/50\n",
      "48000/48000 - 51s - loss: 0.2807 - accuracy: 0.9050 - val_loss: 0.2489 - val_accuracy: 0.9165\n"
     ]
    },
    {
     "data": {
      "text/plain": [
       "<tensorflow.python.keras.callbacks.History at 0x26d2be7d308>"
      ]
     },
     "execution_count": 15,
     "metadata": {},
     "output_type": "execute_result"
    }
   ],
   "source": [
    "# fit\n",
    "model.compile(loss = 'categorical_crossentropy', optimizer = 'adam', metrics = ['accuracy'])\n",
    "model.fit(x_train, y_train, epochs = 50, batch_size = 64,\n",
    "         validation_split = 0.2, shuffle = True, verbose =2 )"
   ]
  },
  {
   "cell_type": "code",
   "execution_count": 17,
   "metadata": {
    "ExecuteTime": {
     "end_time": "2020-08-10T08:42:53.356495Z",
     "start_time": "2020-08-10T08:42:50.552993Z"
    }
   },
   "outputs": [
    {
     "name": "stdout",
     "output_type": "stream",
     "text": [
      "10000/1 - 3s - loss: 0.2980 - accuracy: 0.9107\n",
      "loss : 0.27662566447257997\n",
      "acc : 0.9107\n"
     ]
    }
   ],
   "source": [
    "# evaluate\n",
    "loss, acc = model.evaluate(x_test, y_test, batch_size=64, verbose=2)\n",
    "print('loss :', loss)\n",
    "print('acc :', acc)"
   ]
  },
  {
   "cell_type": "code",
   "execution_count": null,
   "metadata": {},
   "outputs": [],
   "source": [
    "# DNN model sequential\n",
    "model = Sequential()\n",
    "model.add(Dense(200, activation = 'relu',  input_shape = (28*28, )))\n",
    "model.add(Dropout(0.2))\n",
    "model.add(Dense(150, activation = 'relu'))\n",
    "model.add(Dropout(0.2))\n",
    "model.add(Dense(80, activation = 'relu'))\n",
    "model.add(Dropout(0.2))\n",
    "model.add(Dense(70, activation = 'relu'))\n",
    "model.add(Dropout(0.2))\n",
    "model.add(Dense(60, activation = 'relu'))\n",
    "model.add(Dense(50, activation = 'relu'))\n",
    "model.add(Dense(20, activation = 'relu'))\n",
    "model.add(Dense(10, activation = 'softmax'))\n",
    "\n",
    "# earlystopping\n",
    "from tensorflow.keras.callbacks import EarlyStopping\n",
    "es = EarlyStopping(monitor = 'val_loss', mode = 'auto', patience = 50, verbose = 1)\n",
    "\n",
    "# fit\n",
    "model.compile(loss = 'categorical_crossentropy', optimizer = 'adam', metrics = ['acc'])\n",
    "model.fit(x_train, y_train, epochs = 200, batch_size = 256, callbacks = [es],\n",
    "          validation_split = 0.2, shuffle = True, verbose = 2)\n",
    "\n",
    "# evaluate\n",
    "loss, acc = model.evaluate(x_test, y_test, batch_size = 256)\n",
    "print('loss: ', loss)\n",
    "print('acc: ', acc)"
   ]
  },
  {
   "cell_type": "code",
   "execution_count": null,
   "metadata": {},
   "outputs": [],
   "source": [
    "# LSTM model sequential\n",
    "from tensorflow.keras.layers import LSTM\n",
    "model = Sequential()\n",
    "model.add(LSTM(30, activation = 'relu', input_shape = (28, 28)))\n",
    "model.add(Dense(100, activation = 'relu'))\n",
    "model.add(Dropout(0.2))\n",
    "model.add(Dense(70, activation = 'relu'))\n",
    "model.add(Dropout(0.2))\n",
    "model.add(Dense(50, activation = 'relu'))\n",
    "model.add(Dropout(0.2))\n",
    "model.add(Dense(50, activation = 'relu'))\n",
    "model.add(Dropout(0.2))\n",
    "model.add(Dense(40, activation = 'relu'))\n",
    "model.add(Dropout(0.2))\n",
    "model.add(Dense(20, activation = 'relu'))\n",
    "model.add(Dropout(0.2))\n",
    "model.add(Dense(10, activation = 'softmax'))\n",
    "\n",
    "model.summary()\n",
    "\n",
    "# fit\n",
    "model.compile(loss = 'categorical_crossentropy', optimizer = 'adam', metrics = ['acc'])\n",
    "model.fit(x_train, y_train, epochs = 100, batch_size =64,\n",
    "          validation_split =0.2, shuffle = True, verbose = 2)\n",
    "\n",
    "# evaluate\n",
    "loss, acc = model.evaluate(x_test, y_test, batch_size =64)\n",
    "print('loss: ', loss)\n",
    "print('acc: ', acc)"
   ]
  },
  {
   "cell_type": "code",
   "execution_count": null,
   "metadata": {},
   "outputs": [],
   "source": []
  }
 ],
 "metadata": {
  "kernelspec": {
   "display_name": "Tensorflow",
   "language": "python",
   "name": "tensorflow"
  },
  "language_info": {
   "codemirror_mode": {
    "name": "ipython",
    "version": 3
   },
   "file_extension": ".py",
   "mimetype": "text/x-python",
   "name": "python",
   "nbconvert_exporter": "python",
   "pygments_lexer": "ipython3",
   "version": "3.7.6"
  }
 },
 "nbformat": 4,
 "nbformat_minor": 4
}
