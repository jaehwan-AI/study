{
 "cells": [
  {
   "cell_type": "code",
   "execution_count": null,
   "metadata": {},
   "outputs": [],
   "source": [
    "# EarlyStopping\n",
    "from tensorflow.keras.callbacks import EarlyStopping, ModelCheckpoint\n",
    "es = EarlyStopping(monitor = 'loss', patience = 20)\n",
    "  \n",
    "modelpath = './model/{epoch:02d} - {val_loss:.4f}.hdf5'               # 파일 경로, 파일명 설정\n",
    "# /경로 /파일명(두자리 정수)-(소수점 아래 4자리(float))                                    \n",
    "checkpoint = ModelCheckpoint(filepath= modelpath, monitor='val_loss',\n",
    "                            save_best_only = True, mode = 'auto')    # best만 저장\n",
    "                           #save_weight_only=True -> weight만 저장\n",
    "\n",
    "hist = model.fit(x_train, y_train, epochs= 30, batch_size= 64, verbose = 1 ,\n",
    "                                   callbacks = [es, checkpoint],\n",
    "                                   validation_split=0.2)\n",
    "# hist값이 epoch순으로 저장된다."
   ]
  },
  {
   "cell_type": "code",
   "execution_count": null,
   "metadata": {},
   "outputs": [],
   "source": []
  }
 ],
 "metadata": {
  "kernelspec": {
   "display_name": "Tensorflow",
   "language": "python",
   "name": "tensorflow"
  },
  "language_info": {
   "codemirror_mode": {
    "name": "ipython",
    "version": 3
   },
   "file_extension": ".py",
   "mimetype": "text/x-python",
   "name": "python",
   "nbconvert_exporter": "python",
   "pygments_lexer": "ipython3",
   "version": "3.7.6"
  }
 },
 "nbformat": 4,
 "nbformat_minor": 4
}
