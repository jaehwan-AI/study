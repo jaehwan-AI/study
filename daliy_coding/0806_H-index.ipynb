{
 "cells": [
  {
   "cell_type": "code",
   "execution_count": 8,
   "metadata": {
    "ExecuteTime": {
     "end_time": "2020-08-06T01:50:52.520680Z",
     "start_time": "2020-08-06T01:50:52.516587Z"
    }
   },
   "outputs": [],
   "source": [
    "citations = [3, 0, 6, 1, 5]"
   ]
  },
  {
   "cell_type": "code",
   "execution_count": 9,
   "metadata": {
    "ExecuteTime": {
     "end_time": "2020-08-06T01:50:52.682734Z",
     "start_time": "2020-08-06T01:50:52.679812Z"
    }
   },
   "outputs": [],
   "source": [
    "# 논문 n편 중 h번 이상 인용된 논문이 h편 이상이고\n",
    "# 나머지 논문이 h번이하 인용되었다면 h의 최댓값이 이 과학자의 H-Index"
   ]
  },
  {
   "cell_type": "code",
   "execution_count": 61,
   "metadata": {
    "ExecuteTime": {
     "end_time": "2020-08-06T02:40:58.234907Z",
     "start_time": "2020-08-06T02:40:58.231674Z"
    }
   },
   "outputs": [],
   "source": [
    "# 런타임 에러 코드\n",
    "def solution(citations):\n",
    "    citations.sort()\n",
    "    for i in range(len(citations)):\n",
    "        tmp = [n for n in citations if n >= citations[-(i+1)]]\n",
    "        if citations[-(i+1)] >= len(tmp):\n",
    "            H = i+1\n",
    "    return H"
   ]
  },
  {
   "cell_type": "code",
   "execution_count": 62,
   "metadata": {
    "ExecuteTime": {
     "end_time": "2020-08-06T02:40:58.392554Z",
     "start_time": "2020-08-06T02:40:58.388644Z"
    }
   },
   "outputs": [
    {
     "name": "stdout",
     "output_type": "stream",
     "text": [
      "3\n"
     ]
    }
   ],
   "source": [
    "print(solution(citations))"
   ]
  },
  {
   "cell_type": "code",
   "execution_count": 63,
   "metadata": {
    "ExecuteTime": {
     "end_time": "2020-08-06T02:41:23.170401Z",
     "start_time": "2020-08-06T02:41:23.166487Z"
    }
   },
   "outputs": [],
   "source": [
    "# 런타임 해결 코드\n",
    "def solution(citations):\n",
    "    citations.sort()\n",
    "    length = len(citations)\n",
    "    for i in range(length):\n",
    "        if citations[i] >= length - i:\n",
    "            return length - i\n",
    "    return 0"
   ]
  },
  {
   "cell_type": "code",
   "execution_count": 64,
   "metadata": {
    "ExecuteTime": {
     "end_time": "2020-08-06T02:41:23.363748Z",
     "start_time": "2020-08-06T02:41:23.360831Z"
    }
   },
   "outputs": [
    {
     "name": "stdout",
     "output_type": "stream",
     "text": [
      "3\n"
     ]
    }
   ],
   "source": [
    "print(solution(citations))"
   ]
  },
  {
   "cell_type": "code",
   "execution_count": null,
   "metadata": {},
   "outputs": [],
   "source": []
  }
 ],
 "metadata": {
  "kernelspec": {
   "display_name": "Tensorflow",
   "language": "python",
   "name": "tensorflow"
  },
  "language_info": {
   "codemirror_mode": {
    "name": "ipython",
    "version": 3
   },
   "file_extension": ".py",
   "mimetype": "text/x-python",
   "name": "python",
   "nbconvert_exporter": "python",
   "pygments_lexer": "ipython3",
   "version": "3.7.6"
  }
 },
 "nbformat": 4,
 "nbformat_minor": 4
}
