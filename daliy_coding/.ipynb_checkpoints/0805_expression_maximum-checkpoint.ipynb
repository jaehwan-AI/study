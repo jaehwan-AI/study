{
 "cells": [
  {
   "cell_type": "code",
   "execution_count": 178,
   "metadata": {
    "ExecuteTime": {
     "end_time": "2020-08-05T04:27:29.507535Z",
     "start_time": "2020-08-05T04:27:29.502393Z"
    }
   },
   "outputs": [],
   "source": [
    "from itertools import permutations\n",
    "\n",
    "expression1 = '100-200*300-500+20'\n",
    "\n",
    "cal = ['*', '-', '+']\n",
    "num = ['0', '1', '2', '3', '4', '5', '6', '7', '8', '9']\n",
    "\n",
    "# 연산자에 따른 연산 함수\n",
    "def calculate(num1, num2, op):\n",
    "    if op == '+':\n",
    "        return num1 + num2\n",
    "    elif op == '*':\n",
    "        return num1 * num2\n",
    "    else:\n",
    "        return num1 - num2\n",
    "\n",
    "# 메인 함수\n",
    "def solution(expression):\n",
    "    num_lst = []\n",
    "    cal_lst = []\n",
    "\n",
    "    num_temp = ''\n",
    "    for i in range(len(expression)):\n",
    "        if expression[i] in cal:\n",
    "            cal_lst.append(expression[i]) # 연산자 리스트\n",
    "            num_lst.append(int(num_temp))\n",
    "            num_temp = ''\n",
    "        else:\n",
    "            num_temp += expression[i]\n",
    "            if i == len(expression)-1:\n",
    "                num_lst.append(int(num_temp)) # 숫자 리스트\n",
    "\n",
    "    lst = list(permutations(cal,3)) # 연산자 리스트 경우의 수(순열)\n",
    "    \n",
    "    answer = 0\n",
    "    for pr in lst: # 연산자 경우의 수를 하나씩 가져오기\n",
    "        numbers = num_lst\n",
    "        oper = cal_lst\n",
    "        for i in range(3):\n",
    "            stack = [numbers[0]]\n",
    "            stack_op = []\n",
    "            count = 1\n",
    "            while count < len(numbers):\n",
    "                stack.append(numbers[count])\n",
    "                stack_op.append(oper[count-1])\n",
    "                count += 1\n",
    "                if stack_op[-1] == pr[i]:\n",
    "                    # 우선 순위 연산자가 stack_op에 쌓이는 순간 그 연산자와 마지막에 쌓인 2개의 숫자를 연산하고 stack에 쌓는다\n",
    "                    b = stack.pop(-1)\n",
    "                    a = stack.pop(-1)\n",
    "                    op = stack_op.pop(-1)\n",
    "                    stack.append(calculate(a, b, op))\n",
    "            numbers = stack\n",
    "            oper = stack_op\n",
    "        answer = max(answer, abs(numbers[0])) # 위 반복문을 끝내고 나온 결과들의 절대값 중 최대값을 return 한다\n",
    "    return answer\n",
    "\n",
    "print(solution(expression1))"
   ]
  },
  {
   "cell_type": "code",
   "execution_count": null,
   "metadata": {},
   "outputs": [],
   "source": []
  }
 ],
 "metadata": {
  "kernelspec": {
   "display_name": "Tensorflow",
   "language": "python",
   "name": "tensorflow"
  },
  "language_info": {
   "codemirror_mode": {
    "name": "ipython",
    "version": 3
   },
   "file_extension": ".py",
   "mimetype": "text/x-python",
   "name": "python",
   "nbconvert_exporter": "python",
   "pygments_lexer": "ipython3",
   "version": "3.7.6"
  }
 },
 "nbformat": 4,
 "nbformat_minor": 4
}
